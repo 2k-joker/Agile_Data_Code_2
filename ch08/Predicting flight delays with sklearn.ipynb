{
 "cells": [
  {
   "cell_type": "markdown",
   "metadata": {},
   "source": [
    "# Predicting Flight Delays with sklearn\n",
    "\n",
    "In this notebook, we will be using features we've prepared in PySpark to predict flight delays via regression and classification."
   ]
  },
  {
   "cell_type": "code",
   "execution_count": 38,
   "metadata": {
    "collapsed": false
   },
   "outputs": [
    {
     "name": "stdout",
     "output_type": "stream",
     "text": [
      "Imports worked...\n"
     ]
    }
   ],
   "source": [
    "import sys, os, re\n",
    "sys.path.append(\"lib\")\n",
    "import utils\n",
    "\n",
    "import numpy as np\n",
    "import sklearn\n",
    "print(\"Imports worked...\")"
   ]
  },
  {
   "cell_type": "code",
   "execution_count": null,
   "metadata": {
    "collapsed": false
   },
   "outputs": [],
   "source": [
    "# Load our training data using our json utils. May take a few minutes to load.\n",
    "training_data = utils.read_json_lines_file('../data/simple_flight_delay_features.jsonl')\n",
    "len(training_data) # 5,714,008\n",
    "training_data = training_data[:500000] # 'sampling'\n",
    "print(\"Data loaded...\")"
   ]
  },
  {
   "cell_type": "code",
   "execution_count": 33,
   "metadata": {
    "collapsed": false
   },
   "outputs": [
    {
     "data": {
      "text/plain": [
       "4000096"
      ]
     },
     "execution_count": 33,
     "metadata": {},
     "output_type": "execute_result"
    }
   ],
   "source": [
    "# Separate our results from the rest of the data, vectorize and size up\n",
    "results = [record['DepDelayMinutes'] for record in training_data]\n",
    "results_vector = np.array(results)\n",
    "sys.getsizeof(results_vector) # 45,712,160 bytes"
   ]
  },
  {
   "cell_type": "code",
   "execution_count": 34,
   "metadata": {
    "collapsed": false
   },
   "outputs": [
    {
     "data": {
      "text/plain": [
       "16000000"
      ]
     },
     "execution_count": 34,
     "metadata": {},
     "output_type": "execute_result"
    }
   ],
   "source": [
    "# Remove the two delay fields and the flight date from our training data\n",
    "for item in training_data:\n",
    "  del item['DepDelayMinutes']\n",
    "  del item['ArrDelayMinutes']\n",
    "  del item['FlightDate']\n",
    "\n",
    "# Use DictVectorizer to convert feature dicts to vectors\n",
    "from sklearn.feature_extraction import DictVectorizer\n",
    "\n",
    "vectorizer = DictVectorizer()\n",
    "training_vectors = vectorizer.fit_transform(training_data)\n",
    "training_vectors.data.nbytes # 16,000,000"
   ]
  },
  {
   "cell_type": "code",
   "execution_count": 35,
   "metadata": {
    "collapsed": false
   },
   "outputs": [
    {
     "name": "stdout",
     "output_type": "stream",
     "text": [
      "-0.00114888729151\n"
     ]
    }
   ],
   "source": [
    "# Train a gradient boosted regressor\n",
    "from sklearn.ensemble import GradientBoostingRegressor\n",
    "from sklearn.linear_model import LinearRegression\n",
    "\n",
    "#regressor = GradientBoostingRegressor()\n",
    "regressor = LinearRegression()\n",
    "regressor.fit(training_vectors, results_vector)  # make sure you int() on the number string results\n",
    "\n",
    "# Get the accuracy through cross validation\n",
    "scores = sklearn.cross_validation.cross_val_score(\n",
    "  regressor,\n",
    "  training_vectors.toarray(),\n",
    "  results_vector,\n",
    "  cv=5\n",
    ")\n",
    "print(scores.mean())"
   ]
  },
  {
   "cell_type": "code",
   "execution_count": 20,
   "metadata": {
    "collapsed": false
   },
   "outputs": [
    {
     "name": "stdout",
     "output_type": "stream",
     "text": [
      "Explained variance score: 0.0021941940463685583\n",
      "Mean absolute error:      14.925647659329544\n",
      "Median absolute error:    9.67188954549838\n",
      "r2 score:                 0.002102680589421313\n"
     ]
    }
   ],
   "source": [
    "# Try that again, with our own splits\n",
    "from sklearn.cross_validation import train_test_split, cross_val_predict\n",
    "from sklearn.metrics import explained_variance_score, mean_absolute_error, median_absolute_error, r2_score\n",
    "\n",
    "X_train, X_test, y_train, y_test = train_test_split(\n",
    "  training_vectors.toarray(),\n",
    "  results_vector,\n",
    "  test_size=0.10,\n",
    "  random_state=43\n",
    ")\n",
    "regressor.fit(X_train, y_train)\n",
    "predicted = regressor.predict(X_test)\n",
    "\n",
    "evs = explained_variance_score(y_test, predicted)\n",
    "print(\"Explained variance score: {}\".format(evs))\n",
    "\n",
    "mae = mean_absolute_error(y_test, predicted)\n",
    "print(\"Mean absolute error:      {}\".format(mae))\n",
    "\n",
    "medae = median_absolute_error(y_test, predicted)\n",
    "print(\"Median absolute error:    {}\".format(medae))\n",
    "\n",
    "r2 = r2_score(y_test, predicted)\n",
    "print(\"r2 score:                 {}\".format(r2))"
   ]
  },
  {
   "cell_type": "code",
   "execution_count": 14,
   "metadata": {
    "collapsed": false
   },
   "outputs": [
    {
     "data": {
      "image/png": "[encoded data removed]",
      "text/plain": [
       "<matplotlib.figure.Figure at 0x11a823780>"
      ]
     },
     "metadata": {},
     "output_type": "display_data"
    }
   ],
   "source": [
    "# Plot outputs, see how they fit\n",
    "import matplotlib.pyplot as plt\n",
    "\n",
    "#plt.scatter(X_test, y_test,  color='black')\n",
    "plt.scatter(\n",
    "  y_test,\n",
    "  regressor.predict(X_test),\n",
    "  color='blue',\n",
    "  linewidth=1\n",
    ")\n",
    "\n",
    "plt.xticks(())\n",
    "plt.yticks(())\n",
    "\n",
    "plt.show()"
   ]
  },
  {
   "cell_type": "code",
   "execution_count": 16,
   "metadata": {
    "collapsed": false
   },
   "outputs": [
    {
     "name": "stdout",
     "output_type": "stream",
     "text": [
      "{'FlightNum': 899, 'Carrier': 'AA', 'Origin': 'ABQ', 'Dest': 'CLT'}\n"
     ]
    }
   ],
   "source": [
    "# Now, how would we employ our model in practice to produce predictions?\n",
    "print(training_data[0])\n",
    "\n"
   ]
  }
 ],
 "metadata": {
  "kernelspec": {
   "display_name": "Python 3",
   "language": "python",
   "name": "python3"
  },
  "language_info": {
   "codemirror_mode": {
    "name": "ipython",
    "version": 3
   },
   "file_extension": ".py",
   "mimetype": "text/x-python",
   "name": "python",
   "nbconvert_exporter": "python",
   "pygments_lexer": "ipython3",
   "version": "3.4.3"
  }
 },
 "nbformat": 4,
 "nbformat_minor": 1
}
