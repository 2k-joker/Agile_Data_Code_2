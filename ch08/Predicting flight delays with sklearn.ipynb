{
 "cells": [
  {
   "cell_type": "markdown",
   "metadata": {},
   "source": [
    "# Predicting Flight Delays with sklearn\n",
    "\n",
    "In this notebook, we will be using features we've prepared in PySpark to predict flight delays via regression and classification."
   ]
  },
  {
   "cell_type": "code",
   "execution_count": 1,
   "metadata": {
    "collapsed": false
   },
   "outputs": [
    {
     "name": "stdout",
     "output_type": "stream",
     "text": [
      "Imports worked...\n"
     ]
    }
   ],
   "source": [
    "import sys, os, re\n",
    "sys.path.append(\"lib\")\n",
    "import utils\n",
    "\n",
    "import numpy as np\n",
    "import sklearn\n",
    "print(\"Imports worked...\")"
   ]
  },
  {
   "cell_type": "code",
   "execution_count": 2,
   "metadata": {
    "collapsed": false
   },
   "outputs": [
    {
     "name": "stdout",
     "output_type": "stream",
     "text": [
      "Training items: 5714008\n",
      "Data loaded...\n"
     ]
    }
   ],
   "source": [
    "# Load our training data using our json utils. May take a few minutes to load.\n",
    "training_data = utils.read_json_lines_file('../data/simple_flight_delay_features.jsonl')\n",
    "print(\"Training items: {}\".format(len(training_data))) # 5,714,008\n",
    "print(\"Data loaded...\")"
   ]
  },
  {
   "cell_type": "code",
   "execution_count": 3,
   "metadata": {
    "collapsed": false
   },
   "outputs": [
    {
     "name": "stdout",
     "output_type": "stream",
     "text": [
      "{'FlightDate': '2015-01-01', 'Dest': 'DFW', 'FlightNum': '1024', 'ArrDelay': 13.0, 'DepDelay': 14.0, 'Origin': 'ABQ', 'Carrier': 'AA', 'DayOfYear': '1-1', 'Distance': 569.0}\n"
     ]
    }
   ],
   "source": [
    "# Inspect a record before we alter them\n",
    "print(training_data[0])"
   ]
  },
  {
   "cell_type": "code",
   "execution_count": 4,
   "metadata": {
    "collapsed": false
   },
   "outputs": [
    {
     "name": "stdout",
     "output_type": "stream",
     "text": [
      "Data sampled...\n"
     ]
    }
   ],
   "source": [
    "# Sample down our training data at first...\n",
    "sampled_training_data = np.random.choice(training_data, 10000) # 'Sample down to 500K examples'\n",
    "print(\"Data sampled...\")"
   ]
  },
  {
   "cell_type": "code",
   "execution_count": 5,
   "metadata": {
    "collapsed": false
   },
   "outputs": [
    {
     "name": "stdout",
     "output_type": "stream",
     "text": [
      "Results vectorized...\n"
     ]
    }
   ],
   "source": [
    "# Separate our results from the rest of the data, vectorize and size up\n",
    "results = [record['DepDelay'] for record in sampled_training_data]\n",
    "results_vector = np.array(results)\n",
    "sys.getsizeof(results_vector) # 4,000,096 bytes\n",
    "print(\"Results vectorized...\")"
   ]
  },
  {
   "cell_type": "code",
   "execution_count": 6,
   "metadata": {
    "collapsed": false
   },
   "outputs": [
    {
     "name": "stdout",
     "output_type": "stream",
     "text": [
      "Training data vectorized...\n"
     ]
    }
   ],
   "source": [
    "# Remove the two delay fields and the flight date from our training data\n",
    "for item in sampled_training_data:\n",
    "  item.pop('DepDelay', None)\n",
    "  item.pop('ArrDelay', None)\n",
    "  item.pop('FlightDate', None)\n",
    "\n",
    "# Use DictVectorizer to convert feature dicts to vectors\n",
    "from sklearn.feature_extraction import DictVectorizer\n",
    "\n",
    "vectorizer = DictVectorizer()\n",
    "training_vectors = vectorizer.fit_transform(sampled_training_data)\n",
    "training_vectors.data.nbytes # 16,000,000\n",
    "\n",
    "print(\"Training data vectorized...\")"
   ]
  },
  {
   "cell_type": "code",
   "execution_count": 7,
   "metadata": {
    "collapsed": false
   },
   "outputs": [],
   "source": [
    "# Train a gradient boosted regressor\n",
    "from sklearn.ensemble import GradientBoostingRegressor\n",
    "from sklearn.linear_model import LinearRegression\n",
    "\n",
    "#regressor = GradientBoostingRegressor()\n",
    "regressor = LinearRegression()\n",
    "# regressor.fit(training_vectors, results_vector)  # make sure you int() on the number string results\n",
    "# print(\"Regression fit...\")"
   ]
  },
  {
   "cell_type": "code",
   "execution_count": 8,
   "metadata": {
    "collapsed": false
   },
   "outputs": [],
   "source": [
    "# Get the accuracy through cross validation\n",
    "# scores = sklearn.cross_validation.cross_val_score(\n",
    "#   regressor,\n",
    "#   training_vectors.toarray(),\n",
    "#   results_vector,\n",
    "#   cv=5\n",
    "# )\n",
    "# print(scores.mean())\n"
   ]
  },
  {
   "cell_type": "code",
   "execution_count": 9,
   "metadata": {
    "collapsed": false
   },
   "outputs": [
    {
     "name": "stdout",
     "output_type": "stream",
     "text": [
      "Explained variance score: -0.9482642945069135\n",
      "Mean absolute error:      27.72797857788235\n",
      "Median absolute error:    16.816154413947064\n",
      "r2 score:                 -0.9482647098203028\n"
     ]
    }
   ],
   "source": [
    "# Try that again, with our own splits\n",
    "from sklearn.cross_validation import train_test_split, cross_val_predict\n",
    "from sklearn.metrics import explained_variance_score, mean_absolute_error, median_absolute_error, r2_score\n",
    "import warnings\n",
    "warnings.filterwarnings(action=\"ignore\", module=\"scipy\", message=\"^internal gelsd\")\n",
    "\n",
    "X_train, X_test, y_train, y_test = train_test_split(\n",
    "  training_vectors.toarray(),\n",
    "  results_vector,\n",
    "  test_size=0.10,\n",
    "  random_state=43\n",
    ")\n",
    "regressor.fit(X_train, y_train)\n",
    "predicted = regressor.predict(X_test)\n",
    "\n",
    "evs = explained_variance_score(y_test, predicted)\n",
    "print(\"Explained variance score: {}\".format(evs))\n",
    "\n",
    "mae = mean_absolute_error(y_test, predicted)\n",
    "print(\"Mean absolute error:      {}\".format(mae))\n",
    "\n",
    "medae = median_absolute_error(y_test, predicted)\n",
    "print(\"Median absolute error:    {}\".format(medae))\n",
    "\n",
    "r2 = r2_score(y_test, predicted)\n",
    "print(\"r2 score:                 {}\".format(r2))"
   ]
  },
  {
   "cell_type": "code",
   "execution_count": 10,
   "metadata": {
    "collapsed": false
   },
   "outputs": [
    {
     "data": {
      "image/png": "[encoded data removed]",
      "text/plain": [
       "<matplotlib.figure.Figure at 0x27cf763c8>"
      ]
     },
     "metadata": {},
     "output_type": "display_data"
    }
   ],
   "source": [
    "# Plot outputs, see how they fit\n",
    "import matplotlib.pyplot as plt\n",
    "\n",
    "#plt.scatter(X_test, y_test,  color='black')\n",
    "plt.scatter(\n",
    "  y_test,\n",
    "  regressor.predict(X_test),\n",
    "  color='blue',\n",
    "  linewidth=1\n",
    ")\n",
    "\n",
    "plt.xticks(())\n",
    "plt.yticks(())\n",
    "\n",
    "plt.show()"
   ]
  },
  {
   "cell_type": "markdown",
   "metadata": {
    "collapsed": false
   },
   "source": [
    "### Now, how would we employ our model in practice to produce predictions?\n",
    "\n"
   ]
  }
 ],
 "metadata": {
  "kernelspec": {
   "display_name": "Python 3",
   "language": "python",
   "name": "python3"
  },
  "language_info": {
   "codemirror_mode": {
    "name": "ipython",
    "version": 3
   },
   "file_extension": ".py",
   "mimetype": "text/x-python",
   "name": "python",
   "nbconvert_exporter": "python",
   "pygments_lexer": "ipython3",
   "version": "3.4.3"
  }
 },
 "nbformat": 4,
 "nbformat_minor": 1
}
