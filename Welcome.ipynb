{
 "cells": [
  {
   "cell_type": "markdown",
   "metadata": {},
   "source": [
    "# Agile Data Science Class\n",
    "\n",
    "Welcome to the Agile Data Science 2.0 Class! During this course we will walk you through how to iteratively create big data applications using agile methods. First, we will introduce the tools. Go to "
   ]
  },
  {
   "cell_type": "markdown",
   "metadata": {},
   "source": [
    "## Chapter 2: Agile Tools\n",
    "\n",
    "Now that we've covered the material on the theory of agile methods for data science, lets get acquainted with our tools! We'll go over the major components of the agile data science stack and introduce you to each one. We'll get started executing code right away!\n",
    "\n",
    "Click the link for the notebook for [Chapter 2: Agile Tools](ch02/Agile Tools.ipynb) now!"
   ]
  },
  {
   "cell_type": "code",
   "execution_count": null,
   "metadata": {
    "collapsed": true
   },
   "outputs": [],
   "source": []
  }
 ],
 "metadata": {
  "kernelspec": {
   "display_name": "Python 3",
   "language": "python",
   "name": "python3"
  },
  "language_info": {
   "codemirror_mode": {
    "name": "ipython",
    "version": 3
   },
   "file_extension": ".py",
   "mimetype": "text/x-python",
   "name": "python",
   "nbconvert_exporter": "python",
   "pygments_lexer": "ipython3",
   "version": "3.6.2"
  }
 },
 "nbformat": 4,
 "nbformat_minor": 2
}
