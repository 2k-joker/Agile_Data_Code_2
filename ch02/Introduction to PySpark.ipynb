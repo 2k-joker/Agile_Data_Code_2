{
 "cells": [
  {
   "cell_type": "markdown",
   "metadata": {},
   "source": [
    "# Initialize PySpark\n",
    "\n",
    "First, we use the findspark package to initialize PySpark."
   ]
  },
  {
   "cell_type": "code",
   "execution_count": 1,
   "metadata": {},
   "outputs": [
    {
     "name": "stdout",
     "output_type": "stream",
     "text": [
      "PySpark initiated...\n"
     ]
    }
   ],
   "source": [
    "# Initialize PySpark\n",
    "APP_NAME = \"Debugging Prediction Problems\"\n",
    "\n",
    "# If there is no SparkSession, create the environment\n",
    "try:\n",
    "  sc and spark\n",
    "except NameError as e:\n",
    "  import findspark\n",
    "  findspark.init()\n",
    "  import pyspark\n",
    "  import pyspark.sql\n",
    "\n",
    "  sc = pyspark.SparkContext()\n",
    "  spark = pyspark.sql.SparkSession(sc).builder.appName(APP_NAME).getOrCreate()\n",
    "\n",
    "print(\"PySpark initiated...\")"
   ]
  },
  {
   "cell_type": "markdown",
   "metadata": {},
   "source": [
    "# Hello, World!\n",
    "\n",
    "Loading data, mapping it and collecting the records into RAM..."
   ]
  },
  {
   "cell_type": "code",
   "execution_count": 2,
   "metadata": {},
   "outputs": [
    {
     "data": {
      "text/plain": [
       "[['Russell Jurney', 'Relato', 'CEO'],\n",
       " ['Florian Liebert', 'Mesosphere', 'CEO'],\n",
       " ['Don Brown', 'Rocana', 'CIO'],\n",
       " ['Steve Jobs', 'Apple', 'CEO'],\n",
       " ['Donald Trump', 'The Trump Organization', 'CEO'],\n",
       " ['Russell Jurney', 'Data Syndrome', 'Principal Consultant']]"
      ]
     },
     "execution_count": 2,
     "metadata": {},
     "output_type": "execute_result"
    }
   ],
   "source": [
    "# Load the text file using the SparkContext\n",
    "csv_lines = sc.textFile(\"../data/example.csv\")\n",
    "\n",
    "# Map the data to split the lines into a list\n",
    "data = csv_lines.map(lambda line: line.split(\",\"))\n",
    "\n",
    "# Collect the dataset into local RAM\n",
    "data.collect()"
   ]
  },
  {
   "cell_type": "markdown",
   "metadata": {},
   "source": [
    "# Creating Objects from CSV using `pyspark.RDD.map`\n",
    "\n",
    "Using a function with a map operation to create objects (dicts) as records..."
   ]
  },
  {
   "cell_type": "code",
   "execution_count": 3,
   "metadata": {},
   "outputs": [
    {
     "data": {
      "text/plain": [
       "{'name': 'Russell Jurney', 'company': 'Relato', 'title': 'CEO'}"
      ]
     },
     "execution_count": 3,
     "metadata": {},
     "output_type": "execute_result"
    }
   ],
   "source": [
    "# Turn the CSV lines into objects\n",
    "def csv_to_record(line):\n",
    "  parts = line.split(\",\")\n",
    "  record = {\n",
    "    \"name\": parts[0],\n",
    "    \"company\": parts[1],\n",
    "    \"title\": parts[2]\n",
    "  }\n",
    "  return record\n",
    "\n",
    "# Apply the function to every record\n",
    "records = csv_lines.map(csv_to_record)\n",
    "\n",
    "# Inspect the first item in the dataset\n",
    "records.first()"
   ]
  },
  {
   "cell_type": "markdown",
   "metadata": {},
   "source": [
    "# `pyspark.RDD.groupBy`\n",
    "\n",
    "Using the groupBy operator to count the number of jobs per person..."
   ]
  },
  {
   "cell_type": "code",
   "execution_count": 4,
   "metadata": {},
   "outputs": [
    {
     "data": {
      "text/plain": [
       "[{'name': 'Florian Liebert', 'job_count': 1},\n",
       " {'name': 'Russell Jurney', 'job_count': 2},\n",
       " {'name': 'Don Brown', 'job_count': 1},\n",
       " {'name': 'Steve Jobs', 'job_count': 1},\n",
       " {'name': 'Donald Trump', 'job_count': 1}]"
      ]
     },
     "execution_count": 4,
     "metadata": {},
     "output_type": "execute_result"
    }
   ],
   "source": [
    "# Group the records by the name of the person\n",
    "grouped_records = records.groupBy(lambda x: x[\"name\"])\n",
    "\n",
    "# Show the first group\n",
    "grouped_records.first()\n",
    "\n",
    "# Count the groups\n",
    "job_counts = grouped_records.map(\n",
    "  lambda x: {\n",
    "    \"name\": x[0],\n",
    "    \"job_count\": len(x[1])\n",
    "  }\n",
    ")\n",
    "\n",
    "job_counts.collect()"
   ]
  },
  {
   "cell_type": "markdown",
   "metadata": {},
   "source": [
    "## Exercises\n",
    "\n",
    "1. Use `pyspark.RDD.groupBy` to group executives by job title, then prepare records with the job title and the count of the number of executives with that job."
   ]
  },
  {
   "cell_type": "markdown",
   "metadata": {},
   "source": [
    "# Map vs FlatMap\n",
    "\n",
    "We need to understand the difference between the map and flatmap operators. Map groups items per-record, while flatMap creates a single large group of items."
   ]
  },
  {
   "cell_type": "code",
   "execution_count": 5,
   "metadata": {},
   "outputs": [
    {
     "data": {
      "text/plain": [
       "[['Russell Jurney', 'Relato', 'CEO'],\n",
       " ['Florian Liebert', 'Mesosphere', 'CEO'],\n",
       " ['Don Brown', 'Rocana', 'CIO'],\n",
       " ['Steve Jobs', 'Apple', 'CEO'],\n",
       " ['Donald Trump', 'The Trump Organization', 'CEO'],\n",
       " ['Russell Jurney', 'Data Syndrome', 'Principal Consultant']]"
      ]
     },
     "execution_count": 5,
     "metadata": {},
     "output_type": "execute_result"
    }
   ],
   "source": [
    "# Compute a relation of words by line\n",
    "words_by_line = csv_lines\\\n",
    "  .map(lambda line: line.split(\",\"))\n",
    "\n",
    "words_by_line.collect()"
   ]
  },
  {
   "cell_type": "code",
   "execution_count": 10,
   "metadata": {},
   "outputs": [
    {
     "data": {
      "text/plain": [
       "['Russell Jurney',\n",
       " 'Relato',\n",
       " 'CEO',\n",
       " 'Florian Liebert',\n",
       " 'Mesosphere',\n",
       " 'CEO',\n",
       " 'Don Brown',\n",
       " 'Rocana',\n",
       " 'CIO',\n",
       " 'Steve Jobs',\n",
       " 'Apple',\n",
       " 'CEO',\n",
       " 'Donald Trump',\n",
       " 'The Trump Organization',\n",
       " 'CEO',\n",
       " 'Russell Jurney',\n",
       " 'Data Syndrome',\n",
       " 'Principal Consultant']"
      ]
     },
     "execution_count": 10,
     "metadata": {},
     "output_type": "execute_result"
    }
   ],
   "source": [
    "# Compute a relation of words\n",
    "flattened_words = csv_lines\\\n",
    "  .map(lambda line: line.split(\",\"))\\\n",
    "  .flatMap(lambda x: x)\n",
    "flattened_words.collect()"
   ]
  },
  {
   "cell_type": "code",
   "execution_count": 11,
   "metadata": {},
   "outputs": [
    {
     "data": {
      "text/plain": [
       "[14, 6, 3, 15, 10, 3, 9, 6, 3, 10, 5, 3, 12, 22, 3, 14, 13, 20]"
      ]
     },
     "execution_count": 11,
     "metadata": {},
     "output_type": "execute_result"
    }
   ],
   "source": [
    "lengths = flattened_words.map(lambda x: len(x))\n",
    "lengths.collect()"
   ]
  },
  {
   "cell_type": "code",
   "execution_count": 13,
   "metadata": {},
   "outputs": [
    {
     "data": {
      "text/plain": [
       "9.5"
      ]
     },
     "execution_count": 13,
     "metadata": {},
     "output_type": "execute_result"
    }
   ],
   "source": [
    "lengths.sum() / lengths.count()"
   ]
  },
  {
   "cell_type": "markdown",
   "metadata": {},
   "source": [
    "# Creating Rows\n",
    "\n",
    "We can create `pyspark.sql.Rows` out of python objects so you we create `pyspark.sql.DataFrames`. This is desirable because once we have `DataFrames` we can run Spark SQL on our data."
   ]
  },
  {
   "cell_type": "code",
   "execution_count": 33,
   "metadata": {},
   "outputs": [
    {
     "data": {
      "text/plain": [
       "Row(company='Relato', name='Russell Jurney', title='CEO')"
      ]
     },
     "execution_count": 33,
     "metadata": {},
     "output_type": "execute_result"
    }
   ],
   "source": [
    "from pyspark.sql import Row\n",
    "\n",
    "# Convert the CSV into a pyspark.sql.Row\n",
    "def csv_to_row(line):\n",
    "  parts = line.split(\",\")\n",
    "  row = Row(\n",
    "    name=parts[0],\n",
    "    company=parts[1],\n",
    "    title=parts[2]\n",
    "  )\n",
    "  return row\n",
    "\n",
    "# Apply the function to get rows in an RDD\n",
    "rows = csv_lines.map(csv_to_row)\n",
    "rows.first()"
   ]
  },
  {
   "cell_type": "markdown",
   "metadata": {},
   "source": [
    "## Exercises\n",
    "\n",
    "1. First count the number of job titles for each executive, then create a `pyspark.sql.Row` for this result."
   ]
  },
  {
   "cell_type": "code",
   "execution_count": 32,
   "metadata": {},
   "outputs": [
    {
     "data": {
      "text/plain": [
       "[Row(count=1, name='Florian Liebert'),\n",
       " Row(count=2, name='Russell Jurney'),\n",
       " Row(count=1, name='Don Brown'),\n",
       " Row(count=1, name='Steve Jobs'),\n",
       " Row(count=1, name='Donald Trump')]"
      ]
     },
     "execution_count": 32,
     "metadata": {},
     "output_type": "execute_result"
    }
   ],
   "source": [
    "records = csv_lines.map(lambda line: line.split(','))\n",
    "records.collect()\n",
    "\n",
    "groups = records.groupBy(lambda x: x[0])\n",
    "counts = groups.map(lambda x: (x[0], len(x[1])))\n",
    "new_rows = counts.map(lambda x: Row(name=x[0], count=x[1]))\n",
    "new_rows.collect()"
   ]
  },
  {
   "cell_type": "code",
   "execution_count": 31,
   "metadata": {},
   "outputs": [
    {
     "name": "stdout",
     "output_type": "stream",
     "text": [
      "+---------------+-----+\n",
      "|           name|count|\n",
      "+---------------+-----+\n",
      "|Florian Liebert|    1|\n",
      "| Russell Jurney|    2|\n",
      "|      Don Brown|    1|\n",
      "|     Steve Jobs|    1|\n",
      "|   Donald Trump|    1|\n",
      "+---------------+-----+\n",
      "\n"
     ]
    }
   ],
   "source": [
    "rows.toDF().select(\"name\",\"count\").show()"
   ]
  },
  {
   "cell_type": "markdown",
   "metadata": {},
   "source": [
    "# Creating `DataFrames` from `RDDs`\n",
    "\n",
    "Using the `RDD.toDF()` method to create a dataframe, registering the `DataFrame` as a temporary table with Spark SQL, and counting the jobs per person using Spark SQL."
   ]
  },
  {
   "cell_type": "code",
   "execution_count": 37,
   "metadata": {},
   "outputs": [
    {
     "name": "stdout",
     "output_type": "stream",
     "text": [
      "+--------------------+---------------+--------------------+\n",
      "|             company|           name|               title|\n",
      "+--------------------+---------------+--------------------+\n",
      "|              Relato| Russell Jurney|                 CEO|\n",
      "|          Mesosphere|Florian Liebert|                 CEO|\n",
      "|              Rocana|      Don Brown|                 CIO|\n",
      "|               Apple|     Steve Jobs|                 CEO|\n",
      "|The Trump Organiz...|   Donald Trump|                 CEO|\n",
      "|       Data Syndrome| Russell Jurney|Principal Consultant|\n",
      "+--------------------+---------------+--------------------+\n",
      "\n",
      "+---------------+-----+\n",
      "|           name|total|\n",
      "+---------------+-----+\n",
      "|   Donald Trump|    1|\n",
      "|Florian Liebert|    1|\n",
      "|      Don Brown|    1|\n",
      "| Russell Jurney|    2|\n",
      "|     Steve Jobs|    1|\n",
      "+---------------+-----+\n",
      "\n"
     ]
    },
    {
     "data": {
      "text/plain": [
       "[{'name': 'Donald Trump', 'total': 1},\n",
       " {'name': 'Florian Liebert', 'total': 1},\n",
       " {'name': 'Don Brown', 'total': 1},\n",
       " {'name': 'Russell Jurney', 'total': 2},\n",
       " {'name': 'Steve Jobs', 'total': 1}]"
      ]
     },
     "execution_count": 37,
     "metadata": {},
     "output_type": "execute_result"
    }
   ],
   "source": [
    "# Convert to a pyspark.sql.DataFrame\n",
    "rows_df = rows.toDF()\n",
    "\n",
    "rows_df.show()\n",
    "\n",
    "# Register the DataFrame for Spark SQL\n",
    "rows_df.registerTempTable(\"executives\")\n",
    "\n",
    "# Generate a new DataFrame with SQL using the SparkSession\n",
    "job_counts = spark.sql(\"\"\"\n",
    "SELECT\n",
    "  name,\n",
    "  COUNT(*) AS total\n",
    "  FROM executives\n",
    "  GROUP BY name\n",
    "\"\"\")\n",
    "job_counts.show()\n",
    "\n",
    "# Go back to an RDD\n",
    "job_counts.rdd.map(lambda x: x.asDict()).collect()"
   ]
  },
  {
   "cell_type": "markdown",
   "metadata": {},
   "source": [
    "## `SparkContext.parallelize()`\n",
    "\n",
    "The oppotiste of `pyspark.RDD.collect()` is `SparkContext.parallelize()`. Whereas `collect` pulls data from Spark's memory into local RAM, `parallelize` sends data from local memory to Spark's memory. \n",
    "\n",
    "You can access it like this: "
   ]
  },
  {
   "cell_type": "code",
   "execution_count": 38,
   "metadata": {},
   "outputs": [
    {
     "data": {
      "text/plain": [
       "1"
      ]
     },
     "execution_count": 38,
     "metadata": {},
     "output_type": "execute_result"
    }
   ],
   "source": [
    "my_rdd = sc.parallelize([1,2,3,4,5])\n",
    "my_rdd.first()"
   ]
  },
  {
   "cell_type": "markdown",
   "metadata": {},
   "source": [
    "## Exercises\n",
    "\n",
    "1. Create your own RDD of `dict` elements with named fields using sc.parallelize. Make it at least 5 records long.\n",
    "2. Convert this RDD of `dicts` into an RDD of `pyspark.sql.Row` elements.\n",
    "3. Convert this RDD of `pyspark.sql.Rows` into a `pyspark.sql.DataFrame`.\n",
    "4. Run a SQL `GROUP BY`/`COUNT` on your new `DataFrame`."
   ]
  },
  {
   "cell_type": "code",
   "execution_count": 42,
   "metadata": {},
   "outputs": [
    {
     "name": "stdout",
     "output_type": "stream",
     "text": [
      "+---------------+--------------+\n",
      "|       interest|          name|\n",
      "+---------------+--------------+\n",
      "| Ancient Greece|Russell Jurney|\n",
      "|Virtual Reality|  Chris Jurney|\n",
      "|         Sports|   Bill Jurney|\n",
      "|       Wildlife|   Ruth Jurney|\n",
      "|         Sports|     Bob Smith|\n",
      "+---------------+--------------+\n",
      "\n",
      "+---------------+-----+\n",
      "|       interest|total|\n",
      "+---------------+-----+\n",
      "|Virtual Reality|    1|\n",
      "|         Sports|    2|\n",
      "|       Wildlife|    1|\n",
      "| Ancient Greece|    1|\n",
      "+---------------+-----+\n",
      "\n"
     ]
    }
   ],
   "source": [
    "my_data = [\n",
    "    {\"name\": \"Russell Jurney\", \"interest\": \"Ancient Greece\"},\n",
    "    {\"name\": \"Chris Jurney\", \"interest\": \"Virtual Reality\"},\n",
    "    {\"name\": \"Bill Jurney\", \"interest\": \"Sports\"},\n",
    "    {\"name\": \"Ruth Jurney\", \"interest\": \"Wildlife\"},\n",
    "    {\"name\": \"Bob Smith\", \"interest\": \"Sports\"}\n",
    "]\n",
    "my_rdd = sc.parallelize(my_data)\n",
    "my_rows = my_rdd.map(lambda x: Row(name=x[\"name\"], interest=x[\"interest\"]))\n",
    "\n",
    "my_df = my_rows.toDF()\n",
    "my_df.show()\n",
    "\n",
    "my_df.registerTempTable(\"people\")\n",
    "spark.sql(\"\"\"SELECT interest, COUNT(*) as total FROM people GROUP BY interest\"\"\").show()"
   ]
  },
  {
   "cell_type": "markdown",
   "metadata": {},
   "source": [
    "## Creating `RDDs` from `DataFrames`\n",
    "\n",
    "We can easily convert back from a `DataFrame` to an `RDD` using the `pyspark.sql.DataFrame.rdd()` method, along with `pyspark.sql.Row.asDict()` if we desire a Python `dict` of our records."
   ]
  },
  {
   "cell_type": "code",
   "execution_count": 43,
   "metadata": {},
   "outputs": [
    {
     "data": {
      "text/plain": [
       "[{'name': 'Donald Trump', 'total': 1},\n",
       " {'name': 'Florian Liebert', 'total': 1},\n",
       " {'name': 'Don Brown', 'total': 1},\n",
       " {'name': 'Russell Jurney', 'total': 2},\n",
       " {'name': 'Steve Jobs', 'total': 1}]"
      ]
     },
     "execution_count": 43,
     "metadata": {},
     "output_type": "execute_result"
    }
   ],
   "source": [
    "job_counts.rdd.map(lambda x: x.asDict()).collect()"
   ]
  },
  {
   "cell_type": "markdown",
   "metadata": {},
   "source": [
    "## Exercises\n",
    "\n",
    "1. Using the data from item 4 in the exercise above, convert the data back to its original form, a local collection of `dict` elements."
   ]
  },
  {
   "cell_type": "code",
   "execution_count": 44,
   "metadata": {},
   "outputs": [
    {
     "data": {
      "text/plain": [
       "[{'interest': 'Ancient Greece', 'name': 'Russell Jurney'},\n",
       " {'interest': 'Virtual Reality', 'name': 'Chris Jurney'},\n",
       " {'interest': 'Sports', 'name': 'Bill Jurney'},\n",
       " {'interest': 'Wildlife', 'name': 'Ruth Jurney'},\n",
       " {'interest': 'Sports', 'name': 'Bob Smith'}]"
      ]
     },
     "execution_count": 44,
     "metadata": {},
     "output_type": "execute_result"
    }
   ],
   "source": [
    "my_df.rdd.map(lambda x: x.asDict()).collect()"
   ]
  },
  {
   "cell_type": "markdown",
   "metadata": {},
   "source": [
    "# Loading and Inspecting Parquet Files\n",
    "\n",
    "Using the `SparkSession` to load files as `DataFrames` and inspecting their contents..."
   ]
  },
  {
   "cell_type": "code",
   "execution_count": 45,
   "metadata": {},
   "outputs": [
    {
     "data": {
      "text/plain": [
       "['Year',\n",
       " 'Quarter',\n",
       " 'Month',\n",
       " 'DayofMonth',\n",
       " 'DayOfWeek',\n",
       " 'FlightDate',\n",
       " 'Carrier',\n",
       " 'TailNum',\n",
       " 'FlightNum',\n",
       " 'Origin',\n",
       " 'OriginCityName',\n",
       " 'OriginState',\n",
       " 'Dest',\n",
       " 'DestCityName',\n",
       " 'DestState',\n",
       " 'DepTime',\n",
       " 'DepDelay',\n",
       " 'DepDelayMinutes',\n",
       " 'TaxiOut',\n",
       " 'TaxiIn',\n",
       " 'WheelsOff',\n",
       " 'WheelsOn',\n",
       " 'ArrTime',\n",
       " 'ArrDelay',\n",
       " 'ArrDelayMinutes',\n",
       " 'Cancelled',\n",
       " 'Diverted',\n",
       " 'ActualElapsedTime',\n",
       " 'AirTime',\n",
       " 'Flights',\n",
       " 'Distance',\n",
       " 'CarrierDelay',\n",
       " 'WeatherDelay',\n",
       " 'NASDelay',\n",
       " 'SecurityDelay',\n",
       " 'LateAircraftDelay',\n",
       " 'CRSDepTime',\n",
       " 'CRSArrTime']"
      ]
     },
     "execution_count": 45,
     "metadata": {},
     "output_type": "execute_result"
    }
   ],
   "source": [
    "# Load the parquet file containing flight delay records\n",
    "on_time_dataframe = spark.read.parquet('../data/on_time_performance.parquet')\n",
    "\n",
    "# Register the data for Spark SQL\n",
    "on_time_dataframe.registerTempTable(\"on_time_performance\")\n",
    "\n",
    "# Check out the columns\n",
    "on_time_dataframe.columns"
   ]
  },
  {
   "cell_type": "code",
   "execution_count": 54,
   "metadata": {},
   "outputs": [
    {
     "name": "stdout",
     "output_type": "stream",
     "text": [
      "+----------+-------+------+----+-------+--------+--------+\n",
      "|FlightDate|TailNum|Origin|Dest|Carrier|DepDelay|ArrDelay|\n",
      "+----------+-------+------+----+-------+--------+--------+\n",
      "|2015-01-01| N307JB|   JFK| IAD|     B6|    30.0|    27.0|\n",
      "|2015-01-01| N558JB|   FLL| HPN|     B6|     1.0|    -7.0|\n",
      "|2015-01-01| N11121|   CMH| ORD|     EV|    -6.0|   -19.0|\n",
      "|2015-01-11| N75854|   SFO| DEN|     UA|     7.0|    11.0|\n",
      "|2015-01-12| N364NB|   MSP| PSP|     DL|     1.0|   -26.0|\n",
      "|2015-01-12| N578SW|   LAX| PSP|     OO|     2.0|    -1.0|\n",
      "|2015-01-13| N3HAAA|   MCO| ORD|     AA|    -2.0|    -8.0|\n",
      "|2015-01-13| N14977|   IND| EWR|     EV|    -8.0|    10.0|\n",
      "|2015-01-14| N206JB|   DCA| BOS|     B6|    -8.0|    18.0|\n",
      "|2015-01-15| N14562|   SYR| IAD|     EV|    -5.0|    -1.0|\n",
      "+----------+-------+------+----+-------+--------+--------+\n",
      "only showing top 10 rows\n",
      "\n",
      "+----------+-------+------+----+-------+--------+--------+\n",
      "|FlightDate|TailNum|Origin|Dest|Carrier|DepDelay|ArrDelay|\n",
      "+----------+-------+------+----+-------+--------+--------+\n",
      "|2015-01-01| N006AA|   DFW| ATL|     AA|    null|    null|\n",
      "|2015-01-01| N011AA|   DFW| CLE|     AA|    47.0|    42.0|\n",
      "|2015-01-01| N016AA|   MIA| IAH|     AA|    42.0|    49.0|\n",
      "|2015-01-01| N023AA|   IAH| MIA|     AA|    90.0|    89.0|\n",
      "|2015-01-01| N023AA|   STL| MIA|     AA|   109.0|   106.0|\n",
      "|2015-01-01| N023AA|   MIA| IAD|     AA|    82.0|    72.0|\n",
      "|2015-01-01| N200AA|   DEN| DFW|     AA|    75.0|   119.0|\n",
      "|2015-01-01| N200AA|   DFW| OMA|     AA|   124.0|   111.0|\n",
      "|2015-01-01| N202AA|   MCO| DFW|     AA|    -3.0|     5.0|\n",
      "|2015-01-01| N353AA|   MCO| MIA|     AA|     0.0|   -10.0|\n",
      "+----------+-------+------+----+-------+--------+--------+\n",
      "only showing top 10 rows\n",
      "\n"
     ]
    }
   ],
   "source": [
    "# Trim the fields and keep the result\n",
    "trimmed_on_time = on_time_dataframe\\\n",
    "  .select(\n",
    "    \"FlightDate\",\n",
    "    \"TailNum\",\n",
    "    \"Origin\",\n",
    "    \"Dest\",\n",
    "    \"Carrier\",\n",
    "    \"DepDelay\",\n",
    "    \"ArrDelay\"\n",
    "  )\n",
    "\n",
    "# Sample 0.01% of the data and show\n",
    "trimmed_on_time.sample(False, 0.0001).show(10)\n",
    "\n",
    "sampled_ten_percent = trimmed_on_time.sample(False, 0.1)\n",
    "sampled_ten_percent.show(10)"
   ]
  },
  {
   "cell_type": "markdown",
   "metadata": {},
   "source": [
    "## `DataFrame` Workflow: Calculating Speed in Dataflow and SQL\n",
    "\n",
    "We can go back and forth between dataflow programming and SQL programming using `pyspark.sql.DataFrames`. This enables us to get the best of both worlds from these two APIs. For example, if we want to group records and get a total count for each group... a SQL `SELECT/GROUP BY/COUNT` is the most direct way to do it. On the other hand, if we want to filter data, a dataflow API call like `DataFrame.filter()` is the cleanest way. This comes down to personal preference for the user. In time you will develop your own style of working.\n",
    "\n",
    "### Dataflow Programming\n",
    "\n",
    "If we were to look at the `AirTime` along with the `Distance`, we could get a good idea of how fast the airplanes were going. Pretty cool! Lets do this using Dataflows first.\n",
    "\n",
    "#### Trimming Our Data\n",
    "\n",
    "First lets select just the two columns of interest: `AirTime` and `Distance`. We can always go back and select more columns if we want to extend our analysis, but trimming uneeded fields optimizes performance right away."
   ]
  },
  {
   "cell_type": "code",
   "execution_count": 55,
   "metadata": {},
   "outputs": [
    {
     "name": "stdout",
     "output_type": "stream",
     "text": [
      "+-------+--------+\n",
      "|AirTime|Distance|\n",
      "+-------+--------+\n",
      "|   59.0|   432.0|\n",
      "|   77.0|   432.0|\n",
      "|  129.0|   802.0|\n",
      "|   93.0|   731.0|\n",
      "|  111.0|   769.0|\n",
      "|  108.0|   769.0|\n",
      "+-------+--------+\n",
      "only showing top 6 rows\n",
      "\n"
     ]
    }
   ],
   "source": [
    "fd = on_time_dataframe.select(\"AirTime\", \"Distance\")\n",
    "fd.show(6)"
   ]
  },
  {
   "cell_type": "markdown",
   "metadata": {},
   "source": [
    "#### From Minutes to Hours\n",
    "\n",
    "Now lets convert our `AirTime` from minutes to hours by dividing by 60."
   ]
  },
  {
   "cell_type": "code",
   "execution_count": 56,
   "metadata": {},
   "outputs": [
    {
     "name": "stdout",
     "output_type": "stream",
     "text": [
      "+------------------+--------+\n",
      "|             Hours|Distance|\n",
      "+------------------+--------+\n",
      "|0.9833333333333333|   432.0|\n",
      "|1.2833333333333334|   432.0|\n",
      "|              2.15|   802.0|\n",
      "|              1.55|   731.0|\n",
      "|              1.85|   769.0|\n",
      "+------------------+--------+\n",
      "only showing top 5 rows\n",
      "\n"
     ]
    }
   ],
   "source": [
    "hourly_fd = fd.select((fd.AirTime / 60).alias('Hours'), \"Distance\")\n",
    "hourly_fd.show(5)"
   ]
  },
  {
   "cell_type": "markdown",
   "metadata": {},
   "source": [
    "#### Raw Calculation\n",
    "\n",
    "Now lets calculate miles per hour!"
   ]
  },
  {
   "cell_type": "code",
   "execution_count": 57,
   "metadata": {},
   "outputs": [
    {
     "name": "stdout",
     "output_type": "stream",
     "text": [
      "+------------------+\n",
      "|               Mph|\n",
      "+------------------+\n",
      "| 439.3220338983051|\n",
      "| 336.6233766233766|\n",
      "| 373.0232558139535|\n",
      "|471.61290322580646|\n",
      "| 415.6756756756757|\n",
      "|427.22222222222223|\n",
      "| 430.2739726027398|\n",
      "|              null|\n",
      "|              null|\n",
      "|              null|\n",
      "+------------------+\n",
      "only showing top 10 rows\n",
      "\n"
     ]
    }
   ],
   "source": [
    "miles_per_hour = hourly_fd.select(\n",
    "    (hourly_fd.Distance / hourly_fd.Hours).alias('Mph')\n",
    ")\n",
    "miles_per_hour.show(10)"
   ]
  },
  {
   "cell_type": "markdown",
   "metadata": {},
   "source": [
    "#### Investigating `nulls`\n",
    "\n",
    "Looks like we have some errors in some records in our calculation because of missing fields? Lets bring back in the `Distance` and `AirTime` fields to see where the problem is coming from."
   ]
  },
  {
   "cell_type": "code",
   "execution_count": 58,
   "metadata": {},
   "outputs": [
    {
     "name": "stdout",
     "output_type": "stream",
     "text": [
      "+-------+------------------+--------+\n",
      "|AirTime|             Hours|Distance|\n",
      "+-------+------------------+--------+\n",
      "|   59.0|0.9833333333333333|   432.0|\n",
      "|   77.0|1.2833333333333334|   432.0|\n",
      "|  129.0|              2.15|   802.0|\n",
      "|   93.0|              1.55|   731.0|\n",
      "|  111.0|              1.85|   769.0|\n",
      "|  108.0|               1.8|   769.0|\n",
      "|  146.0| 2.433333333333333|  1047.0|\n",
      "|   null|              null|  1007.0|\n",
      "|   null|              null|  1007.0|\n",
      "|   null|              null|   802.0|\n",
      "|   null|              null|   731.0|\n",
      "|  122.0| 2.033333333333333|   731.0|\n",
      "|   94.0|1.5666666666666667|   731.0|\n",
      "|   91.0|1.5166666666666666|   731.0|\n",
      "|  115.0|1.9166666666666667|   731.0|\n",
      "|   89.0|1.4833333333333334|   731.0|\n",
      "|  106.0|1.7666666666666666|   721.0|\n",
      "|   94.0|1.5666666666666667|   748.0|\n",
      "|   null|              null|   733.0|\n",
      "|   null|              null|   733.0|\n",
      "+-------+------------------+--------+\n",
      "only showing top 20 rows\n",
      "\n"
     ]
    }
   ],
   "source": [
    "fd.select(\n",
    "    \"AirTime\", \n",
    "    (fd.AirTime / 60).alias('Hours'), \n",
    "    \"Distance\"\n",
    ").show()"
   ]
  },
  {
   "cell_type": "markdown",
   "metadata": {},
   "source": [
    "#### Filtering `nulls`\n",
    "\n",
    "Now that we know some records are missing `AirTimes`, we can filter those records using `pyspark.sql.DataFrame.filter()`. Starting from the beginning, lets recalculate our values."
   ]
  },
  {
   "cell_type": "code",
   "execution_count": 59,
   "metadata": {},
   "outputs": [
    {
     "name": "stdout",
     "output_type": "stream",
     "text": [
      "+------------------+\n",
      "|               Mph|\n",
      "+------------------+\n",
      "| 439.3220338983051|\n",
      "| 336.6233766233766|\n",
      "| 373.0232558139535|\n",
      "|471.61290322580646|\n",
      "| 415.6756756756757|\n",
      "|427.22222222222223|\n",
      "| 430.2739726027398|\n",
      "| 359.5081967213115|\n",
      "|466.59574468085106|\n",
      "|  481.978021978022|\n",
      "+------------------+\n",
      "only showing top 10 rows\n",
      "\n"
     ]
    }
   ],
   "source": [
    "fd = on_time_dataframe.select(\"AirTime\", \"Distance\")\n",
    "filled_fd = fd.filter(fd.AirTime.isNotNull())\n",
    "hourly_fd = filled_fd.select(\n",
    "    \"AirTime\", \n",
    "    (filled_fd.AirTime / 60).alias('Hours'), \n",
    "    \"Distance\"\n",
    ")\n",
    "mph = hourly_fd.select((hourly_fd.Distance / hourly_fd.Hours).alias('Mph'))\n",
    "mph.show(10)"
   ]
  },
  {
   "cell_type": "markdown",
   "metadata": {},
   "source": [
    "#### Averaging Speed\n",
    "\n",
    "How fast does the fleet travel overall? Lets compute the average speed for the entire fleet."
   ]
  },
  {
   "cell_type": "code",
   "execution_count": 60,
   "metadata": {},
   "outputs": [
    {
     "name": "stdout",
     "output_type": "stream",
     "text": [
      "+------------------+\n",
      "|          avg(Mph)|\n",
      "+------------------+\n",
      "|402.81670624356184|\n",
      "+------------------+\n",
      "\n"
     ]
    }
   ],
   "source": [
    "from pyspark.sql.functions import avg\n",
    "\n",
    "mph.select(\n",
    "    pyspark.sql.functions.avg(mph.Mph)\n",
    ").show()"
   ]
  },
  {
   "cell_type": "markdown",
   "metadata": {},
   "source": [
    "It looks like the average speed of the fleet is 408 mph. Note how along the way we chekced the data for sanity, which led to confidence in our answer. SQL by contast can hide the internals of a query, which might have skewed our average significantly! \n",
    "\n",
    "### SQL-Based Speed Calculation\n",
    "\n",
    "Now lets work the same thing out in SQL. Starting from the top:"
   ]
  },
  {
   "cell_type": "code",
   "execution_count": 62,
   "metadata": {},
   "outputs": [
    {
     "name": "stdout",
     "output_type": "stream",
     "text": [
      "+------------------+\n",
      "|               Mph|\n",
      "+------------------+\n",
      "| 439.3220338983051|\n",
      "| 336.6233766233766|\n",
      "| 373.0232558139535|\n",
      "|471.61290322580646|\n",
      "| 415.6756756756757|\n",
      "|427.22222222222223|\n",
      "| 430.2739726027398|\n",
      "| 359.5081967213115|\n",
      "|466.59574468085106|\n",
      "|  481.978021978022|\n",
      "+------------------+\n",
      "only showing top 10 rows\n",
      "\n",
      "+------------------+\n",
      "|          avg(Mph)|\n",
      "+------------------+\n",
      "|402.81670624356184|\n",
      "+------------------+\n",
      "\n"
     ]
    }
   ],
   "source": [
    "on_time_dataframe.registerTempTable(\"on_time_performance\")\n",
    "\n",
    "mph = spark.sql(\"\"\"\n",
    "SELECT ( Distance / ( AirTime/60 ) ) AS Mph \n",
    "FROM on_time_performance \n",
    "WHERE AirTime IS NOT NULL\n",
    "\"\"\")\n",
    "mph.show(10)\n",
    "\n",
    "mph.registerTempTable(\"mph\")\n",
    "spark.sql(\"SELECT AVG(Mph) from mph\").show()"
   ]
  },
  {
   "cell_type": "markdown",
   "metadata": {},
   "source": [
    "### Evaluating SQL\n",
    "\n",
    "The SQL based solution seems to be better in this case, because we can simply express our calculation all in one place. When complexity grows however, it is best to break a single query into multiple stages where you use SQL or Dataflow programming to massage the data into shape."
   ]
  },
  {
   "cell_type": "markdown",
   "metadata": {},
   "source": [
    "# Calculating Histograms\n",
    "\n",
    "Having computed the speed in miles per hour and the overall average speed of passenger jets in the US, lets dig deeper by using the `RDD` API's histogram method to calculate histograms buckets and values, which will then use to visualize data."
   ]
  },
  {
   "cell_type": "code",
   "execution_count": 66,
   "metadata": {},
   "outputs": [
    {
     "data": {
      "text/plain": [
       "([32.34375,\n",
       "  107.89626024590164,\n",
       "  183.4487704918033,\n",
       "  259.0012807377049,\n",
       "  334.5537909836066,\n",
       "  410.10630122950823,\n",
       "  485.65881147540983,\n",
       "  561.2113217213115,\n",
       "  636.7638319672132,\n",
       "  712.3163422131148,\n",
       "  787.8688524590165],\n",
       " [174, 14255, 148314, 643901, 1861699, 2357002, 664609, 23997, 32, 25])"
      ]
     },
     "execution_count": 66,
     "metadata": {},
     "output_type": "execute_result"
    }
   ],
   "source": [
    "# Compute a histogram of departure delays\n",
    "mph\\\n",
    "  .select(\"Mph\")\\\n",
    "  .rdd\\\n",
    "  .flatMap(lambda x: x)\\\n",
    "  .histogram(10)"
   ]
  },
  {
   "cell_type": "markdown",
   "metadata": {},
   "source": [
    "# Visualizing Histograms\n",
    "\n",
    "The problem with the output above is that it is hard to interpret. For better understanding, we need a visualization. We can use `matplotlib` inline in a Jupyter Notebook to visualize this distribution and see what the tendency of speed of airplanes is around the mean of 408 mph."
   ]
  },
  {
   "cell_type": "code",
   "execution_count": 63,
   "metadata": {},
   "outputs": [
    {
     "data": {
      "text/plain": [
       "<BarContainer object of 10 artists>"
      ]
     },
     "execution_count": 63,
     "metadata": {},
     "output_type": "execute_result"
    },
    {
     "data": {
      "image/png": "[encoded data removed]",
      "text/plain": [
       "<Figure size 432x288 with 1 Axes>"
      ]
     },
     "metadata": {},
     "output_type": "display_data"
    }
   ],
   "source": [
    "%matplotlib inline\n",
    "\n",
    "import numpy as np\n",
    "import matplotlib.mlab as mlab\n",
    "import matplotlib.pyplot as plt\n",
    "\n",
    "# Function to plot a histogram using pyplot\n",
    "def create_hist(rdd_histogram_data):\n",
    "  \"\"\"Given an RDD.histogram, plot a pyplot histogram\"\"\"\n",
    "  heights = np.array(rdd_histogram_data[1])\n",
    "  full_bins = rdd_histogram_data[0]\n",
    "  mid_point_bins = full_bins[:-1]\n",
    "  widths = [abs(i - j) for i, j in zip(full_bins[:-1], full_bins[1:])]\n",
    "  bar = plt.bar(mid_point_bins, heights, width=widths, color='b')\n",
    "  return bar\n",
    "\n",
    "# Compute a histogram of departure delays\n",
    "departure_delay_histogram = mph\\\n",
    "  .select(\"Mph\")\\\n",
    "  .rdd\\\n",
    "  .flatMap(lambda x: x)\\\n",
    "  .histogram(10)\n",
    "\n",
    "create_hist(departure_delay_histogram)"
   ]
  },
  {
   "cell_type": "markdown",
   "metadata": {},
   "source": [
    "## Iterating on a Histogram\n",
    "\n",
    "That looks interesting, but the bars seem to fat the really see what is going on. Lets double the number of buckets from 10 to 20. We can reuse the `create_hist()` method to do so."
   ]
  },
  {
   "cell_type": "code",
   "execution_count": 64,
   "metadata": {},
   "outputs": [
    {
     "data": {
      "text/plain": [
       "<BarContainer object of 20 artists>"
      ]
     },
     "execution_count": 64,
     "metadata": {},
     "output_type": "execute_result"
    },
    {
     "data": {
      "image/png": "[encoded data removed]",
      "text/plain": [
       "<Figure size 432x288 with 1 Axes>"
      ]
     },
     "metadata": {},
     "output_type": "display_data"
    }
   ],
   "source": [
    "# Compute a histogram of departure delays\n",
    "departure_delay_histogram = mph\\\n",
    "  .select(\"Mph\")\\\n",
    "  .rdd\\\n",
    "  .flatMap(lambda x: x)\\\n",
    "  .histogram(20)\n",
    "\n",
    "create_hist(departure_delay_histogram)"
   ]
  },
  {
   "cell_type": "markdown",
   "metadata": {},
   "source": [
    "## Speed Summary\n",
    "\n",
    "You've now seen how to calculate different values in both SQL and Dataflow style, how to switch between the two methods, how to switch between the `pyspark.RDD` and `pyspark.sql.DataFrame` APIs and you're starting to build a proficiency in PySpark!"
   ]
  },
  {
   "cell_type": "markdown",
   "metadata": {},
   "source": [
    "# Counting Airplanes in the US Fleet\n",
    "\n",
    "Lets convert our `on_time_dataframe` (a `DataFrame`) into an `RDD` to calculate the total number of airplanes in the US fleet."
   ]
  },
  {
   "cell_type": "code",
   "execution_count": 65,
   "metadata": {},
   "outputs": [
    {
     "name": "stdout",
     "output_type": "stream",
     "text": [
      "Total airplanes: 4405\n"
     ]
    }
   ],
   "source": [
    "# Dump the unneeded fields\n",
    "tail_numbers = on_time_dataframe.rdd.map(lambda x: x.TailNum)\n",
    "tail_numbers = tail_numbers.filter(lambda x: x != '' and x is not None)\n",
    "\n",
    "# distinct() gets us unique tail numbers\n",
    "unique_tail_numbers = tail_numbers.distinct()\n",
    "\n",
    "# now we need a count() of unique tail numbers\n",
    "airplane_count = unique_tail_numbers.count()\n",
    "print(\"Total airplanes: {}\".format(airplane_count))"
   ]
  },
  {
   "cell_type": "markdown",
   "metadata": {},
   "source": [
    "# Exercise 1: Characterizing Airports\n",
    "\n",
    "Using the techniques we demonstated above, calculate any 3 out of 4 of the following things using both the SQL and the Dataflow methods for each one. That is: implement each calculation twice - once in SQL and once using Dataflows. Try to use both the `RDD` and `DataFrame` APIs as you work.\n",
    "\n",
    "1. How many airports are there in the united states?\n",
    "2. What is the average flight time for flights arriving in San Francisco (SFO)? What does the distribution of this value look like? Plot a histogram using the `create_hist` method shown above.\n",
    "3. Which American airport has the fastest out-bound speeds? What does the distribution of the flight speeds at this one airport look like? Plot a histogram using the `create_hist` method shown above.\n",
    "4. What were the worst travel dates in terms of overall delayed flights in the US in 2015?"
   ]
  },
  {
   "cell_type": "code",
   "execution_count": 72,
   "metadata": {},
   "outputs": [
    {
     "data": {
      "text/plain": [
       "['Year',\n",
       " 'Quarter',\n",
       " 'Month',\n",
       " 'DayofMonth',\n",
       " 'DayOfWeek',\n",
       " 'FlightDate',\n",
       " 'Carrier',\n",
       " 'TailNum',\n",
       " 'FlightNum',\n",
       " 'Origin',\n",
       " 'OriginCityName',\n",
       " 'OriginState',\n",
       " 'Dest',\n",
       " 'DestCityName',\n",
       " 'DestState',\n",
       " 'DepTime',\n",
       " 'DepDelay',\n",
       " 'DepDelayMinutes',\n",
       " 'TaxiOut',\n",
       " 'TaxiIn',\n",
       " 'WheelsOff',\n",
       " 'WheelsOn',\n",
       " 'ArrTime',\n",
       " 'ArrDelay',\n",
       " 'ArrDelayMinutes',\n",
       " 'Cancelled',\n",
       " 'Diverted',\n",
       " 'ActualElapsedTime',\n",
       " 'AirTime',\n",
       " 'Flights',\n",
       " 'Distance',\n",
       " 'CarrierDelay',\n",
       " 'WeatherDelay',\n",
       " 'NASDelay',\n",
       " 'SecurityDelay',\n",
       " 'LateAircraftDelay',\n",
       " 'CRSDepTime',\n",
       " 'CRSArrTime']"
      ]
     },
     "execution_count": 72,
     "metadata": {},
     "output_type": "execute_result"
    }
   ],
   "source": [
    "on_time_dataframe.columns"
   ]
  },
  {
   "cell_type": "markdown",
   "metadata": {},
   "source": [
    "## Calculating with `DataFrame.groupBy`\n",
    "\n",
    "We can use Spark SQL to calculate things using `DataFrames`, but we can also group data and calculate as we did with `RDDs`. For a full list of methods you can apply to grouped `DataFrames`, see [the documentation for pyspark.sql.GroupedData](http://spark.apache.org/docs/latest/api/python/pyspark.sql.html#pyspark.sql.GroupedData). Below we will demonstrate some of these methods."
   ]
  },
  {
   "cell_type": "code",
   "execution_count": null,
   "metadata": {},
   "outputs": [],
   "source": [
    "# Calculate average of every numeric field\n",
    "on_time_dataframe.groupBy(\"Origin\").avg().show(1)\n",
    "\n",
    "# Calculate verage AirTime per origin city\n",
    "on_time_dataframe.groupBy(\"Origin\").agg({\"AirTime\": \"mean\"}).show(1)\n",
    "\n",
    "# Get the count of flights from each origin\n",
    "on_time_dataframe.groupBy(\"Origin\").count().show(1)\n",
    "\n",
    "# Get the maximum airtime for flights leaving each city\n",
    "on_time_dataframe.groupby(\"Origin\").agg({\"AirTime\": \"max\"}).show(1)\n",
    "\n",
    "# Get the maximum of all numeric columns for flights leaving each city\n",
    "on_time_dataframe.groupBy(\"Origin\").max().show(1)\n",
    "\n",
    "# Get the shortest flight for each origin airport\n",
    "on_time_dataframe.groupBy(\"Origin\").agg({\"AirTime\": \"min\"}).show(1)\n",
    "\n",
    "# Total minutes flown from each airport\n",
    "on_time_dataframe.groupBy(\"Origin\").agg({\"AirTime\": \"sum\"}).show(1)"
   ]
  },
  {
   "cell_type": "markdown",
   "metadata": {},
   "source": [
    "### Pivoting DataFrames\n",
    "\n",
    "One useful function of `DataFrames` is `pivot`. Pivot lets you compute pivot tables from data. Lets use `pivot` to calculate the average flight times between Atlanta `ATL` and other airports."
   ]
  },
  {
   "cell_type": "code",
   "execution_count": 91,
   "metadata": {},
   "outputs": [
    {
     "data": {
      "text/plain": [
       "{'Origin': 'ATL',\n",
       " 'ABE': 94.36486486486487,\n",
       " 'ABQ': 181.2962962962963,\n",
       " 'ABY': 29.109756097560975,\n",
       " 'AEX': 82.97321428571429,\n",
       " 'AGS': 28.794117647058822,\n",
       " 'ALB': 106.43529411764706,\n",
       " 'ASE': 196.9,\n",
       " 'ATW': 108.11428571428571,\n",
       " 'AUS': 124.88030888030887,\n",
       " 'AVL': 32.456647398843934,\n",
       " 'AVP': 93.45161290322581,\n",
       " 'AZO': 84.42857142857143,\n",
       " 'BDL': 106.6625,\n",
       " 'BHM': 30.0078125,\n",
       " 'BMI': 83.7910447761194,\n",
       " 'BNA': 40.204633204633204,\n",
       " 'BOS': 117.07733333333333,\n",
       " 'BQK': 40.372093023255815,\n",
       " 'BTR': 73.27312775330397,\n",
       " 'BTV': 117.40625,\n",
       " 'BUF': 94.75,\n",
       " 'BWI': 78.6926406926407,\n",
       " 'BZN': 226.93333333333334,\n",
       " 'CAE': 33.13478260869565,\n",
       " 'CAK': 74.36559139784946,\n",
       " 'CHA': 24.265700483091788,\n",
       " 'CHO': 65.22727272727273,\n",
       " 'CHS': 42.1440329218107,\n",
       " 'CID': 108.2159090909091,\n",
       " 'CLE': 79.13656387665198,\n",
       " 'CLT': 40.72909698996656,\n",
       " 'CMH': 66.7546468401487,\n",
       " 'COS': 165.96296296296296,\n",
       " 'CRW': 56.793103448275865,\n",
       " 'CSG': 20.890243902439025,\n",
       " 'CVG': 59.027624309392266,\n",
       " 'DAB': 53.032786885245905,\n",
       " 'DAL': 113.6547619047619,\n",
       " 'DAY': 65.21487603305785,\n",
       " 'DCA': 76.16134751773049,\n",
       " 'DEN': 174.74550128534705,\n",
       " 'DFW': 117.38496240601503,\n",
       " 'DHN': 33.8235294117647,\n",
       " 'DSM': 111.17721518987342,\n",
       " 'DTW': 88.24827586206897,\n",
       " 'ECP': 42.31764705882353,\n",
       " 'EGE': 188.51612903225808,\n",
       " 'ELM': 91.33333333333333,\n",
       " 'ELP': 181.83333333333334,\n",
       " 'EVV': 59.17977528089887,\n",
       " 'EWN': 59.32142857142857,\n",
       " 'EWR': 98.9,\n",
       " 'EYW': 86.36619718309859,\n",
       " 'FAR': 152.0,\n",
       " 'FAY': 49.742138364779876,\n",
       " 'FLL': 84.14577259475219,\n",
       " 'FNT': 91.67045454545455,\n",
       " 'FSD': 138.53125,\n",
       " 'FSM': 92.68354430379746,\n",
       " 'FWA': 74.0,\n",
       " 'GNV': 47.28,\n",
       " 'GPT': 58.86614173228347,\n",
       " 'GRB': 113.26470588235294,\n",
       " 'GRK': 122.79245283018868,\n",
       " 'GRR': 90.43103448275862,\n",
       " 'GSO': 48.78947368421053,\n",
       " 'GSP': 29.799145299145298,\n",
       " 'GTR': 44.96470588235294,\n",
       " 'HDN': 192.25,\n",
       " 'HNL': 571.46875,\n",
       " 'HOU': 113.24181360201511,\n",
       " 'HPN': 105.88,\n",
       " 'HSV': 31.893939393939394,\n",
       " 'IAD': 76.19607843137256,\n",
       " 'IAH': 110.1685393258427,\n",
       " 'ICT': 116.20238095238095,\n",
       " 'ILM': 53.78947368421053,\n",
       " 'IND': 67.17168674698796,\n",
       " 'JAC': 219.25,\n",
       " 'JAN': 56.985781990521325,\n",
       " 'JAX': 42.80522565320665,\n",
       " 'JFK': 101.55555555555556,\n",
       " 'LAN': 86.25,\n",
       " 'LAS': 239.15584415584416,\n",
       " 'LAX': 261.52061855670104,\n",
       " 'LEX': 50.47572815533981,\n",
       " 'LFT': 81.66666666666667,\n",
       " 'LGA': 99.90961262553802,\n",
       " 'LIT': 73.12574850299401,\n",
       " 'LNK': 125.89655172413794,\n",
       " 'MBS': 92.5,\n",
       " 'MCI': 108.64102564102564,\n",
       " 'MCO': 60.52900552486188,\n",
       " 'MDT': 84.0909090909091,\n",
       " 'MDW': 91.82552083333333,\n",
       " 'MEM': 58.97864768683274,\n",
       " 'MGM': 31.873096446700508,\n",
       " 'MHT': 117.13333333333334,\n",
       " 'MIA': 83.90249433106575,\n",
       " 'MKE': 98.99649122807017,\n",
       " 'MLB': 62.743801652892564,\n",
       " 'MLI': 95.14942528735632,\n",
       " 'MLU': 76.28947368421052,\n",
       " 'MOB': 54.06185567010309,\n",
       " 'MSN': 101.64516129032258,\n",
       " 'MSO': 250.0,\n",
       " 'MSP': 133.88657407407408,\n",
       " 'MSY': 71.54166666666667,\n",
       " 'MTJ': 193.75,\n",
       " 'MYR': 47.06956521739131,\n",
       " 'OAJ': 55.69298245614035,\n",
       " 'OAK': 280.0,\n",
       " 'OKC': 115.35393258426966,\n",
       " 'OMA': 124.49342105263158,\n",
       " 'ONT': 252.33333333333334,\n",
       " 'ORD': 95.59381443298969,\n",
       " 'ORF': 66.41538461538461,\n",
       " 'PBI': 80.75342465753425,\n",
       " 'PDX': 297.25882352941176,\n",
       " 'PHF': 72.83333333333333,\n",
       " 'PHL': 92.74087591240875,\n",
       " 'PHX': 225.58529411764707,\n",
       " 'PIA': 88.06666666666666,\n",
       " 'PIT': 73.25087108013938,\n",
       " 'PNS': 47.88383838383838,\n",
       " 'PVD': 110.4125,\n",
       " 'PWM': 121.53846153846153,\n",
       " 'RAP': 168.0,\n",
       " 'RDU': 53.388636363636365,\n",
       " 'RIC': 64.06896551724138,\n",
       " 'ROA': 56.8859649122807,\n",
       " 'ROC': 96.84444444444445,\n",
       " 'RST': 124.90322580645162,\n",
       " 'RSW': 73.43352601156069,\n",
       " 'SAN': 253.6413043478261,\n",
       " 'SAT': 133.35227272727272,\n",
       " 'SAV': 36.5938864628821,\n",
       " 'SBN': 88.98198198198199,\n",
       " 'SCE': 88.66666666666667,\n",
       " 'SDF': 54.50833333333333,\n",
       " 'SEA': 300.890625,\n",
       " 'SFO': 284.21771217712177,\n",
       " 'SGF': 91.48360655737704,\n",
       " 'SHV': 88.6,\n",
       " 'SJC': 280.9583333333333,\n",
       " 'SJU': 179.140350877193,\n",
       " 'SLC': 220.62995594713655,\n",
       " 'SMF': 277.09090909090907,\n",
       " 'SNA': 256.4431818181818,\n",
       " 'SRQ': 64.72527472527473,\n",
       " 'STL': 79.3201219512195,\n",
       " 'STT': 182.81690140845072,\n",
       " 'STX': 187.6,\n",
       " 'SYR': 101.82022471910112,\n",
       " 'TLH': 40.666666666666664,\n",
       " 'TPA': 61.13355592654424,\n",
       " 'TRI': 39.95294117647059,\n",
       " 'TTN': 93.3076923076923,\n",
       " 'TUL': 102.80281690140845,\n",
       " 'TUS': 212.89285714285714,\n",
       " 'TYS': 30.152542372881356,\n",
       " 'VLD': 38.08045977011494,\n",
       " 'VPS': 44.7953216374269,\n",
       " 'XNA': 94.01369863013699}"
      ]
     },
     "execution_count": 91,
     "metadata": {},
     "output_type": "execute_result"
    }
   ],
   "source": [
    "on_time_dataframe\\\n",
    "    .filter(\"Origin == 'ATL'\")\\\n",
    "    .groupBy(\"Origin\")\\\n",
    "    .pivot(\"Dest\")\\\n",
    "    .avg(\"AirTime\")\\\n",
    "    .rdd\\\n",
    "    .map(lambda x: x.asDict())\\\n",
    "    .collect()[0]"
   ]
  },
  {
   "cell_type": "markdown",
   "metadata": {},
   "source": [
    "# Plotting Scatterplots\n",
    "\n",
    "Another type of visualization that is of interest to data scientists is the scatterplot. A scatterplot enables us to compare the trend of one value plotted against the other. For example, we could calculate the relationship between `Origin` and `Dest` `Distance` and the `Mph` speed figure we calculated earlier. Are longer flights generally faster, or not?\n",
    "\n",
    "To prepare a scatterplot, we need to use `matplotlib` again, so we'll need to look at what its scatterplot API expects. The `matplotlib.pyplot.scatter` API takes two independant lists of values for the variables x and y, so we must compute them for `Distance` and `Mph`."
   ]
  },
  {
   "cell_type": "code",
   "execution_count": 73,
   "metadata": {},
   "outputs": [
    {
     "name": "stdout",
     "output_type": "stream",
     "text": [
      "+--------+------------------+\n",
      "|Distance|               Mph|\n",
      "+--------+------------------+\n",
      "|   432.0| 439.3220338983051|\n",
      "|   432.0| 336.6233766233766|\n",
      "|   802.0| 373.0232558139535|\n",
      "|   731.0|471.61290322580646|\n",
      "|   769.0| 415.6756756756757|\n",
      "|   769.0|427.22222222222223|\n",
      "|  1047.0| 430.2739726027398|\n",
      "|   731.0| 359.5081967213115|\n",
      "|   731.0|466.59574468085106|\n",
      "|   731.0|  481.978021978022|\n",
      "+--------+------------------+\n",
      "only showing top 10 rows\n",
      "\n"
     ]
    }
   ],
   "source": [
    "mph = spark.sql(\"\"\"\n",
    "SELECT \n",
    "    Distance, \n",
    "    ( Distance / ( AirTime/60 ) ) AS Mph \n",
    "FROM on_time_performance \n",
    "WHERE AirTime IS NOT NULL\n",
    "\"\"\")\n",
    "mph.show(10)"
   ]
  },
  {
   "cell_type": "markdown",
   "metadata": {},
   "source": [
    "### Collecting Data\n",
    "\n",
    "Note that we will have to convert our data from existing within our Spark cluster's memory to within our local computer's memory where `matplotlib` runs."
   ]
  },
  {
   "cell_type": "code",
   "execution_count": 83,
   "metadata": {},
   "outputs": [
    {
     "data": {
      "text/plain": [
       "[432.0,\n",
       " 432.0,\n",
       " 802.0,\n",
       " 731.0,\n",
       " 769.0,\n",
       " 769.0,\n",
       " 1047.0,\n",
       " 731.0,\n",
       " 731.0,\n",
       " 731.0,\n",
       " 731.0,\n",
       " 731.0,\n",
       " 721.0,\n",
       " 748.0,\n",
       " 1021.0,\n",
       " 1021.0,\n",
       " 731.0,\n",
       " 678.0,\n",
       " 678.0,\n",
       " 594.0]"
      ]
     },
     "execution_count": 83,
     "metadata": {},
     "output_type": "execute_result"
    }
   ],
   "source": [
    "distance = mph.select(\"Distance\").rdd.flatMap(lambda x: x)\n",
    "distance = distance.collect()\n",
    "distance[0:10]"
   ]
  },
  {
   "cell_type": "code",
   "execution_count": 87,
   "metadata": {},
   "outputs": [
    {
     "data": {
      "text/plain": [
       "[439.3220338983051,\n",
       " 336.6233766233766,\n",
       " 373.0232558139535,\n",
       " 471.61290322580646,\n",
       " 415.6756756756757,\n",
       " 427.22222222222223,\n",
       " 430.2739726027398,\n",
       " 359.5081967213115,\n",
       " 466.59574468085106,\n",
       " 481.978021978022]"
      ]
     },
     "execution_count": 87,
     "metadata": {},
     "output_type": "execute_result"
    }
   ],
   "source": [
    "speed = mph.select(\"Mph\").rdd.flatMap(lambda x: x)\n",
    "speed = speed.collect()\n",
    "speed[0:10]"
   ]
  },
  {
   "cell_type": "markdown",
   "metadata": {},
   "source": [
    "## Sampling Data\n",
    "\n",
    "When I tried to plot this data, it took a very long time to draw. This is because... well, how many unique values are there for each variable? Lets see."
   ]
  },
  {
   "cell_type": "code",
   "execution_count": 88,
   "metadata": {},
   "outputs": [
    {
     "name": "stdout",
     "output_type": "stream",
     "text": [
      "Total distances: 5,714,008\n",
      "Total speeds: 5,714,008\n"
     ]
    }
   ],
   "source": [
    "print(\"Total distances: {:,}\".format(len(distance)))\n",
    "print(\"Total speeds: {:,}\".format(len(speed)))"
   ]
  },
  {
   "cell_type": "markdown",
   "metadata": {},
   "source": [
    "It is hard to plot 5.7 million dots on a scatterplot that will fit on a computer screen. So lets sample our data. We can use PySpark `DataFrame's` sample method. Lets take a 0.1% random sample without replacement, which will leave us with 5,687 or so data points - something we can more easily manage."
   ]
  },
  {
   "cell_type": "code",
   "execution_count": 92,
   "metadata": {},
   "outputs": [
    {
     "data": {
      "text/plain": [
       "5713"
      ]
     },
     "execution_count": 92,
     "metadata": {},
     "output_type": "execute_result"
    }
   ],
   "source": [
    "sample = mph.sample(False, 0.001)\n",
    "sample.count()"
   ]
  },
  {
   "cell_type": "markdown",
   "metadata": {},
   "source": [
    "Note that we need to sample __once__ and then split the datasets out - otherwise the data for a single observation will be scrambled across variables. We don't want that! All our scatterplots would show no relationships at all."
   ]
  },
  {
   "cell_type": "code",
   "execution_count": 94,
   "metadata": {},
   "outputs": [
    {
     "name": "stdout",
     "output_type": "stream",
     "text": [
      "5,713 x 5,713 records!\n"
     ]
    }
   ],
   "source": [
    "speed = sample.select(\"Mph\").rdd.flatMap(lambda x: x).collect()\n",
    "distance = sample.select(\"Distance\").rdd.flatMap(lambda x: x).collect()\n",
    "print(\"{:,} x {:,} records!\".format(\n",
    "    len(speed),\n",
    "    len(distance)\n",
    "))"
   ]
  },
  {
   "cell_type": "markdown",
   "metadata": {},
   "source": [
    "### Fun with `matplotlib.pyplot.scatter`\n",
    "\n",
    "Now we feed the `scatter` API `distance` as `x` and `speed` as `y`, giving it a title and x and y axes. Note that we also specify a size in inches via the `figure.figsize` `rcParam`."
   ]
  },
  {
   "cell_type": "code",
   "execution_count": 105,
   "metadata": {},
   "outputs": [
    {
     "data": {
      "image/png": "[encoded data removed]",
      "text/plain": [
       "<Figure size 1296x864 with 1 Axes>"
      ]
     },
     "metadata": {},
     "output_type": "display_data"
    }
   ],
   "source": [
    "%matplotlib inline\n",
    "\n",
    "import numpy as np\n",
    "import matplotlib.pyplot as plt\n",
    "\n",
    "plt.rcParams[\"figure.figsize\"] = (18,12)\n",
    "\n",
    "plt.scatter(\n",
    "    distance, \n",
    "    speed, \n",
    "    alpha=0.5\n",
    ")\n",
    "plt.title(\"Distance x Speed\")\n",
    "plt.xlabel(\"Distance\")\n",
    "plt.ylabel(\"Speed\")\n",
    "plt.show()"
   ]
  },
  {
   "cell_type": "markdown",
   "metadata": {},
   "source": [
    "### Interpreting Our Scatterplot\n",
    "\n",
    "We can see pretty clearly that as distance increases, average speed across that distance increases rapidly and then levels off as the distance increases.\n",
    "\n",
    "## Exercises\n",
    "\n",
    "1. Query the `on_time_dataframe` to focus on two numeric fields. \n",
    "2. Plot a histogram of one of these fields\n",
    "3. Plot a scatterplot of both of these fields\n",
    "\n",
    "# Predicting Speed Given Distance\n",
    "\n",
    "It is often the case that once we characterize a distribution, we want to create a function to predict one variable given the other. Lets take this example further by fitting a polynomial regression to describe our data. We use `sklearn.pipeline.Pipeline` to chain a `sklearn.preprocessing.PolynomialFeatures` to a `sklearn.linear_model.LinearRegression`. Other than that, we simply define x and y, and fit a model to those values. Then we finally compute a cross value score, to see the model's performance. We'll see this pattern again when we use large data tools in Spark MLlib."
   ]
  },
  {
   "cell_type": "code",
   "execution_count": 193,
   "metadata": {},
   "outputs": [
    {
     "data": {
      "text/plain": [
       "array([0.61095879, 0.70617691, 0.65197494])"
      ]
     },
     "execution_count": 193,
     "metadata": {},
     "output_type": "execute_result"
    }
   ],
   "source": [
    "from sklearn.model_selection import train_test_split\n",
    "from sklearn.preprocessing import PolynomialFeatures\n",
    "from sklearn.linear_model import LinearRegression\n",
    "from sklearn.pipeline import Pipeline\n",
    "from sklearn.model_selection import cross_val_score\n",
    "import numpy as np\n",
    "\n",
    "x = np.array(distance)\n",
    "y = np.array(speed)\n",
    "x_test = np.arange(0, 5000, 100)\n",
    "\n",
    "model = Pipeline([\n",
    "    ('poly', PolynomialFeatures(degree=3)),\n",
    "    ('linear', LinearRegression(fit_intercept=False))\n",
    "])\n",
    "model = model.fit(x[:, np.newaxis], y)\n",
    "model.named_steps['linear'].coef_\n",
    "y_out = model.predict(x_test.reshape(-1,1))\n",
    "\n",
    "cross_val_score(model, x.reshape(-1,1), y)"
   ]
  },
  {
   "cell_type": "markdown",
   "metadata": {},
   "source": [
    "## Visualizing Polynomial Fit\n",
    "\n",
    "Because we are running a polynomial regression, where we get to decide the degree of the polynomial. To help decide, lets plot a polynomial fit line to the data using `matplotlib`."
   ]
  },
  {
   "cell_type": "code",
   "execution_count": 196,
   "metadata": {},
   "outputs": [
    {
     "data": {
      "image/png": "[encoded data removed]",
      "text/plain": [
       "<Figure size 1296x864 with 1 Axes>"
      ]
     },
     "metadata": {},
     "output_type": "display_data"
    }
   ],
   "source": [
    "%matplotlib inline\n",
    "\n",
    "import numpy as np\n",
    "import matplotlib.pyplot as plt\n",
    "\n",
    "plt.rcParams[\"figure.figsize\"] = (18,12)\n",
    "\n",
    "plt.scatter(\n",
    "    distance, \n",
    "    speed, \n",
    "    alpha=0.5\n",
    ")\n",
    "plt.plot(\n",
    "    x_test,\n",
    "    y_out, \n",
    "    color='orange', \n",
    "    linewidth=3\n",
    ")\n",
    "\n",
    "plt.title(\"Distance x Speed\")\n",
    "plt.xlabel(\"Distance\")\n",
    "plt.ylabel(\"Speed\")\n",
    "plt.show()"
   ]
  },
  {
   "cell_type": "markdown",
   "metadata": {},
   "source": [
    "# Joining Data in PySpark\n",
    "\n",
    "Next we're going to learn how to join between datasets using PySpark. We're going to pick up from an example we're going to work in chapter 6, and explore it more deeply. To begin with, we will prepare a list of `TailNum` (tail numbers) from the FAA flight records. These uniquely identify each airplane from each flight.\n",
    "\n",
    "### Unique Tail Numbers"
   ]
  },
  {
   "cell_type": "code",
   "execution_count": 170,
   "metadata": {},
   "outputs": [
    {
     "name": "stdout",
     "output_type": "stream",
     "text": [
      "+-------+\n",
      "|TailNum|\n",
      "+-------+\n",
      "| N396AA|\n",
      "| N3CWAA|\n",
      "| N499AA|\n",
      "| N4YUAA|\n",
      "| N567AA|\n",
      "| N442AS|\n",
      "+-------+\n",
      "only showing top 6 rows\n",
      "\n"
     ]
    }
   ],
   "source": [
    "tail_numbers = on_time_dataframe.select(\"TailNum\").distinct()\n",
    "tail_numbers.show(6)"
   ]
  },
  {
   "cell_type": "markdown",
   "metadata": {},
   "source": [
    "### FAA Airplane Records\n",
    "\n",
    "We will trim the FAA records down to just the `TailNum`, `Model` and `Engine_Model`. Note that we go ahead and rename the `TailNum` field to `FAATailNum` using the `pyspark.sql.functions.alias()` method. This avoids having two fields referenced by the same name once we perform our joins."
   ]
  },
  {
   "cell_type": "code",
   "execution_count": 181,
   "metadata": {},
   "outputs": [
    {
     "name": "stdout",
     "output_type": "stream",
     "text": [
      "+----------+-----------+------------+\n",
      "|FAATailNum|      Model|Engine_Model|\n",
      "+----------+-----------+------------+\n",
      "|    N933EV|CL-600-2B19| CF34 SERIES|\n",
      "|    N917WN|    737-7H4|  CFM56-7B24|\n",
      "|    N438WN|    737-7H4|CFM56 SERIES|\n",
      "|    N283VA|   A320-214| CFM56-5B4/3|\n",
      "|    N473UA|   A320-232| AL-25SERIES|\n",
      "|    N637JB|   A320-232|    V2527-A5|\n",
      "+----------+-----------+------------+\n",
      "only showing top 6 rows\n",
      "\n"
     ]
    }
   ],
   "source": [
    "faa_tail_number_inquiry = spark.read.json('../data/faa_tail_number_inquiry.jsonl')\n",
    "airplane_records = faa_tail_number_inquiry.select(\n",
    "    faa_tail_number_inquiry.TailNum.alias(\"FAATailNum\"), \n",
    "    \"Model\",\n",
    "    \"Engine_Model\"\n",
    ")\n",
    "airplane_records.show(6)"
   ]
  },
  {
   "cell_type": "markdown",
   "metadata": {},
   "source": [
    "## Inner Joins\n",
    "\n",
    "You may be familiar with an inner join from SQL. An inner join joins two datasets based on the presence of a key from one dataset in the other. Records which don't have a key that appears in the other table do not appear in the final output."
   ]
  },
  {
   "cell_type": "code",
   "execution_count": 183,
   "metadata": {},
   "outputs": [
    {
     "name": "stdout",
     "output_type": "stream",
     "text": [
      "FAA tail numbers: 4,898\n",
      "Airplane records: 3,988\n",
      "Joined records:   3,988\n"
     ]
    }
   ],
   "source": [
    "# INNER JOIN\n",
    "print(\n",
    "    \"FAA tail numbers: {:,}\".format(\n",
    "        tail_numbers.count()\n",
    "    )\n",
    ")\n",
    "print(\n",
    "    \"Airplane records: {:,}\".format(\n",
    "        airplane_records.count()\n",
    "    )\n",
    ")\n",
    "\n",
    "inner_joined = tail_numbers.join(\n",
    "    airplane_records, \n",
    "    tail_numbers.TailNum == airplane_records.FAATailNum, \n",
    "    'inner'\n",
    ")\n",
    "\n",
    "print(\n",
    "    \"Joined records:   {:,}\".format(\n",
    "        inner_joined.count()\n",
    "    )\n",
    ")"
   ]
  },
  {
   "cell_type": "markdown",
   "metadata": {},
   "source": [
    "### Inner Join Results\n",
    "\n",
    "Note that there are as many records in the output as there were in the FAA Airplane dataset - indicating that there was a representative of every tail number from that dataset in the on-time performance flight records. Lets take a look at the records themselves."
   ]
  },
  {
   "cell_type": "code",
   "execution_count": 184,
   "metadata": {},
   "outputs": [
    {
     "name": "stdout",
     "output_type": "stream",
     "text": [
      "+-------+----------+--------------+------------+\n",
      "|TailNum|FAATailNum|         Model|Engine_Model|\n",
      "+-------+----------+--------------+------------+\n",
      "| N396AA|    N396AA|          B300|    PT6A SER|\n",
      "| N499AA|    N499AA|DC-9-82(MD-82)| JT8D SERIES|\n",
      "| N442AS|    N442AS|     737-990ER| CFM56-7B27E|\n",
      "| N369NB|    N369NB|      A319-114|CFM56 SERIES|\n",
      "| N388DA|    N388DA|       737-832|CFM56 SERIES|\n",
      "|  N6700|     N6700|       757-232|      PW2037|\n",
      "+-------+----------+--------------+------------+\n",
      "only showing top 6 rows\n",
      "\n"
     ]
    }
   ],
   "source": [
    "inner_joined.show(6)"
   ]
  },
  {
   "cell_type": "markdown",
   "metadata": {},
   "source": [
    "Note how convenient it is that we renamed one of the keys `FAATailNum`. If we hadn't, we'd have two columns with the same name now and would have trouble referring to one or the other."
   ]
  },
  {
   "cell_type": "markdown",
   "metadata": {},
   "source": [
    "## Left Outer Join\n",
    "\n",
    "Another type of join is the left outer join. It ensures that one record will remain in the output from the left side of the join no matter what. If a match on the join keys is found, the fields for the record on the right will be filled. If a match is not found, they will be empty. \n",
    "\n",
    "Lets look at how this works with our two datasets."
   ]
  },
  {
   "cell_type": "code",
   "execution_count": 185,
   "metadata": {},
   "outputs": [
    {
     "name": "stdout",
     "output_type": "stream",
     "text": [
      "FAA tail numbers: 4,898\n",
      "Airplane records: 3,988\n",
      "Joined records:   4,898\n"
     ]
    }
   ],
   "source": [
    "# INNER JOIN\n",
    "print(\n",
    "    \"FAA tail numbers: {:,}\".format(\n",
    "        tail_numbers.count()\n",
    "    )\n",
    ")\n",
    "print(\n",
    "    \"Airplane records: {:,}\".format(\n",
    "        airplane_records.count()\n",
    "    )\n",
    ")\n",
    "\n",
    "left_outer_joined = tail_numbers.join(\n",
    "    airplane_records, \n",
    "    tail_numbers.TailNum == airplane_records.FAATailNum, \n",
    "    'left_outer'\n",
    ")\n",
    "\n",
    "print(\n",
    "    \"Joined records:   {:,}\".format(\n",
    "        left_outer_joined.count()\n",
    "    )\n",
    ")"
   ]
  },
  {
   "cell_type": "markdown",
   "metadata": {},
   "source": [
    "## Left Outer Join Result\n",
    "\n",
    "Note that there were 4,898 records on the left side of our join and there are the same number on the output of our join. Lets take a look at what both matched and unmatched records look like:"
   ]
  },
  {
   "cell_type": "code",
   "execution_count": 186,
   "metadata": {},
   "outputs": [
    {
     "name": "stdout",
     "output_type": "stream",
     "text": [
      "+-------+----------+--------------+------------+\n",
      "|TailNum|FAATailNum|         Model|Engine_Model|\n",
      "+-------+----------+--------------+------------+\n",
      "| N396AA|    N396AA|          B300|    PT6A SER|\n",
      "| N3CWAA|      null|          null|        null|\n",
      "| N499AA|    N499AA|DC-9-82(MD-82)| JT8D SERIES|\n",
      "| N4YUAA|      null|          null|        null|\n",
      "| N567AA|      null|          null|        null|\n",
      "| N442AS|    N442AS|     737-990ER| CFM56-7B27E|\n",
      "+-------+----------+--------------+------------+\n",
      "only showing top 6 rows\n",
      "\n"
     ]
    }
   ],
   "source": [
    "left_outer_joined.show(6)"
   ]
  },
  {
   "cell_type": "markdown",
   "metadata": {},
   "source": [
    "Note that some records have fields filled out, and some don't.\n",
    "\n",
    "## Right Outer Join\n",
    "\n",
    "Another type of join is the right outer join. This works the opposite of a left outer join. In this case, the output will preserve a record for each and every record on the right side of the join. Use the `right_outer` join type to perform this kind of join.\n",
    "\n",
    "## Exercises\n",
    "\n",
    "1. Go back and perform a right outer join on the preceding two datasets. Is the `distinct()` call on the FAA on-time performance records still needed? Why or why not?\n"
   ]
  },
  {
   "cell_type": "markdown",
   "metadata": {},
   "source": [
    "# Using `RDDs` and Map/Reduce to Prepare a Complex Record"
   ]
  },
  {
   "cell_type": "code",
   "execution_count": null,
   "metadata": {
    "collapsed": true
   },
   "outputs": [],
   "source": [
    "# Filter down to the fields we need to identify and link to a flight\n",
    "flights = on_time_dataframe.rdd.map(\n",
    "    lambda x: (x.Carrier, x.FlightDate, x.FlightNum, x.Origin, x.Dest, x.TailNum)\n",
    ")\n",
    "\n",
    "# Group flights by tail number, sorted by date, then flight number, then origin/dest\n",
    "flights_per_airplane = flights\\\n",
    "  .map(lambda nameTuple: (nameTuple[5], [nameTuple[0:5]]))\\\n",
    "  .reduceByKey(lambda a, b: a + b)\\\n",
    "  .map(lambda tuple:\n",
    "      {\n",
    "        'TailNum': tuple[0], \n",
    "        'Flights': sorted(tuple[1], key=lambda x: (x[1], x[2], x[3], x[4]))\n",
    "      }\n",
    "    )\n",
    "flights_per_airplane.first()"
   ]
  },
  {
   "cell_type": "markdown",
   "metadata": {},
   "source": [
    "# Counting Late Flights"
   ]
  },
  {
   "cell_type": "code",
   "execution_count": null,
   "metadata": {
    "collapsed": true
   },
   "outputs": [],
   "source": [
    "total_flights = on_time_dataframe.count()\n",
    "\n",
    "# Flights that were late leaving...\n",
    "late_departures = on_time_dataframe.filter(\n",
    "  on_time_dataframe.DepDelayMinutes > 0\n",
    ")\n",
    "total_late_departures = late_departures.count()\n",
    "print(total_late_departures)\n",
    "\n",
    "# Flights that were late arriving...\n",
    "late_arrivals = on_time_dataframe.filter(\n",
    "  on_time_dataframe.ArrDelayMinutes > 0\n",
    ")\n",
    "total_late_arrivals = late_arrivals.count()\n",
    "print(total_late_arrivals)\n",
    "\n",
    "# Get the percentage of flights that are late, rounded to 1 decimal place\n",
    "pct_late = round((total_late_arrivals / (total_flights * 1.0)) * 100, 1)"
   ]
  },
  {
   "cell_type": "markdown",
   "metadata": {},
   "source": [
    "# Counting Flights with Hero Captains\n",
    "\n",
    "\"Hero Captains\" are those that depart late but make up time in the air and arrive on time or early."
   ]
  },
  {
   "cell_type": "code",
   "execution_count": null,
   "metadata": {
    "collapsed": true
   },
   "outputs": [],
   "source": [
    "# Flights that left late but made up time to arrive on time...\n",
    "on_time_heros = on_time_dataframe.filter(\n",
    "  (on_time_dataframe.DepDelayMinutes > 0)\n",
    "  &\n",
    "  (on_time_dataframe.ArrDelayMinutes <= 0)\n",
    ")\n",
    "total_on_time_heros = on_time_heros.count()\n",
    "print(total_on_time_heros)"
   ]
  },
  {
   "cell_type": "markdown",
   "metadata": {},
   "source": [
    "# Printing Our Results"
   ]
  },
  {
   "cell_type": "code",
   "execution_count": null,
   "metadata": {
    "collapsed": true
   },
   "outputs": [],
   "source": [
    "print(\"Total flights:   {:,}\".format(total_flights))\n",
    "print(\"Late departures: {:,}\".format(total_late_departures))\n",
    "print(\"Late arrivals:   {:,}\".format(total_late_arrivals))\n",
    "print(\"Recoveries:      {:,}\".format(total_on_time_heros))\n",
    "print(\"Percentage Late: {}%\".format(pct_late))"
   ]
  },
  {
   "cell_type": "markdown",
   "metadata": {},
   "source": [
    "# Computing the Average Lateness Per Flights"
   ]
  },
  {
   "cell_type": "code",
   "execution_count": null,
   "metadata": {
    "collapsed": true
   },
   "outputs": [],
   "source": [
    "# Get the average minutes late departing and arriving\n",
    "spark.sql(\"\"\"\n",
    "SELECT\n",
    "  ROUND(AVG(DepDelay),1) AS AvgDepDelay,\n",
    "  ROUND(AVG(ArrDelay),1) AS AvgArrDelay\n",
    "FROM on_time_performance\n",
    "\"\"\"\n",
    ").show()"
   ]
  },
  {
   "cell_type": "markdown",
   "metadata": {},
   "source": [
    "# Inspecting Late Flights"
   ]
  },
  {
   "cell_type": "code",
   "execution_count": null,
   "metadata": {
    "collapsed": true
   },
   "outputs": [],
   "source": [
    "# Why are flights late? Lets look at some delayed flights and the delay causes\n",
    "late_flights = spark.sql(\"\"\"\n",
    "SELECT\n",
    "  ArrDelayMinutes,\n",
    "  WeatherDelay,\n",
    "  CarrierDelay,\n",
    "  NASDelay,\n",
    "  SecurityDelay,\n",
    "  LateAircraftDelay\n",
    "FROM\n",
    "  on_time_performance\n",
    "WHERE\n",
    "  WeatherDelay IS NOT NULL\n",
    "  OR\n",
    "  CarrierDelay IS NOT NULL\n",
    "  OR\n",
    "  NASDelay IS NOT NULL\n",
    "  OR\n",
    "  SecurityDelay IS NOT NULL\n",
    "  OR\n",
    "  LateAircraftDelay IS NOT NULL\n",
    "ORDER BY\n",
    "  FlightDate\n",
    "\"\"\")\n",
    "late_flights.sample(False, 0.01).show()"
   ]
  },
  {
   "cell_type": "markdown",
   "metadata": {},
   "source": [
    "# Determining Why Flights Are Late"
   ]
  },
  {
   "cell_type": "code",
   "execution_count": null,
   "metadata": {
    "collapsed": true
   },
   "outputs": [],
   "source": [
    "# Calculate the percentage contribution to delay for each source\n",
    "total_delays = spark.sql(\"\"\"\n",
    "SELECT\n",
    "  ROUND(SUM(WeatherDelay)/SUM(ArrDelayMinutes) * 100, 1) AS pct_weather_delay,\n",
    "  ROUND(SUM(CarrierDelay)/SUM(ArrDelayMinutes) * 100, 1) AS pct_carrier_delay,\n",
    "  ROUND(SUM(NASDelay)/SUM(ArrDelayMinutes) * 100, 1) AS pct_nas_delay,\n",
    "  ROUND(SUM(SecurityDelay)/SUM(ArrDelayMinutes) * 100, 1) AS pct_security_delay,\n",
    "  ROUND(SUM(LateAircraftDelay)/SUM(ArrDelayMinutes) * 100, 1) AS pct_late_aircraft_delay\n",
    "FROM on_time_performance\n",
    "\"\"\")\n",
    "total_delays.show()"
   ]
  },
  {
   "cell_type": "markdown",
   "metadata": {},
   "source": [
    "# Computing a Histogram of Weather Delayed Flights"
   ]
  },
  {
   "cell_type": "code",
   "execution_count": null,
   "metadata": {
    "collapsed": true
   },
   "outputs": [],
   "source": [
    "# Eyeball the first to define our buckets\n",
    "weather_delay_histogram = on_time_dataframe\\\n",
    "  .select(\"WeatherDelay\")\\\n",
    "  .rdd\\\n",
    "  .flatMap(lambda x: x)\\\n",
    "  .histogram([1, 5, 10, 15, 30, 60, 120, 240, 480, 720, 24*60.0])\n",
    "print(weather_delay_histogram)"
   ]
  },
  {
   "cell_type": "code",
   "execution_count": null,
   "metadata": {
    "collapsed": true
   },
   "outputs": [],
   "source": [
    "create_hist(weather_delay_histogram)"
   ]
  },
  {
   "cell_type": "markdown",
   "metadata": {},
   "source": [
    "# Preparing a Histogram for Visualization by d3.js"
   ]
  },
  {
   "cell_type": "code",
   "execution_count": 71,
   "metadata": {},
   "outputs": [
    {
     "name": "stdout",
     "output_type": "stream",
     "text": [
      "([0, 15, 30, 60, 120, 240, 480, 720, 1440.0], [0, 0, 0, 0, 0, 0, 0, 0])\n"
     ]
    },
    {
     "data": {
      "text/plain": [
       "{'key': 1,\n",
       " 'data': [{'label': 0, 'value': 0},\n",
       "  {'label': 15, 'value': 0},\n",
       "  {'label': 30, 'value': 0},\n",
       "  {'label': 60, 'value': 0},\n",
       "  {'label': 120, 'value': 0},\n",
       "  {'label': 240, 'value': 0},\n",
       "  {'label': 480, 'value': 0},\n",
       "  {'label': 720, 'value': 0}]}"
      ]
     },
     "execution_count": 71,
     "metadata": {},
     "output_type": "execute_result"
    }
   ],
   "source": [
    "# Transform the data into something easily consumed by d3\n",
    "def histogram_to_publishable(histogram):\n",
    "  record = {'key': 1, 'data': []}\n",
    "  for label, value in zip(histogram[0], histogram[1]):\n",
    "    record['data'].append(\n",
    "      {\n",
    "        'label': label,\n",
    "        'value': value\n",
    "      }\n",
    "    )\n",
    "  return record\n",
    "\n",
    "# Recompute the weather histogram with a filter for on-time flights\n",
    "weather_delay_histogram = on_time_dataframe\\\n",
    "  .filter(\n",
    "    (on_time_dataframe.WeatherDelay != None)\n",
    "    &\n",
    "    (on_time_dataframe.WeatherDelay > 0)\n",
    "  )\\\n",
    "  .select(\"WeatherDelay\")\\\n",
    "  .rdd\\\n",
    "  .flatMap(lambda x: x)\\\n",
    "  .histogram([0, 15, 30, 60, 120, 240, 480, 720, 24*60.0])\n",
    "print(weather_delay_histogram)\n",
    "\n",
    "record = histogram_to_publishable(weather_delay_histogram)\n",
    "record"
   ]
  },
  {
   "cell_type": "markdown",
   "metadata": {},
   "source": [
    "# Building a Classifier Model to Predict Flight Delays\n",
    "\n",
    "## Loading Our Data"
   ]
  },
  {
   "cell_type": "code",
   "execution_count": null,
   "metadata": {
    "collapsed": true
   },
   "outputs": [],
   "source": [
    "from pyspark.sql.types import StringType, IntegerType, FloatType, DoubleType, DateType, TimestampType\n",
    "from pyspark.sql.types import StructType, StructField\n",
    "from pyspark.sql.functions import udf\n",
    "\n",
    "schema = StructType([\n",
    "  StructField(\"ArrDelay\", DoubleType(), True),     # \"ArrDelay\":5.0\n",
    "  StructField(\"CRSArrTime\", TimestampType(), True),    # \"CRSArrTime\":\"2015-12-31T03:20:00.000-08:00\"\n",
    "  StructField(\"CRSDepTime\", TimestampType(), True),    # \"CRSDepTime\":\"2015-12-31T03:05:00.000-08:00\"\n",
    "  StructField(\"Carrier\", StringType(), True),     # \"Carrier\":\"WN\"\n",
    "  StructField(\"DayOfMonth\", IntegerType(), True), # \"DayOfMonth\":31\n",
    "  StructField(\"DayOfWeek\", IntegerType(), True),  # \"DayOfWeek\":4\n",
    "  StructField(\"DayOfYear\", IntegerType(), True),  # \"DayOfYear\":365\n",
    "  StructField(\"DepDelay\", DoubleType(), True),     # \"DepDelay\":14.0\n",
    "  StructField(\"Dest\", StringType(), True),        # \"Dest\":\"SAN\"\n",
    "  StructField(\"Distance\", DoubleType(), True),     # \"Distance\":368.0\n",
    "  StructField(\"FlightDate\", DateType(), True),    # \"FlightDate\":\"2015-12-30T16:00:00.000-08:00\"\n",
    "  StructField(\"FlightNum\", StringType(), True),   # \"FlightNum\":\"6109\"\n",
    "  StructField(\"Origin\", StringType(), True),      # \"Origin\":\"TUS\"\n",
    "])\n",
    "\n",
    "features = spark.read.json(\n",
    "  \"../data/simple_flight_delay_features.jsonl.bz2\",\n",
    "  schema=schema\n",
    ")\n",
    "features.first()"
   ]
  },
  {
   "cell_type": "markdown",
   "metadata": {},
   "source": [
    "## Check Data for Nulls"
   ]
  },
  {
   "cell_type": "code",
   "execution_count": null,
   "metadata": {
    "collapsed": true
   },
   "outputs": [],
   "source": [
    "#\n",
    "# Check for nulls in features before using Spark ML\n",
    "#\n",
    "null_counts = [(column, features.where(features[column].isNull()).count()) for column in features.columns]\n",
    "cols_with_nulls = filter(lambda x: x[1] > 0, null_counts)\n",
    "print(list(cols_with_nulls))"
   ]
  },
  {
   "cell_type": "markdown",
   "metadata": {},
   "source": [
    "## Add a Route Column\n",
    "\n",
    "Demonstrating the addition of a feature to our model..."
   ]
  },
  {
   "cell_type": "code",
   "execution_count": null,
   "metadata": {
    "collapsed": true
   },
   "outputs": [],
   "source": [
    "#\n",
    "# Add a Route variable to replace FlightNum\n",
    "#\n",
    "from pyspark.sql.functions import lit, concat\n",
    "\n",
    "features_with_route = features.withColumn(\n",
    "  'Route',\n",
    "  concat(\n",
    "    features.Origin,\n",
    "    lit('-'),\n",
    "    features.Dest\n",
    "  )\n",
    ")\n",
    "features_with_route.select(\"Origin\", \"Dest\", \"Route\").show(5)"
   ]
  },
  {
   "cell_type": "markdown",
   "metadata": {},
   "source": [
    "## Bucketizing ArrDelay into ArrDelayBucket"
   ]
  },
  {
   "cell_type": "code",
   "execution_count": null,
   "metadata": {
    "collapsed": true
   },
   "outputs": [],
   "source": [
    "#\n",
    "# Use pysmark.ml.feature.Bucketizer to bucketize ArrDelay\n",
    "#\n",
    "from pyspark.ml.feature import Bucketizer\n",
    "\n",
    "splits = [-float(\"inf\"), -15.0, 0, 30.0, float(\"inf\")]\n",
    "bucketizer = Bucketizer(\n",
    "  splits=splits,\n",
    "  inputCol=\"ArrDelay\",\n",
    "  outputCol=\"ArrDelayBucket\"\n",
    ")\n",
    "ml_bucketized_features = bucketizer.transform(features_with_route)\n",
    "\n",
    "# Check the buckets out\n",
    "ml_bucketized_features.select(\"ArrDelay\", \"ArrDelayBucket\").show()"
   ]
  },
  {
   "cell_type": "markdown",
   "metadata": {},
   "source": [
    "## Indexing Our String Fields into Numeric Fields"
   ]
  },
  {
   "cell_type": "code",
   "execution_count": null,
   "metadata": {
    "collapsed": true
   },
   "outputs": [],
   "source": [
    "#\n",
    "# Extract features tools in with pyspark.ml.feature\n",
    "#\n",
    "from pyspark.ml.feature import StringIndexer, VectorAssembler\n",
    "\n",
    "# Turn category fields into categoric feature vectors, then drop intermediate fields\n",
    "for column in [\"Carrier\", \"DayOfMonth\", \"DayOfWeek\", \"DayOfYear\",\n",
    "               \"Origin\", \"Dest\", \"Route\"]:\n",
    "  string_indexer = StringIndexer(\n",
    "    inputCol=column,\n",
    "    outputCol=column + \"_index\"\n",
    "  )\n",
    "  ml_bucketized_features = string_indexer.fit(ml_bucketized_features)\\\n",
    "                                          .transform(ml_bucketized_features)\n",
    "\n",
    "# Check out the indexes\n",
    "ml_bucketized_features.show(6)"
   ]
  },
  {
   "cell_type": "markdown",
   "metadata": {},
   "source": [
    "## Combining Numeric Fields into a Single Vector"
   ]
  },
  {
   "cell_type": "code",
   "execution_count": null,
   "metadata": {
    "collapsed": true
   },
   "outputs": [],
   "source": [
    "# Handle continuous, numeric fields by combining them into one feature vector\n",
    "numeric_columns = [\"DepDelay\", \"Distance\"]\n",
    "index_columns = [\"Carrier_index\", \"DayOfMonth_index\",\n",
    "                   \"DayOfWeek_index\", \"DayOfYear_index\", \"Origin_index\",\n",
    "                   \"Origin_index\", \"Dest_index\", \"Route_index\"]\n",
    "vector_assembler = VectorAssembler(\n",
    "  inputCols=numeric_columns + index_columns,\n",
    "  outputCol=\"Features_vec\"\n",
    ")\n",
    "final_vectorized_features = vector_assembler.transform(ml_bucketized_features)\n",
    "\n",
    "# Drop the index columns\n",
    "for column in index_columns:\n",
    "  final_vectorized_features = final_vectorized_features.drop(column)\n",
    "\n",
    "# Check out the features\n",
    "final_vectorized_features.show()"
   ]
  },
  {
   "cell_type": "markdown",
   "metadata": {},
   "source": [
    "## Training Our Model in an Experimental Setup"
   ]
  },
  {
   "cell_type": "code",
   "execution_count": null,
   "metadata": {
    "collapsed": true
   },
   "outputs": [],
   "source": [
    "#\n",
    "# Cross validate, train and evaluate classifier\n",
    "#\n",
    "\n",
    "# Test/train split\n",
    "training_data, test_data = final_vectorized_features.randomSplit([0.7, 0.3])\n",
    "\n",
    "# Instantiate and fit random forest classifier\n",
    "from pyspark.ml.classification import RandomForestClassifier\n",
    "rfc = RandomForestClassifier(\n",
    "  featuresCol=\"Features_vec\",\n",
    "  labelCol=\"ArrDelayBucket\",\n",
    "  maxBins=4657,\n",
    "  maxMemoryInMB=1024\n",
    ")\n",
    "model = rfc.fit(training_data)\n",
    "\n",
    "# Evaluate model using test data\n",
    "predictions = model.transform(test_data)\n",
    "\n",
    "from pyspark.ml.evaluation import MulticlassClassificationEvaluator\n",
    "evaluator = MulticlassClassificationEvaluator(labelCol=\"ArrDelayBucket\", metricName=\"accuracy\")\n",
    "accuracy = evaluator.evaluate(predictions)\n",
    "print(\"Accuracy = {}\".format(accuracy))\n",
    "\n",
    "# Check a sample\n",
    "predictions.sample(False, 0.001, 18).orderBy(\"CRSDepTime\").show(6)"
   ]
  },
  {
   "cell_type": "code",
   "execution_count": null,
   "metadata": {
    "collapsed": true
   },
   "outputs": [],
   "source": []
  }
 ],
 "metadata": {
  "anaconda-cloud": {},
  "kernelspec": {
   "display_name": "Python 3",
   "language": "python",
   "name": "python3"
  },
  "language_info": {
   "codemirror_mode": {
    "name": "ipython",
    "version": 3
   },
   "file_extension": ".py",
   "mimetype": "text/x-python",
   "name": "python",
   "nbconvert_exporter": "python",
   "pygments_lexer": "ipython3",
   "version": "3.6.4"
  }
 },
 "nbformat": 4,
 "nbformat_minor": 1
}
