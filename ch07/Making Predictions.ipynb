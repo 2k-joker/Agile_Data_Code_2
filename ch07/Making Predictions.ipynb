{
 "cells": [
  {
   "cell_type": "markdown",
   "metadata": {},
   "source": [
    "![ads2_0701.png](attachment:ads2_0701.png)\n",
    "\n",
    "Now that we have interactive reports exposing different aspects of our data, we’re ready to make our first prediction. This forms our fourth agile sprint.\n",
    "\n",
    "When making predictions, we take what we know about the past and use it to infer what will happen in the future. In doing so, we transition from batch processing of historical data to real-time extrapolation about the future. In real terms, our task in this chapter is to take historical flight records and use them to predict things about future flights."
   ]
  },
  {
   "cell_type": "code",
   "execution_count": 1,
   "metadata": {},
   "outputs": [
    {
     "name": "stdout",
     "output_type": "stream",
     "text": [
      "PySpark initialized...\n"
     ]
    }
   ],
   "source": [
    "# Initialize PySpark\n",
    "APP_NAME = \"Introducing PySpark\"\n",
    "\n",
    "# If there is no SparkSession, create the environment\n",
    "try:\n",
    "  sc and spark\n",
    "except NameError as e:\n",
    "  import findspark\n",
    "  findspark.init()\n",
    "  import pyspark\n",
    "  import pyspark.sql\n",
    "\n",
    "  sc = pyspark.SparkContext()\n",
    "  spark = pyspark.sql.SparkSession(sc).builder.appName(APP_NAME).getOrCreate()\n",
    "\n",
    "print(\"PySpark initialized...\")"
   ]
  },
  {
   "cell_type": "markdown",
   "metadata": {},
   "source": [
    "## The Role of Predictions\n",
    "\n",
    "We are all used to predictions in life. Some forecasts are based on statistical inference, and some are simply the opinions of pundits. Statistical inference is increasingly involved in predictions of all kinds. From weather forecasts to insurance actuaries determining rates to the point spread in sports betting or odds in poker, statistical predictions are a part of modern life. Sometimes forecasts are accurate, and sometimes they are inaccurate.\n",
    "\n",
    "For instance, as I was working on this edition of the book, pundits repeatedly dismissed Donald Trump’s presidential candidacy as a joke, even as he gained on, pulled ahead of, and ultimately defeated all opponents in the primary and edged closer to Hillary Clinton as the election approached. Pundits are usually wrong, but accurate predictions in elections have emerged thanks to Nate Silver of FiveThirtyEight. He uses an advanced statistical model called a 538 regression to predict election results state-by-state, and combines these predictions into a model that was highly accurate in 2008 and 2012 (although, as it turns out, Silver—along with every rational member of the world with faith in the American voter—failed to predict Trump’s election... to be fair, though, he did predict a 29% chance for Trump, which was about double what others predicted).\n",
    "\n",
    "We’ll be making predictions using statistical inference through a technique called machine learning. According to TechTarget, machine learning (ML for short) is “a type of artificial intelligence (AI) that provides computers with the ability to learn without being explicitly programmed.” Another way of explaining it is to say that machine learning handles tasks that would be impossibly complex for humans to program manually themselves.\n",
    "\n",
    "Machine learning is an intimidating topic, an advanced field of study. Mastering all aspects of it can take many years. However, in practice, getting started with machine learning is easy, thanks to some of the libraries we’ll be using in this chapter. Once we explain the fundamentals, we’ll get on with some simple code.\n",
    "\n",
    "## Predict What?\n",
    "\n",
    "In this chapter we will employ machine learning to build a predictive analytics application using the dataset we’ve been visualizing so far. The prediction we’ll be making is one with great practical importance for anyone who travels by air. We’ll be predicting flight delays. Specifically, we’ll be predicting the arrival delay, or how late a flight is when arriving at the gate at its destination airport.\n",
    "\n",
    "First, let’s cover the fundamentals of predictive analytics.\n",
    "\n",
    "## Introduction to Predictive Analytics\n",
    "\n",
    "According to Wikipedia “Predictive analytics encompasses a variety of statistical techniques from predictive modeling, machine learning, and data mining that analyze current and historical facts to make predictions about future or otherwise unknown events.”\n",
    "\n",
    "Predictive analytics requires training data. Training data is composed of examples of the entity we are trying to predict. Examples are made up of one or more features. Dependent features are the values we are trying to predict. Independent features are features describing the things we want to predict that relate to the dependent features. For instance, our training data for predicting flight delays is our atomic records: our flight delay records. A flight with its delay is an example of a record with a dependent variable. Our independent features are other things we can associate with flights—in other words, all the entities and their properties we’ve been working with in the preceding chapters! The independent features are the other properties of flights—things like the departure delay, the airline, the origin and destination cities, the day of the week or year, etc.\n",
    "\n",
    "We’ve been analyzing our data to better understand the features that make up a flight. We know a lot about flight delays, and about flights themselves and those things that combine to produce a flight: airplanes, airlines, airports, etc. This will enable us to effectively engage in feature engineering, which is the critical part of making predictions. Interactive visualization and exploratory data analysis as a part of feature engineering is the heart of Agile Data Science. It drives and organizes our efforts.\n",
    "\n",
    "Now that the groundwork is laid, let’s learn the mechanics of making actual predictions.\n",
    "\n",
    "### Making Predictions\n",
    "\n",
    "There are two ways to approach most predictions: regression and classification. A regression takes examples made up of features as input and produces a numeric output. Classification takes examples as input and produces a categorical classification. The example dataset that serves as input to a statistical prediction and that enables the machine to learn is called the training data.\n",
    "\n",
    "Whether to build a regression or a classification depends on our business need. The type of response variable often determines which to build. If we need to predict a continuous variable, we build a regression. If we need to predict a nominal/categorical variable, we build a classification.\n",
    "\n",
    "This decision can be more complex than that, however, taking into account the user interface where we’ll present our prediction. For instance, if we were creating an API we were going to sell access to that predicts flight delays, we would probably want to use a regression to produce a numeric prediction. On the other hand, if we were presenting flight delays to users in a mobile application, usability considerations apply that might mean a classification might be better.\n",
    "\n",
    "In this book, we’ll create both a regression and a classification of flight delays using decision trees, which can both classify and regress.\n",
    "\n",
    "#### Features\n",
    "\n",
    "A feature is what it sounds like: a feature of an example. In software terminology: if examples are objects, features are fields or properties of those objects. Two or more features make up the training data of a statistical prediction—two being the minimum because one field is required as the one to predict, and at least one additional feature is required to make an inference about in order to create a prediction.\n",
    "\n",
    "Sometimes features are already a part of the training data in question, in their own fields. Sometimes we have to perform feature engineering to derive the training values we need from the ones the data includes.\n",
    "\n",
    "The models we’ll be using employ decision trees. Decision trees are important for a few reasons. First, they can both classify and regress. It requires literally one line of code to switch between the two models just described, from a classification to a regression. Second, they are able to determine and share the feature importance of a given training set.\n",
    "\n",
    "Feature importances tell us which features in the training data were most important in creating an accurate model. This is invaluable, because it gives us insight into what features we should engineer and the approach we should take to improving performance. It also gives us insight into the underlying data, by telling us which features have relationships with the predicted feature.\n",
    "\n",
    "#### Regression\n",
    "\n",
    "The simplest kind of regression analysis is a linear regression. Stat Trek defines linear regression as follows:\n",
    "\n",
    "In a cause and effect relationship, the independent variable is the cause, and the dependent variable is the effect. Least squares linear regression is a method for predicting the value of a dependent variable Y, based on the value of an independent variable X.\n",
    "\n",
    "A linear regression is a trend line. We’ve all seen them in Excel (if you haven’t, check out North Carolina State University’s Excel regression tutorial). Given a set of variables that characterize a flight, a linear regression might predict how early or late the flight will be, in minutes.\n",
    "\n",
    "#### Classification\n",
    "\n",
    "The second way to solve the problem is to define a set of categories and to classify a flight into one of those categories. Flight delays are a continuous distribution, so they don’t naturally yield to classification. The trick here is to define the categories so they simplify the continuous distribution of flight delays into two or more categories. For instance, we might formulate categories similar to the buckets we will use for the weather delay distribution (0–15, 15–60, and 60+), and then classify into these three categories."
   ]
  },
  {
   "cell_type": "markdown",
   "metadata": {},
   "source": [
    "## Exploring Flight Delays\n",
    "\n",
    "Our topic for this chapter is flight delays. If we want to predict the feature, we must first understand it. Let’s lay the groundwork by creating a delay entity in our application and fleshing it out.\n",
    "\n",
    "We’ll begin by exploring the magnitude of the problem. Just how often are flights late? It feels like “all the time,” but is it? This dataset is exciting in that it can answer questions like this one! \n",
    "\n",
    "Check out [ch07/explore_delays.py](ch07/explore_delays.py):"
   ]
  },
  {
   "cell_type": "code",
   "execution_count": 2,
   "metadata": {},
   "outputs": [
    {
     "name": "stdout",
     "output_type": "stream",
     "text": [
      "Total flights:   5,819,079\n",
      "Late departures: 2,125,618\n",
      "Late arrivals:   2,086,896\n",
      "Recoveries:      606,902\n",
      "Percentage Late: 35.9%\n"
     ]
    }
   ],
   "source": [
    "# Load the on-time Parquet file\n",
    "on_time_dataframe = spark.read.parquet('../data/on_time_performance.parquet')\n",
    "on_time_dataframe.registerTempTable(\"on_time_performance\")\n",
    "total_flights = on_time_dataframe.count()\n",
    "\n",
    "# Flights that were late leaving...\n",
    "late_departures = on_time_dataframe.filter(on_time_dataframe.DepDelayMinutes > 0)\n",
    "total_late_departures = late_departures.count()\n",
    "\n",
    "# Flights that were late arriving...\n",
    "late_arrivals = on_time_dataframe.filter(on_time_dataframe.ArrDelayMinutes > 0)\n",
    "total_late_arrivals = late_arrivals.count()\n",
    "\n",
    "# Flights that left late but made up time to arrive on time...\n",
    "on_time_heros = on_time_dataframe.filter(\n",
    "  (on_time_dataframe.DepDelayMinutes > 0) \n",
    "  & \n",
    "  (on_time_dataframe.ArrDelayMinutes <= 0)\n",
    ")\n",
    "total_on_time_heros = on_time_heros.count()\n",
    "\n",
    "# Get the percentage of flights that are late, rounded to 1 decimal place\n",
    "pct_late = round((total_late_arrivals / (total_flights * 1.0)) * 100, 1)\n",
    "\n",
    "print(\"Total flights:   {:,}\".format(total_flights))\n",
    "print(\"Late departures: {:,}\".format(total_late_departures))\n",
    "print(\"Late arrivals:   {:,}\".format(total_late_arrivals))\n",
    "print(\"Recoveries:      {:,}\".format(total_on_time_heros))\n",
    "print(\"Percentage Late: {}%\".format(pct_late))"
   ]
  },
  {
   "cell_type": "markdown",
   "metadata": {},
   "source": [
    "Wow, flights arrive late 35.9% of the time! The problem is as big as it seems. But how late is the average flight?"
   ]
  },
  {
   "cell_type": "code",
   "execution_count": 3,
   "metadata": {},
   "outputs": [
    {
     "name": "stdout",
     "output_type": "stream",
     "text": [
      "+-----------+-----------+\n",
      "|AvgDepDelay|AvgArrDelay|\n",
      "+-----------+-----------+\n",
      "|        9.4|        4.4|\n",
      "+-----------+-----------+\n",
      "\n"
     ]
    }
   ],
   "source": [
    "# Get the average minutes late departing and arriving\n",
    "spark.sql(\"\"\"\n",
    "SELECT\n",
    "  ROUND(AVG(DepDelay),1) AS AvgDepDelay,\n",
    "  ROUND(AVG(ArrDelay),1) AS AvgArrDelay\n",
    "FROM on_time_performance\n",
    "\"\"\"\n",
    ").show()"
   ]
  },
  {
   "cell_type": "markdown",
   "metadata": {},
   "source": [
    "Flights are 9.4 minutes late departing and 4.4 minutes late arriving on average. Why the constant tardiness? Are the airlines incompetent (as we often angrily suspect), or is the problem weather? Weather is presently out of human control, so that would let the airlines off the hook. Should we be mad at the airlines or angry with the god(s)? (Personally, I’m fearful of Zeus!)\n",
    "\n",
    "Let’s take a look at some delayed flights, and specifically the fields that specify the kinds of delay. We want to be sure to use a random sample, which we can obtain via Spark’s DataFrame.sample function. In the first rendition of this chapter, I did not use a random sample and was deceived by what appeared to be constant weather delays, when these are actually not very common. Don’t be lazy—it’s very easy to insert a .sample(False, 0.01) before every one of your .show functions:"
   ]
  },
  {
   "cell_type": "code",
   "execution_count": 4,
   "metadata": {},
   "outputs": [
    {
     "name": "stdout",
     "output_type": "stream",
     "text": [
      "+----------+---------------+------------+------------+--------+-------------+-----------------+\n",
      "|FlightDate|ArrDelayMinutes|WeatherDelay|CarrierDelay|NASDelay|SecurityDelay|LateAircraftDelay|\n",
      "+----------+---------------+------------+------------+--------+-------------+-----------------+\n",
      "|2015-01-01|           21.0|         0.0|         0.0|    21.0|          0.0|              0.0|\n",
      "|2015-01-01|           55.0|         8.0|         0.0|    16.0|          0.0|             31.0|\n",
      "|2015-01-01|           54.0|         0.0|        32.0|    22.0|          0.0|              0.0|\n",
      "|2015-01-01|           34.0|         0.0|         0.0|     5.0|          0.0|             29.0|\n",
      "|2015-01-01|           18.0|         0.0|        18.0|     0.0|          0.0|              0.0|\n",
      "|2015-01-01|           27.0|         0.0|         0.0|    27.0|          0.0|              0.0|\n",
      "|2015-01-01|           23.0|         0.0|        23.0|     0.0|          0.0|              0.0|\n",
      "|2015-01-01|           59.0|         0.0|        27.0|    32.0|          0.0|              0.0|\n",
      "|2015-01-01|           27.0|         0.0|        27.0|     0.0|          0.0|              0.0|\n",
      "|2015-01-01|           15.0|         0.0|         1.0|    14.0|          0.0|              0.0|\n",
      "+----------+---------------+------------+------------+--------+-------------+-----------------+\n",
      "only showing top 10 rows\n",
      "\n"
     ]
    }
   ],
   "source": [
    "late_flights = spark.sql(\"\"\"\n",
    "SELECT\n",
    "  FlightDate,\n",
    "  ArrDelayMinutes,\n",
    "  WeatherDelay,\n",
    "  CarrierDelay,\n",
    "  NASDelay,\n",
    "  SecurityDelay,\n",
    "  LateAircraftDelay\n",
    "FROM\n",
    "  on_time_performance\n",
    "WHERE\n",
    "  WeatherDelay IS NOT NULL\n",
    "  OR\n",
    "  CarrierDelay IS NOT NULL\n",
    "  OR\n",
    "  NASDelay IS NOT NULL\n",
    "  OR\n",
    "  SecurityDelay IS NOT NULL\n",
    "  OR\n",
    "  LateAircraftDelay IS NOT NULL\n",
    "ORDER BY\n",
    "  FlightDate\n",
    "\"\"\")\n",
    "\n",
    "late_flights.sample(False, 0.01).show(10)"
   ]
  },
  {
   "cell_type": "markdown",
   "metadata": {},
   "source": [
    "An explanation of the different kinds of delay is available on the Federal Aviation Administration (FAA) website.\n",
    "\n",
    "What does this small sample tell us? Carrier delays are constant and sometimes severe. NAS delays—delays under the control of the National Airspace System (NAS) that can be attributed to conditions such as traffic volume and air traffic control—are as common as carrier delays. Security delays appear rare, while late aircraft delays (which result from the propagation of a previous delay) are frequent and sometimes severe.\n",
    "\n",
    "A small sample is a good way to get familiar with the data, but small samples can be deceptive. We want real answers we can trust, so let’s quantify the sources of delay. What percentage of total delay does each source contribute? We’ll use arrival delay for our total—a simplification we’ll have to live with, since some delay may be on departure and some in flight:"
   ]
  },
  {
   "cell_type": "code",
   "execution_count": 5,
   "metadata": {},
   "outputs": [
    {
     "name": "stdout",
     "output_type": "stream",
     "text": [
      "+-----------------+-----------------+-------------+------------------+-----------------------+\n",
      "|pct_weather_delay|pct_carrier_delay|pct_nas_delay|pct_security_delay|pct_late_aircraft_delay|\n",
      "+-----------------+-----------------+-------------+------------------+-----------------------+\n",
      "|              4.5|             29.2|         20.7|               0.1|                   36.1|\n",
      "+-----------------+-----------------+-------------+------------------+-----------------------+\n",
      "\n"
     ]
    }
   ],
   "source": [
    "# Calculate the percentage contribution to delay for each source\n",
    "total_delays = spark.sql(\"\"\"\n",
    "SELECT\n",
    "  ROUND(SUM(WeatherDelay)/SUM(ArrDelayMinutes) * 100, 1) AS pct_weather_delay,\n",
    "  ROUND(SUM(CarrierDelay)/SUM(ArrDelayMinutes) * 100, 1) AS pct_carrier_delay,\n",
    "  ROUND(SUM(NASDelay)/SUM(ArrDelayMinutes) * 100, 1) AS pct_nas_delay,\n",
    "  ROUND(SUM(SecurityDelay)/SUM(ArrDelayMinutes) * 100, 1) AS pct_security_delay,\n",
    "  ROUND(SUM(LateAircraftDelay)/SUM(ArrDelayMinutes) * 100, 1) AS \n",
    "     pct_late_aircraft_delay\n",
    "FROM on_time_performance\n",
    "\"\"\")\n",
    "total_delays.show()"
   ]
  },
  {
   "cell_type": "markdown",
   "metadata": {},
   "source": [
    "Our result isn’t perfect—the sources of delay don’t total to 100%. This is a result of our aforementioned simplification regarding arrival/departing delays. Nevertheless, we do get a sense of things; our sample is informative. Most delay is from previous delays with the same airplane, which have a cascading effect on the rest of the schedule. Of delays originating during a flight’s operations, most are carrier delays. Specifically, 29% of delays are carrier delays, versus 21% for air traffic control delays and only 4.5% for weather delays.\n",
    "\n",
    "The answer to our earlier question is clear: we should usually be mad at the airline. However, not all carrier delays are because of mistakes the carrier makes. The FAA website explains:\n",
    "\n",
    "_Examples of occurrences that may determine carrier delay are: aircraft cleaning, aircraft damage, awaiting the arrival of connecting passengers or crew, baggage, bird strike, cargo loading, catering, computer, outage-carrier equipment, crew legality (pilot or attendant rest), damage by hazardous goods, engineering inspection, fueling, handling disabled passengers, late crew, lavatory servicing, maintenance, oversales, potable water servicing, removal of unruly passenger, slow boarding or seating, stowing carry-on baggage, weight and balance delays._\n",
    "\n",
    "In other words, sometimes shit happens and the carrier didn’t do anything wrong. We don’t have data to determine how often the carrier is really to blame. Importantly for our problem in this chapter, predicting flight delays, the best we’ll be able to do is to characterize the overall carrier delay of each airline. We won’t be modeling bird strikes or unruly passengers.\n",
    "\n",
    "Having familiarized ourselves with flight delays, now let’s plug some of the features we’ve discovered into a simple classification and regression."
   ]
  },
  {
   "cell_type": "markdown",
   "metadata": {},
   "source": [
    "## Extracting Features with PySpark\n",
    "\n",
    "To use features, we need to extract them from the broader dataset. Let’s begin by extracting just a few features from our dataset using PySpark, along with the time delays themselves. In order to do this, we need to decide which feature we’re going to predict. There are two delay fields listed in minutes: ArrDelayMinutes and DepDelayMinutes. Which are we to predict?\n",
    "\n",
    "In thinking about our use case, it seems that our users want to know both things: whether and how late a flight will depart, and whether and how late it will arrive. Let’s include both in our training data. In terms of other features to extract, a little thought tells me that a few things are certain to matter. For instance, some airports have more delays than others, so departing and arriving airport is a no brainer. Flights are probably more often delayed in the hurricane and snow seasons, so the month of the year makes sense. Some carriers are more punctual than others. Finally, some routes must have more delays than others, so the flight number makes sense too.\n",
    "\n",
    "We’ll also include the last of the unique identifiers for the flight, the flight date. Flights are uniquely identified by FlightDate, Carrier, FlightNum, and Origin and Dest. Always include all of the fields that uniquely identify a record, as it makes debugging easier.\n",
    "\n",
    "That is all the features we will start with. The more features you use, the more complex wrangling them can get, so keep it simple and use just a few features at first. Once you have a pipeline set up with sklearn where you can iterate quickly and determine what helps and what doesn’t, you can add more.\n",
    "\n",
    "All these features are simple and tabular, so it is easy to select them and store them as JSON for our model to read.\n",
    "\n",
    "Let’s pick out and check our features. Check out [ch07/extract_features.py](extract_features.py):"
   ]
  },
  {
   "cell_type": "code",
   "execution_count": 6,
   "metadata": {},
   "outputs": [
    {
     "name": "stdout",
     "output_type": "stream",
     "text": [
      "+---------+----------+---------+----------+---------+-------+------+----+--------+--------+--------+----------+----------+\n",
      "|FlightNum|FlightDate|DayOfWeek|DayOfMonth|DayOfYear|Carrier|Origin|Dest|Distance|DepDelay|ArrDelay|CRSDepTime|CRSArrTime|\n",
      "+---------+----------+---------+----------+---------+-------+------+----+--------+--------+--------+----------+----------+\n",
      "|     1519|2015-01-01|        4|         1|      1-1|     AA|   DFW| MEM|   432.0|    -3.0|    -6.0|      1345|      1510|\n",
      "|     1519|2015-01-01|        4|         1|      1-1|     AA|   MEM| DFW|   432.0|    -4.0|    -9.0|      1550|      1730|\n",
      "|     2349|2015-01-01|        4|         1|      1-1|     AA|   ORD| DFW|   802.0|     0.0|    26.0|      1845|      2115|\n",
      "|     1298|2015-01-01|        4|         1|      1-1|     AA|   DFW| ATL|   731.0|   100.0|   112.0|      1820|      2120|\n",
      "|     1422|2015-01-01|        4|         1|      1-1|     AA|   DFW| HDN|   769.0|    78.0|    78.0|      0800|      0925|\n",
      "+---------+----------+---------+----------+---------+-------+------+----+--------+--------+--------+----------+----------+\n",
      "only showing top 5 rows\n",
      "\n"
     ]
    }
   ],
   "source": [
    "import sys, os, re\n",
    "import iso8601\n",
    "import datetime\n",
    "\n",
    "# Load the on-time Parquet file\n",
    "on_time_dataframe = spark.read.parquet('../data/on_time_performance.parquet')\n",
    "on_time_dataframe.registerTempTable(\"on_time_performance\")\n",
    "\n",
    "on_time_dataframe = on_time_dataframe.filter(on_time_dataframe.Month == '1')\n",
    "\n",
    "# Select a few features of interest\n",
    "simple_on_time_features = spark.sql(\"\"\"\n",
    "SELECT\n",
    "  FlightNum,\n",
    "  FlightDate,\n",
    "  DayOfWeek,\n",
    "  DayofMonth AS DayOfMonth,\n",
    "  CONCAT(Month, '-',  DayofMonth) AS DayOfYear,\n",
    "  Carrier,\n",
    "  Origin,\n",
    "  Dest,\n",
    "  Distance,\n",
    "  DepDelay,\n",
    "  ArrDelay,\n",
    "  CRSDepTime,\n",
    "  CRSArrTime\n",
    "FROM on_time_performance\n",
    "  WHERE FlightDate < '2015-02-01'\n",
    "\"\"\")\n",
    "simple_on_time_features.show(5)"
   ]
  },
  {
   "cell_type": "markdown",
   "metadata": {},
   "source": [
    "Looks like a few flights don’t have delay information. Let’s filter those, and sort the data before saving it as a single JSON file:"
   ]
  },
  {
   "cell_type": "code",
   "execution_count": 7,
   "metadata": {
    "collapsed": true
   },
   "outputs": [],
   "source": [
    "# Filter nulls, they can't help us\n",
    "filled_on_time_features = simple_on_time_features.filter(\n",
    "  simple_on_time_features.ArrDelay.isNotNull()\n",
    "  &\n",
    "  simple_on_time_features.DepDelay.isNotNull()\n",
    ")"
   ]
  },
  {
   "cell_type": "markdown",
   "metadata": {},
   "source": [
    "### DateTime Conversion\n",
    "\n",
    "Now we need to convert all our dates and times (datetimes) from a string representation to a mathematical one—otherwise, our predictive algorithms can’t understand them in their proper and most useful contexts. To do so, we need some utility functions:"
   ]
  },
  {
   "cell_type": "code",
   "execution_count": 8,
   "metadata": {
    "collapsed": true
   },
   "outputs": [],
   "source": [
    "# We need to turn timestamps into timestamps, and not strings or numbers\n",
    "def convert_hours(hours_minutes):\n",
    "  hours = hours_minutes[:-2]\n",
    "  minutes = hours_minutes[-2:]\n",
    "  \n",
    "  if hours == '24':\n",
    "    hours = '23'\n",
    "    minutes = '59'\n",
    "  \n",
    "  time_string = \"{}:{}:00Z\".format(hours, minutes)\n",
    "  return time_string"
   ]
  },
  {
   "cell_type": "code",
   "execution_count": 9,
   "metadata": {
    "collapsed": true
   },
   "outputs": [],
   "source": [
    "def compose_datetime(iso_date, time_string):\n",
    "  return \"{} {}\".format(iso_date, time_string)"
   ]
  },
  {
   "cell_type": "code",
   "execution_count": 10,
   "metadata": {
    "collapsed": true
   },
   "outputs": [],
   "source": [
    "def create_iso_string(iso_date, hours_minutes):\n",
    "  time_string = convert_hours(hours_minutes)\n",
    "  full_datetime = compose_datetime(iso_date, time_string)\n",
    "  return full_datetime"
   ]
  },
  {
   "cell_type": "code",
   "execution_count": 11,
   "metadata": {
    "collapsed": true
   },
   "outputs": [],
   "source": [
    "def create_datetime(iso_string):\n",
    "  return iso8601.parse_date(iso_string)"
   ]
  },
  {
   "cell_type": "code",
   "execution_count": 12,
   "metadata": {
    "collapsed": true
   },
   "outputs": [],
   "source": [
    "def convert_datetime(iso_date, hours_minutes):\n",
    "  iso_string = create_iso_string(iso_date, hours_minutes)\n",
    "  dt = create_datetime(iso_string)\n",
    "  return dt"
   ]
  },
  {
   "cell_type": "code",
   "execution_count": 13,
   "metadata": {
    "collapsed": true
   },
   "outputs": [],
   "source": [
    "def day_of_year(iso_date_string):\n",
    "  dt = iso8601.parse_date(iso_date_string)\n",
    "  doy = dt.timetuple().tm_yday\n",
    "  return doy"
   ]
  },
  {
   "cell_type": "code",
   "execution_count": 14,
   "metadata": {
    "collapsed": true
   },
   "outputs": [],
   "source": [
    "def alter_feature_datetimes(row):\n",
    "  flight_date = iso8601.parse_date(row['FlightDate'])\n",
    "  scheduled_dep_time = convert_datetime(row['FlightDate'], row['CRSDepTime'])\n",
    "  scheduled_arr_time = convert_datetime(row['FlightDate'], row['CRSArrTime'])\n",
    "\n",
    "  # Handle overnight flights\n",
    "  if scheduled_arr_time < scheduled_dep_time:\n",
    "    scheduled_arr_time += datetime.timedelta(days=1)\n",
    "\n",
    "  doy = day_of_year(row['FlightDate'])\n",
    "  \n",
    "  return {\n",
    "    'FlightNum': row['FlightNum'],\n",
    "    'FlightDate': flight_date,\n",
    "    'DayOfWeek': int(row['DayOfWeek']),\n",
    "    'DayOfMonth': int(row['DayOfMonth']),\n",
    "    'DayOfYear': doy,\n",
    "    'Carrier': row['Carrier'],\n",
    "    'Origin': row['Origin'],\n",
    "    'Dest': row['Dest'],\n",
    "    'Distance': row['Distance'],\n",
    "    'DepDelay': row['DepDelay'],\n",
    "    'ArrDelay': row['ArrDelay'],\n",
    "    'CRSDepTime': scheduled_dep_time,\n",
    "    'CRSArrTime': scheduled_arr_time,\n",
    "  }"
   ]
  },
  {
   "cell_type": "markdown",
   "metadata": {},
   "source": [
    "In practice, these functions were worked out iteratively over the course of an hour. Employing them is then simple:"
   ]
  },
  {
   "cell_type": "code",
   "execution_count": 15,
   "metadata": {},
   "outputs": [
    {
     "name": "stderr",
     "output_type": "stream",
     "text": [
      "/home/ubuntu/spark/python/pyspark/sql/session.py:356: UserWarning: Using RDD of dict to inferSchema is deprecated. Use pyspark.sql.Row instead\n",
      "  warnings.warn(\"Using RDD of dict to inferSchema is deprecated. \"\n"
     ]
    }
   ],
   "source": [
    "timestamp_features = filled_on_time_features.rdd.map(alter_feature_datetimes)\n",
    "timestamp_df = timestamp_features.toDF()"
   ]
  },
  {
   "cell_type": "markdown",
   "metadata": {},
   "source": [
    "Always explicitly sort your data before vectorizing it. Don’t leave the sort up to the system. If you do so, a software version change or some other unknown cause might ultimately change the sort order of your training data as compared with your result data. This would be catastrophic and confusing and should be avoided at all costs. Explicitly sorting training data in a way that avoids arbitrary sorting is essential:"
   ]
  },
  {
   "cell_type": "code",
   "execution_count": 16,
   "metadata": {
    "collapsed": true
   },
   "outputs": [],
   "source": [
    "# Explicitly sort the data and keep it sorted throughout. \n",
    "# Leave nothing to chance.\n",
    "sorted_features = timestamp_df.sort(\n",
    "  timestamp_df.DayOfYear,\n",
    "  timestamp_df.Carrier,\n",
    "  timestamp_df.Origin,\n",
    "  timestamp_df.Dest,\n",
    "  timestamp_df.FlightNum,\n",
    "  timestamp_df.CRSDepTime,\n",
    "  timestamp_df.CRSArrTime,\n",
    ")"
   ]
  },
  {
   "cell_type": "markdown",
   "metadata": {},
   "source": [
    "Let’s copy the file into a JSON Lines file and check it out:"
   ]
  },
  {
   "cell_type": "code",
   "execution_count": 17,
   "metadata": {
    "collapsed": true
   },
   "outputs": [],
   "source": [
    "# Store as a single JSON file and bzip2 it\n",
    "sorted_features.write.mode(\"overwrite\").json(\"../data/simple_flight_delay_features.json\")"
   ]
  },
  {
   "cell_type": "markdown",
   "metadata": {},
   "source": [
    "Now take a look at the result:"
   ]
  },
  {
   "cell_type": "code",
   "execution_count": 19,
   "metadata": {},
   "outputs": [
    {
     "name": "stdout",
     "output_type": "stream",
     "text": [
      "123M\t../data/simple_flight_delay_features.json\n",
      "3.0G\t../data/simple_flight_delay_features.jsonl\n",
      "56M\t../data/simple_flight_delay_features.jsonl.bz2\n",
      "\n",
      "==> ../data/simple_flight_delay_features.json/part-00000-b813b626-d1d6-43a3-9a1c-60d17b468124-c000.json <==\n",
      "{\"ArrDelay\":13.0,\"CRSArrTime\":\"2015-01-01T18:10:00.000Z\",\"CRSDepTime\":\"2015-01-01T15:30:00.000Z\",\"Carrier\":\"AA\",\"DayOfMonth\":1,\"DayOfWeek\":4,\"DayOfYear\":1,\"DepDelay\":14.0,\"Dest\":\"DFW\",\"Distance\":569.0,\"FlightDate\":\"2015-01-01T00:00:00.000Z\",\"FlightNum\":\"1024\",\"Origin\":\"ABQ\"}\n",
      "{\"ArrDelay\":17.0,\"CRSArrTime\":\"2015-01-01T10:15:00.000Z\",\"CRSDepTime\":\"2015-01-01T07:25:00.000Z\",\"Carrier\":\"AA\",\"DayOfMonth\":1,\"DayOfWeek\":4,\"DayOfYear\":1,\"DepDelay\":14.0,\"Dest\":\"DFW\",\"Distance\":569.0,\"FlightDate\":\"2015-01-01T00:00:00.000Z\",\"FlightNum\":\"1184\",\"Origin\":\"ABQ\"}\n",
      "{\"ArrDelay\":36.0,\"CRSArrTime\":\"2015-01-01T11:45:00.000Z\",\"CRSDepTime\":\"2015-01-01T09:00:00.000Z\",\"Carrier\":\"AA\",\"DayOfMonth\":1,\"DayOfWeek\":4,\"DayOfYear\":1,\"DepDelay\":-2.0,\"Dest\":\"DFW\",\"Distance\":569.0,\"FlightDate\":\"2015-01-01T00:00:00.000Z\",\"FlightNum\":\"336\",\"Origin\":\"ABQ\"}\n",
      "{\"ArrDelay\":-21.0,\"CRSArrTime\":\"2015-01-01T19:30:00.000Z\",\"CRSDepTime\":\"2015-01-01T17:55:00.000Z\",\"Carrier\":\"AA\",\"DayOfMonth\":1,\"DayOfWeek\":4,\"DayOfYear\":1,\"DepDelay\":-1.0,\"Dest\":\"DFW\",\"Distance\":731.0,\"FlightDate\":\"2015-01-01T00:00:00.000Z\",\"FlightNum\":\"125\",\"Origin\":\"ATL\"}\n",
      "{\"ArrDelay\":-14.0,\"CRSArrTime\":\"2015-01-01T10:25:00.000Z\",\"CRSDepTime\":\"2015-01-01T08:55:00.000Z\",\"Carrier\":\"AA\",\"DayOfMonth\":1,\"DayOfWeek\":4,\"DayOfYear\":1,\"DepDelay\":-4.0,\"Dest\":\"DFW\",\"Distance\":731.0,\"FlightDate\":\"2015-01-01T00:00:00.000Z\",\"FlightNum\":\"1455\",\"Origin\":\"ATL\"}\n",
      "\n",
      "==> ../data/simple_flight_delay_features.json/part-00001-b813b626-d1d6-43a3-9a1c-60d17b468124-c000.json <==\n",
      "{\"ArrDelay\":-18.0,\"CRSArrTime\":\"2015-01-01T22:59:00.000Z\",\"CRSDepTime\":\"2015-01-01T21:38:00.000Z\",\"Carrier\":\"AS\",\"DayOfMonth\":1,\"DayOfWeek\":4,\"DayOfYear\":1,\"DepDelay\":-13.0,\"Dest\":\"PSP\",\"Distance\":421.0,\"FlightDate\":\"2015-01-01T00:00:00.000Z\",\"FlightNum\":\"386\",\"Origin\":\"SFO\"}\n",
      "{\"ArrDelay\":49.0,\"CRSArrTime\":\"2015-01-01T22:41:00.000Z\",\"CRSDepTime\":\"2015-01-01T20:45:00.000Z\",\"Carrier\":\"AS\",\"DayOfMonth\":1,\"DayOfWeek\":4,\"DayOfYear\":1,\"DepDelay\":36.0,\"Dest\":\"SEA\",\"Distance\":679.0,\"FlightDate\":\"2015-01-01T00:00:00.000Z\",\"FlightNum\":\"223\",\"Origin\":\"SFO\"}\n",
      "{\"ArrDelay\":-3.0,\"CRSArrTime\":\"2015-01-01T12:12:00.000Z\",\"CRSDepTime\":\"2015-01-01T10:10:00.000Z\",\"Carrier\":\"AS\",\"DayOfMonth\":1,\"DayOfWeek\":4,\"DayOfYear\":1,\"DepDelay\":0.0,\"Dest\":\"SEA\",\"Distance\":679.0,\"FlightDate\":\"2015-01-01T00:00:00.000Z\",\"FlightNum\":\"303\",\"Origin\":\"SFO\"}\n",
      "{\"ArrDelay\":-4.0,\"CRSArrTime\":\"2015-01-01T15:03:00.000Z\",\"CRSDepTime\":\"2015-01-01T13:00:00.000Z\",\"Carrier\":\"AS\",\"DayOfMonth\":1,\"DayOfWeek\":4,\"DayOfYear\":1,\"DepDelay\":1.0,\"Dest\":\"SEA\",\"Distance\":679.0,\"FlightDate\":\"2015-01-01T00:00:00.000Z\",\"FlightNum\":\"305\",\"Origin\":\"SFO\"}\n",
      "{\"ArrDelay\":-1.0,\"CRSArrTime\":\"2015-01-01T11:25:00.000Z\",\"CRSDepTime\":\"2015-01-01T09:20:00.000Z\",\"Carrier\":\"AS\",\"DayOfMonth\":1,\"DayOfWeek\":4,\"DayOfYear\":1,\"DepDelay\":2.0,\"Dest\":\"SEA\",\"Distance\":679.0,\"FlightDate\":\"2015-01-01T00:00:00.000Z\",\"FlightNum\":\"311\",\"Origin\":\"SFO\"}\n",
      "\n",
      "==> ../data/simple_flight_delay_features.json/part-00002-b813b626-d1d6-43a3-9a1c-60d17b468124-c000.json <==\n",
      "{\"ArrDelay\":-45.0,\"CRSArrTime\":\"2015-01-01T22:55:00.000Z\",\"CRSDepTime\":\"2015-01-01T19:29:00.000Z\",\"Carrier\":\"DL\",\"DayOfMonth\":1,\"DayOfWeek\":4,\"DayOfYear\":1,\"DepDelay\":-5.0,\"Dest\":\"FLL\",\"Distance\":1069.0,\"FlightDate\":\"2015-01-01T00:00:00.000Z\",\"FlightNum\":\"2577\",\"Origin\":\"JFK\"}\n",
      "{\"ArrDelay\":-17.0,\"CRSArrTime\":\"2015-01-01T14:27:00.000Z\",\"CRSDepTime\":\"2015-01-01T11:15:00.000Z\",\"Carrier\":\"DL\",\"DayOfMonth\":1,\"DayOfWeek\":4,\"DayOfYear\":1,\"DepDelay\":0.0,\"Dest\":\"FLL\",\"Distance\":1069.0,\"FlightDate\":\"2015-01-01T00:00:00.000Z\",\"FlightNum\":\"494\",\"Origin\":\"JFK\"}\n",
      "{\"ArrDelay\":-6.0,\"CRSArrTime\":\"2015-01-01T15:43:00.000Z\",\"CRSDepTime\":\"2015-01-01T08:45:00.000Z\",\"Carrier\":\"DL\",\"DayOfMonth\":1,\"DayOfWeek\":4,\"DayOfYear\":1,\"DepDelay\":1.0,\"Dest\":\"HNL\",\"Distance\":4983.0,\"FlightDate\":\"2015-01-01T00:00:00.000Z\",\"FlightNum\":\"420\",\"Origin\":\"JFK\"}\n",
      "{\"ArrDelay\":22.0,\"CRSArrTime\":\"2015-01-01T23:28:00.000Z\",\"CRSDepTime\":\"2015-01-01T20:30:00.000Z\",\"Carrier\":\"DL\",\"DayOfMonth\":1,\"DayOfWeek\":4,\"DayOfYear\":1,\"DepDelay\":-2.0,\"Dest\":\"LAS\",\"Distance\":2248.0,\"FlightDate\":\"2015-01-01T00:00:00.000Z\",\"FlightNum\":\"2323\",\"Origin\":\"JFK\"}\n",
      "{\"ArrDelay\":-8.0,\"CRSArrTime\":\"2015-01-01T13:06:00.000Z\",\"CRSDepTime\":\"2015-01-01T10:15:00.000Z\",\"Carrier\":\"DL\",\"DayOfMonth\":1,\"DayOfWeek\":4,\"DayOfYear\":1,\"DepDelay\":-1.0,\"Dest\":\"LAS\",\"Distance\":2248.0,\"FlightDate\":\"2015-01-01T00:00:00.000Z\",\"FlightNum\":\"404\",\"Origin\":\"JFK\"}\n",
      "\n",
      "==> ../data/simple_flight_delay_features.json/part-00003-b813b626-d1d6-43a3-9a1c-60d17b468124-c000.json <==\n",
      "{\"ArrDelay\":4.0,\"CRSArrTime\":\"2015-01-01T13:55:00.000Z\",\"CRSDepTime\":\"2015-01-01T13:10:00.000Z\",\"Carrier\":\"HA\",\"DayOfMonth\":1,\"DayOfWeek\":4,\"DayOfYear\":1,\"DepDelay\":-3.0,\"Dest\":\"OGG\",\"Distance\":201.0,\"FlightDate\":\"2015-01-01T00:00:00.000Z\",\"FlightNum\":\"284\",\"Origin\":\"LIH\"}\n",
      "{\"ArrDelay\":5.0,\"CRSArrTime\":\"2015-01-01T17:08:00.000Z\",\"CRSDepTime\":\"2015-01-01T16:23:00.000Z\",\"Carrier\":\"HA\",\"DayOfMonth\":1,\"DayOfWeek\":4,\"DayOfYear\":1,\"DepDelay\":8.0,\"Dest\":\"OGG\",\"Distance\":201.0,\"FlightDate\":\"2015-01-01T00:00:00.000Z\",\"FlightNum\":\"294\",\"Origin\":\"LIH\"}\n",
      "{\"ArrDelay\":-2.0,\"CRSArrTime\":\"2015-01-01T11:17:00.000Z\",\"CRSDepTime\":\"2015-01-01T10:32:00.000Z\",\"Carrier\":\"HA\",\"DayOfMonth\":1,\"DayOfWeek\":4,\"DayOfYear\":1,\"DepDelay\":-7.0,\"Dest\":\"OGG\",\"Distance\":201.0,\"FlightDate\":\"2015-01-01T00:00:00.000Z\",\"FlightNum\":\"508\",\"Origin\":\"LIH\"}\n",
      "{\"ArrDelay\":-18.0,\"CRSArrTime\":\"2015-01-01T13:10:00.000Z\",\"CRSDepTime\":\"2015-01-01T09:35:00.000Z\",\"Carrier\":\"HA\",\"DayOfMonth\":1,\"DayOfWeek\":4,\"DayOfYear\":1,\"DepDelay\":-12.0,\"Dest\":\"HNL\",\"Distance\":2409.0,\"FlightDate\":\"2015-01-01T00:00:00.000Z\",\"FlightNum\":\"47\",\"Origin\":\"OAK\"}\n",
      "{\"ArrDelay\":-8.0,\"CRSArrTime\":\"2015-01-01T11:40:00.000Z\",\"CRSDepTime\":\"2015-01-01T08:20:00.000Z\",\"Carrier\":\"HA\",\"DayOfMonth\":1,\"DayOfWeek\":4,\"DayOfYear\":1,\"DepDelay\":-5.0,\"Dest\":\"OGG\",\"Distance\":2349.0,\"FlightDate\":\"2015-01-01T00:00:00.000Z\",\"FlightNum\":\"23\",\"Origin\":\"OAK\"}\n",
      "\n",
      "==> ../data/simple_flight_delay_features.json/part-00004-b813b626-d1d6-43a3-9a1c-60d17b468124-c000.json <==\n",
      "{\"ArrDelay\":-12.0,\"CRSArrTime\":\"2015-01-01T12:25:00.000Z\",\"CRSDepTime\":\"2015-01-01T11:35:00.000Z\",\"Carrier\":\"OO\",\"DayOfMonth\":1,\"DayOfWeek\":4,\"DayOfYear\":1,\"DepDelay\":-6.0,\"Dest\":\"LAX\",\"Distance\":109.0,\"FlightDate\":\"2015-01-01T00:00:00.000Z\",\"FlightNum\":\"2626\",\"Origin\":\"SAN\"}\n",
      "{\"ArrDelay\":-10.0,\"CRSArrTime\":\"2015-01-01T21:04:00.000Z\",\"CRSDepTime\":\"2015-01-01T20:14:00.000Z\",\"Carrier\":\"OO\",\"DayOfMonth\":1,\"DayOfWeek\":4,\"DayOfYear\":1,\"DepDelay\":-7.0,\"Dest\":\"LAX\",\"Distance\":109.0,\"FlightDate\":\"2015-01-01T00:00:00.000Z\",\"FlightNum\":\"4505\",\"Origin\":\"SAN\"}\n",
      "{\"ArrDelay\":2.0,\"CRSArrTime\":\"2015-01-01T17:25:00.000Z\",\"CRSDepTime\":\"2015-01-01T16:33:00.000Z\",\"Carrier\":\"OO\",\"DayOfMonth\":1,\"DayOfWeek\":4,\"DayOfYear\":1,\"DepDelay\":-1.0,\"Dest\":\"LAX\",\"Distance\":109.0,\"FlightDate\":\"2015-01-01T00:00:00.000Z\",\"FlightNum\":\"4541\",\"Origin\":\"SAN\"}\n",
      "{\"ArrDelay\":-8.0,\"CRSArrTime\":\"2015-01-01T10:55:00.000Z\",\"CRSDepTime\":\"2015-01-01T09:55:00.000Z\",\"Carrier\":\"OO\",\"DayOfMonth\":1,\"DayOfWeek\":4,\"DayOfYear\":1,\"DepDelay\":-2.0,\"Dest\":\"LAX\",\"Distance\":109.0,\"FlightDate\":\"2015-01-01T00:00:00.000Z\",\"FlightNum\":\"4840\",\"Origin\":\"SAN\"}\n",
      "{\"ArrDelay\":19.0,\"CRSArrTime\":\"2015-01-01T15:10:00.000Z\",\"CRSDepTime\":\"2015-01-01T14:21:00.000Z\",\"Carrier\":\"OO\",\"DayOfMonth\":1,\"DayOfWeek\":4,\"DayOfYear\":1,\"DepDelay\":33.0,\"Dest\":\"LAX\",\"Distance\":109.0,\"FlightDate\":\"2015-01-01T00:00:00.000Z\",\"FlightNum\":\"4982\",\"Origin\":\"SAN\"}\n",
      "\n",
      "==> ../data/simple_flight_delay_features.json/part-00005-b813b626-d1d6-43a3-9a1c-60d17b468124-c000.json <==\n",
      "{\"ArrDelay\":-11.0,\"CRSArrTime\":\"2015-01-01T16:11:00.000Z\",\"CRSDepTime\":\"2015-01-01T14:50:00.000Z\",\"Carrier\":\"US\",\"DayOfMonth\":1,\"DayOfWeek\":4,\"DayOfYear\":1,\"DepDelay\":-8.0,\"Dest\":\"PIT\",\"Distance\":366.0,\"FlightDate\":\"2015-01-01T00:00:00.000Z\",\"FlightNum\":\"2090\",\"Origin\":\"CLT\"}\n",
      "{\"ArrDelay\":2.0,\"CRSArrTime\":\"2015-01-01T21:18:00.000Z\",\"CRSDepTime\":\"2015-01-01T19:59:00.000Z\",\"Carrier\":\"US\",\"DayOfMonth\":1,\"DayOfWeek\":4,\"DayOfYear\":1,\"DepDelay\":1.0,\"Dest\":\"PIT\",\"Distance\":366.0,\"FlightDate\":\"2015-01-01T00:00:00.000Z\",\"FlightNum\":\"2092\",\"Origin\":\"CLT\"}\n",
      "{\"ArrDelay\":-4.0,\"CRSArrTime\":\"2015-01-01T23:25:00.000Z\",\"CRSDepTime\":\"2015-01-01T22:09:00.000Z\",\"Carrier\":\"US\",\"DayOfMonth\":1,\"DayOfWeek\":4,\"DayOfYear\":1,\"DepDelay\":-1.0,\"Dest\":\"PIT\",\"Distance\":366.0,\"FlightDate\":\"2015-01-01T00:00:00.000Z\",\"FlightNum\":\"2094\",\"Origin\":\"CLT\"}\n",
      "{\"ArrDelay\":23.0,\"CRSArrTime\":\"2015-01-01T11:19:00.000Z\",\"CRSDepTime\":\"2015-01-01T09:50:00.000Z\",\"Carrier\":\"US\",\"DayOfMonth\":1,\"DayOfWeek\":4,\"DayOfYear\":1,\"DepDelay\":36.0,\"Dest\":\"PIT\",\"Distance\":366.0,\"FlightDate\":\"2015-01-01T00:00:00.000Z\",\"FlightNum\":\"2096\",\"Origin\":\"CLT\"}\n",
      "{\"ArrDelay\":-20.0,\"CRSArrTime\":\"2015-01-01T13:10:00.000Z\",\"CRSDepTime\":\"2015-01-01T11:45:00.000Z\",\"Carrier\":\"US\",\"DayOfMonth\":1,\"DayOfWeek\":4,\"DayOfYear\":1,\"DepDelay\":-8.0,\"Dest\":\"PIT\",\"Distance\":366.0,\"FlightDate\":\"2015-01-01T00:00:00.000Z\",\"FlightNum\":\"2098\",\"Origin\":\"CLT\"}\n",
      "\n",
      "==> ../data/simple_flight_delay_features.json/part-00006-b813b626-d1d6-43a3-9a1c-60d17b468124-c000.json <==\n",
      "{\"ArrDelay\":38.0,\"CRSArrTime\":\"2015-01-01T19:40:00.000Z\",\"CRSDepTime\":\"2015-01-01T18:20:00.000Z\",\"Carrier\":\"WN\",\"DayOfMonth\":1,\"DayOfWeek\":4,\"DayOfYear\":1,\"DepDelay\":50.0,\"Dest\":\"PHX\",\"Distance\":347.0,\"FlightDate\":\"2015-01-01T00:00:00.000Z\",\"FlightNum\":\"1039\",\"Origin\":\"ELP\"}\n",
      "{\"ArrDelay\":18.0,\"CRSArrTime\":\"2015-01-01T14:10:00.000Z\",\"CRSDepTime\":\"2015-01-01T12:55:00.000Z\",\"Carrier\":\"WN\",\"DayOfMonth\":1,\"DayOfWeek\":4,\"DayOfYear\":1,\"DepDelay\":17.0,\"Dest\":\"PHX\",\"Distance\":347.0,\"FlightDate\":\"2015-01-01T00:00:00.000Z\",\"FlightNum\":\"1348\",\"Origin\":\"ELP\"}\n",
      "{\"ArrDelay\":6.0,\"CRSArrTime\":\"2015-01-01T16:45:00.000Z\",\"CRSDepTime\":\"2015-01-01T15:30:00.000Z\",\"Carrier\":\"WN\",\"DayOfMonth\":1,\"DayOfWeek\":4,\"DayOfYear\":1,\"DepDelay\":1.0,\"Dest\":\"PHX\",\"Distance\":347.0,\"FlightDate\":\"2015-01-01T00:00:00.000Z\",\"FlightNum\":\"1353\",\"Origin\":\"ELP\"}\n",
      "{\"ArrDelay\":3.0,\"CRSArrTime\":\"2015-01-01T11:20:00.000Z\",\"CRSDepTime\":\"2015-01-01T10:00:00.000Z\",\"Carrier\":\"WN\",\"DayOfMonth\":1,\"DayOfWeek\":4,\"DayOfYear\":1,\"DepDelay\":-3.0,\"Dest\":\"PHX\",\"Distance\":347.0,\"FlightDate\":\"2015-01-01T00:00:00.000Z\",\"FlightNum\":\"4999\",\"Origin\":\"ELP\"}\n",
      "{\"ArrDelay\":6.0,\"CRSArrTime\":\"2015-01-01T20:45:00.000Z\",\"CRSDepTime\":\"2015-01-01T18:25:00.000Z\",\"Carrier\":\"WN\",\"DayOfMonth\":1,\"DayOfWeek\":4,\"DayOfYear\":1,\"DepDelay\":9.0,\"Dest\":\"SAT\",\"Distance\":496.0,\"FlightDate\":\"2015-01-01T00:00:00.000Z\",\"FlightNum\":\"771\",\"Origin\":\"ELP\"}\n",
      "\n",
      "==> ../data/simple_flight_delay_features.json/part-00007-b813b626-d1d6-43a3-9a1c-60d17b468124-c000.json <==\n",
      "{\"ArrDelay\":2.0,\"CRSArrTime\":\"2015-01-01T14:10:00.000Z\",\"CRSDepTime\":\"2015-01-01T13:05:00.000Z\",\"Carrier\":\"WN\",\"DayOfMonth\":1,\"DayOfWeek\":4,\"DayOfYear\":1,\"DepDelay\":-2.0,\"Dest\":\"MDW\",\"Distance\":632.0,\"FlightDate\":\"2015-01-01T00:00:00.000Z\",\"FlightNum\":\"183\",\"Origin\":\"RDU\"}\n",
      "{\"ArrDelay\":-6.0,\"CRSArrTime\":\"2015-01-01T18:30:00.000Z\",\"CRSDepTime\":\"2015-01-01T17:25:00.000Z\",\"Carrier\":\"WN\",\"DayOfMonth\":1,\"DayOfWeek\":4,\"DayOfYear\":1,\"DepDelay\":-5.0,\"Dest\":\"MDW\",\"Distance\":632.0,\"FlightDate\":\"2015-01-01T00:00:00.000Z\",\"FlightNum\":\"2500\",\"Origin\":\"RDU\"}\n",
      "{\"ArrDelay\":-4.0,\"CRSArrTime\":\"2015-01-01T18:35:00.000Z\",\"CRSDepTime\":\"2015-01-01T15:30:00.000Z\",\"Carrier\":\"WN\",\"DayOfMonth\":1,\"DayOfWeek\":4,\"DayOfYear\":1,\"DepDelay\":2.0,\"Dest\":\"PHX\",\"Distance\":1891.0,\"FlightDate\":\"2015-01-01T00:00:00.000Z\",\"FlightNum\":\"4988\",\"Origin\":\"RDU\"}\n",
      "{\"ArrDelay\":47.0,\"CRSArrTime\":\"2015-01-01T20:45:00.000Z\",\"CRSDepTime\":\"2015-01-01T19:30:00.000Z\",\"Carrier\":\"WN\",\"DayOfMonth\":1,\"DayOfWeek\":4,\"DayOfYear\":1,\"DepDelay\":53.0,\"Dest\":\"STL\",\"Distance\":667.0,\"FlightDate\":\"2015-01-01T00:00:00.000Z\",\"FlightNum\":\"475\",\"Origin\":\"RDU\"}\n",
      "{\"ArrDelay\":45.0,\"CRSArrTime\":\"2015-01-01T20:00:00.000Z\",\"CRSDepTime\":\"2015-01-01T18:10:00.000Z\",\"Carrier\":\"WN\",\"DayOfMonth\":1,\"DayOfWeek\":4,\"DayOfYear\":1,\"DepDelay\":56.0,\"Dest\":\"TPA\",\"Distance\":587.0,\"FlightDate\":\"2015-01-01T00:00:00.000Z\",\"FlightNum\":\"189\",\"Origin\":\"RDU\"}\n",
      "\n",
      "==> ../data/simple_flight_delay_features.json/part-00008-b813b626-d1d6-43a3-9a1c-60d17b468124-c000.json <==\n",
      "{\"ArrDelay\":-1.0,\"CRSArrTime\":\"2015-01-02T21:35:00.000Z\",\"CRSDepTime\":\"2015-01-02T15:40:00.000Z\",\"Carrier\":\"AA\",\"DayOfMonth\":2,\"DayOfWeek\":5,\"DayOfYear\":2,\"DepDelay\":16.0,\"Dest\":\"ORD\",\"Distance\":1723.0,\"FlightDate\":\"2015-01-02T00:00:00.000Z\",\"FlightNum\":\"159\",\"Origin\":\"SAN\"}\n",
      "{\"ArrDelay\":-31.0,\"CRSArrTime\":\"2015-01-02T15:00:00.000Z\",\"CRSDepTime\":\"2015-01-02T09:00:00.000Z\",\"Carrier\":\"AA\",\"DayOfMonth\":2,\"DayOfWeek\":5,\"DayOfYear\":2,\"DepDelay\":-8.0,\"Dest\":\"ORD\",\"Distance\":1723.0,\"FlightDate\":\"2015-01-02T00:00:00.000Z\",\"FlightNum\":\"92\",\"Origin\":\"SAN\"}\n",
      "{\"ArrDelay\":-22.0,\"CRSArrTime\":\"2015-01-02T18:20:00.000Z\",\"CRSDepTime\":\"2015-01-02T12:15:00.000Z\",\"Carrier\":\"AA\",\"DayOfMonth\":2,\"DayOfWeek\":5,\"DayOfYear\":2,\"DepDelay\":-6.0,\"Dest\":\"ORD\",\"Distance\":1723.0,\"FlightDate\":\"2015-01-02T00:00:00.000Z\",\"FlightNum\":\"936\",\"Origin\":\"SAN\"}\n",
      "{\"ArrDelay\":-11.0,\"CRSArrTime\":\"2015-01-02T08:30:00.000Z\",\"CRSDepTime\":\"2015-01-02T07:20:00.000Z\",\"Carrier\":\"AA\",\"DayOfMonth\":2,\"DayOfWeek\":5,\"DayOfYear\":2,\"DepDelay\":-3.0,\"Dest\":\"DFW\",\"Distance\":247.0,\"FlightDate\":\"2015-01-02T00:00:00.000Z\",\"FlightNum\":\"1206\",\"Origin\":\"SAT\"}\n",
      "{\"ArrDelay\":-6.0,\"CRSArrTime\":\"2015-01-02T09:15:00.000Z\",\"CRSDepTime\":\"2015-01-02T08:05:00.000Z\",\"Carrier\":\"AA\",\"DayOfMonth\":2,\"DayOfWeek\":5,\"DayOfYear\":2,\"DepDelay\":8.0,\"Dest\":\"DFW\",\"Distance\":247.0,\"FlightDate\":\"2015-01-02T00:00:00.000Z\",\"FlightNum\":\"1274\",\"Origin\":\"SAT\"}\n",
      "\n",
      "==> ../data/simple_flight_delay_features.json/part-00009-b813b626-d1d6-43a3-9a1c-60d17b468124-c000.json <==\n",
      "{\"ArrDelay\":-5.0,\"CRSArrTime\":\"2015-01-02T22:50:00.000Z\",\"CRSDepTime\":\"2015-01-02T20:45:00.000Z\",\"Carrier\":\"DL\",\"DayOfMonth\":2,\"DayOfWeek\":5,\"DayOfYear\":2,\"DepDelay\":12.0,\"Dest\":\"LAX\",\"Distance\":1947.0,\"FlightDate\":\"2015-01-02T00:00:00.000Z\",\"FlightNum\":\"2255\",\"Origin\":\"ATL\"}\n",
      "{\"ArrDelay\":-22.0,\"CRSArrTime\":\"2015-01-02T23:50:00.000Z\",\"CRSDepTime\":\"2015-01-02T21:40:00.000Z\",\"Carrier\":\"DL\",\"DayOfMonth\":2,\"DayOfWeek\":5,\"DayOfYear\":2,\"DepDelay\":8.0,\"Dest\":\"LAX\",\"Distance\":1947.0,\"FlightDate\":\"2015-01-02T00:00:00.000Z\",\"FlightNum\":\"2355\",\"Origin\":\"ATL\"}\n",
      "{\"ArrDelay\":-5.0,\"CRSArrTime\":\"2015-01-02T17:13:00.000Z\",\"CRSDepTime\":\"2015-01-02T15:03:00.000Z\",\"Carrier\":\"DL\",\"DayOfMonth\":2,\"DayOfWeek\":5,\"DayOfYear\":2,\"DepDelay\":14.0,\"Dest\":\"LAX\",\"Distance\":1947.0,\"FlightDate\":\"2015-01-02T00:00:00.000Z\",\"FlightNum\":\"370\",\"Origin\":\"ATL\"}\n",
      "{\"ArrDelay\":2.0,\"CRSArrTime\":\"2015-01-02T18:34:00.000Z\",\"CRSDepTime\":\"2015-01-02T16:25:00.000Z\",\"Carrier\":\"DL\",\"DayOfMonth\":2,\"DayOfWeek\":5,\"DayOfYear\":2,\"DepDelay\":23.0,\"Dest\":\"LAX\",\"Distance\":1947.0,\"FlightDate\":\"2015-01-02T00:00:00.000Z\",\"FlightNum\":\"81\",\"Origin\":\"ATL\"}\n",
      "{\"ArrDelay\":-2.0,\"CRSArrTime\":\"2015-01-02T22:58:00.000Z\",\"CRSDepTime\":\"2015-01-02T21:44:00.000Z\",\"Carrier\":\"DL\",\"DayOfMonth\":2,\"DayOfWeek\":5,\"DayOfYear\":2,\"DepDelay\":-2.0,\"Dest\":\"LEX\",\"Distance\":304.0,\"FlightDate\":\"2015-01-02T00:00:00.000Z\",\"FlightNum\":\"1940\",\"Origin\":\"ATL\"}\n"
     ]
    }
   ],
   "source": [
    "%%bash\n",
    "du -sh ../data/simple_flight_delay_features.json*\n",
    "echo \"\"\n",
    "head -5 ../data/simple_flight_delay_features.json/part-0000*"
   ]
  },
  {
   "cell_type": "markdown",
   "metadata": {},
   "source": [
    "Looking good! Our features are now prepared for vectorization."
   ]
  },
  {
   "cell_type": "markdown",
   "metadata": {},
   "source": [
    "## Building a Classifier with Spark MLlib\n",
    "\n",
    "As we saw in our last example, in order to use sklearn to classify or regress all 5.4 million usable flight on-time performance records for 2015, we had to sample down to 1 million records. There simply isn’t enough RAM on one typical machine to train the model on all the training data. This is where Spark MLlib comes in. From the Machine Learning Library (MLlib) Guide:\n",
    "\n",
    "_Its goal is to make practical machine learning scalable and easy. At a high level, it provides tools such as:_\n",
    "\n",
    "* ML Algorithms: common learning algorithms such as classification, regression, clustering, and collaborative filtering\n",
    "\n",
    "* Featurization: feature extraction, transformation, dimensionality reduction, and selection\n",
    "\n",
    "* Pipelines: tools for constructing, evaluating, and tuning ML Pipelines\n",
    "\n",
    "* Persistence: saving and load algorithms, models, and Pipelines\n",
    "\n",
    "* Utilities: linear algebra, statistics, data handling, etc.\n",
    "\n",
    "MLlib uses Spark DataFrames as the foundation for tables and records. Although some RDD-based methods still remain, they are not under active development.\n",
    "\n",
    "Note that we are using Spark MLlib because it can work across many machines to handle large volumes of data. We’re only using one machine in this book’s examples, but the code and the process are identical regardless of the size of the cluster. By learning to build a predictive model with Spark MLlib on a single machine, you are learning to operate a cluster of 1,000 machines. Services like Amazon Elastic MapReduce make booting a working Spark cluster a matter of point-and-click. We covered doing analytics in the cloud in the first edition, but removed that chapter to make room for other content in this edition.\n",
    "\n",
    "Now, follow along as we build a classifier using PySpark and Spark MLlib in [ch07/train_spark_mllib_model.py](train_spark_mllib_model.py).\n",
    "\n",
    "### Loading Our Training Data with a Specified Schema\n",
    "\n",
    "First we must load our training data back into Spark. When we first loaded our data, Spark SQL had trouble detecting our timestamp and date types, so we must specify a schema for Spark to go on (just like in our sklearn model, it is important for our training data to be typed correctly for it to be interpreted for statistical inference):"
   ]
  },
  {
   "cell_type": "code",
   "execution_count": 20,
   "metadata": {},
   "outputs": [
    {
     "data": {
      "text/plain": [
       "Row(ArrDelay=-14.0, CRSArrTime=datetime.datetime(2015, 1, 18, 15, 19), CRSDepTime=datetime.datetime(2015, 1, 18, 13, 35), Carrier='B6', DayOfMonth=18, DayOfWeek=7, DayOfYear=18, DepDelay=-5.0, Dest='DCA', Distance=634.0, FlightDate=datetime.date(2015, 1, 18), FlightNum='716', Origin='JAX')"
      ]
     },
     "execution_count": 20,
     "metadata": {},
     "output_type": "execute_result"
    }
   ],
   "source": [
    "#\n",
    "# {\n",
    "#   \"ArrDelay\":5.0,\"CRSArrTime\":\"2015-12-31T03:20:00.000-08:00\",\n",
    "#   \"CRSDepTime\":\"2015-12-31T03:05:00.000-08:00\",\n",
    "#   \"Carrier\":\"WN\",\"DayOfMonth\":31,\"DayOfWeek\":4,\n",
    "#   \"DayOfYear\":365,\"DepDelay\":14.0,\"Dest\":\"SAN\",\n",
    "#   \"Distance\":368.0, \"FlightDate\":\"2015-12-30T16:00:00.000-08:00\",\n",
    "#   \"FlightNum\":\"6109\",\"Origin\":\"TUS\"\n",
    "# }\n",
    "#\n",
    "\n",
    "from pyspark.sql.types import StringType, IntegerType, FloatType, DateType, TimestampType \n",
    "from pyspark.sql.types import StructType, StructField\n",
    "\n",
    "schema = StructType([\n",
    "  StructField(\"ArrDelay\", FloatType(), True),       # \"ArrDelay\":5.0\n",
    "  StructField(\"CRSArrTime\", TimestampType(), True), # \"CRSArrTime\":\"2015-12...\"\n",
    "  StructField(\"CRSDepTime\", TimestampType(), True), # \"CRSDepTime\":\"2015-12...\"\n",
    "  StructField(\"Carrier\", StringType(), True),       # \"Carrier\":\"WN\"\n",
    "  StructField(\"DayOfMonth\", IntegerType(), True),   # \"DayOfMonth\":31\n",
    "  StructField(\"DayOfWeek\", IntegerType(), True),    # \"DayOfWeek\":4\n",
    "  StructField(\"DayOfYear\", IntegerType(), True),    # \"DayOfYear\":365\n",
    "  StructField(\"DepDelay\", FloatType(), True),       # \"DepDelay\":14.0\n",
    "  StructField(\"Dest\", StringType(), True),          # \"Dest\":\"SAN\"\n",
    "  StructField(\"Distance\", FloatType(), True),       # \"Distance\":368.0\n",
    "  StructField(\"FlightDate\", DateType(), True),      # \"FlightDate\":\"2015-12...\"\n",
    "  StructField(\"FlightNum\", StringType(), True),     # \"FlightNum\":\"6109\"\n",
    "  StructField(\"Origin\", StringType(), True),        # \"Origin\":\"TUS\"\n",
    "])\n",
    "\n",
    "features = spark.read.json(\n",
    "  \"../data/simple_flight_delay_features.json\", \n",
    "  schema=schema\n",
    ")\n",
    "features.first()"
   ]
  },
  {
   "cell_type": "markdown",
   "metadata": {},
   "source": [
    "With our data loaded, now we need to prepare our data for classification.\n",
    "\n",
    "### Addressing Nulls\n",
    "\n",
    "Before we can use the tools that PySpark’s MLlib provides us, we must eliminate null values from fields in rows of our DataFrames. Otherwise our code will crash as we start to employ tools from `pyspark.ml.features`.\n",
    "\n",
    "To detect null values in columns, we need only loop through our columns and inspect them with `pyspark.sql.Column.isNull`:"
   ]
  },
  {
   "cell_type": "code",
   "execution_count": 21,
   "metadata": {},
   "outputs": [
    {
     "name": "stdout",
     "output_type": "stream",
     "text": [
      "[]\n"
     ]
    }
   ],
   "source": [
    "null_counts = [(column, features.where(features[column].isNull()).count()) \\\n",
    "  for column in features.columns]\n",
    "cols_with_nulls = filter(lambda x: x[1] > 0, null_counts)\n",
    "print(list(cols_with_nulls))"
   ]
  },
  {
   "cell_type": "markdown",
   "metadata": {},
   "source": [
    "If null values are found, we need only employ `DataFrame.na.fill` to fill them. Supply `fillna` with a dict with the column name as the key and the column’s fill value as the value, and it will fill in the column name with that value:"
   ]
  },
  {
   "cell_type": "code",
   "execution_count": 21,
   "metadata": {
    "collapsed": true
   },
   "outputs": [],
   "source": [
    "#filled_features = features.na.fill({'column_name': 'missing_replacement_value'})"
   ]
  },
  {
   "cell_type": "markdown",
   "metadata": {},
   "source": [
    "In our dataset, no nulls are found, but there usually are some, so take note of this step for the future. It will save you trouble as you start engineering and vectorizing your features."
   ]
  },
  {
   "cell_type": "markdown",
   "metadata": {},
   "source": [
    "### Replacing FlightNum with Route\n",
    "\n",
    "At this point it occurs to us that `FlightNums` will change, but routes do not… so long as we define a route as a pair of cities. So, let’s add a column Route, which is defined as the concatenation of `Origin`, -, and `Dest`, such as `ATL-SFO`. This will very simply inform our model whether certain routes are frequently delayed, separately from whether certain airports tend to have delays for inbound or outbound flights.\n",
    "\n",
    "To add Route, we need to use two utilities from the pyspark.sql.functions package. The concat function concatenates multiple strings together, and the lit function is needed to specify a literal string to concatenate:"
   ]
  },
  {
   "cell_type": "code",
   "execution_count": 22,
   "metadata": {},
   "outputs": [
    {
     "name": "stdout",
     "output_type": "stream",
     "text": [
      "+------+----+-------+\n",
      "|Origin|Dest|  Route|\n",
      "+------+----+-------+\n",
      "|   JAX| DCA|JAX-DCA|\n",
      "|   JAX| FLL|JAX-FLL|\n",
      "|   JAX| FLL|JAX-FLL|\n",
      "|   JAX| JFK|JAX-JFK|\n",
      "|   JAX| JFK|JAX-JFK|\n",
      "+------+----+-------+\n",
      "only showing top 5 rows\n",
      "\n"
     ]
    }
   ],
   "source": [
    "#\n",
    "# Add a Route variable to replace FlightNum\n",
    "#\n",
    "from pyspark.sql.functions import lit, concat\n",
    "features_with_route = features.withColumn(\n",
    "  'Route',\n",
    "  concat(\n",
    "    features.Origin,\n",
    "    lit('-'),\n",
    "    features.Dest\n",
    "  )\n",
    ")\n",
    "features_with_route.select(\"Origin\", \"Dest\", \"Route\").show(5)"
   ]
  },
  {
   "cell_type": "markdown",
   "metadata": {},
   "source": [
    "### RDD Alternative RouteNum\n",
    "\n",
    "Note that if we wanted to, we could convert the record to an RDD, where we could run something like the following:\n",
    "\n",
    "```python\n",
    "def add_route(record):\n",
    "  record = record.asDict()\n",
    "  record['Route'] = record['Origin'] + \"-\" + record['Dest']\n",
    "  return record\n",
    "\n",
    "features_with_route_rdd = features.rdd.map(add_route)\n",
    "```\n",
    "\n",
    "The reason to use DataFrames is that they are much, much faster than RDDs, even if the API is slightly more complex."
   ]
  },
  {
   "cell_type": "markdown",
   "metadata": {},
   "source": [
    "### Bucketizing a Continuous Variable for Classification\n",
    "\n",
    "Classification does not work to predict a continuous variable like flight delays (in minutes); classifications predict two or more categories. Therefore, in order to build a classifier for flight delays, we have to create categories our of delays in minutes.\n",
    "\n",
    "#### Determining Arrival Delay Buckets\n",
    "\n",
    "In the first run-through writing the book, we used the same buckets as Bay Area startup FlightCaster (founded in 2009 and acquired in 2011 by Next Jump): on time, slightly late, and very late. The values corresponding to these bins come from a natural split in how people think about time in terms of minutes, hours, and days. One hour is an intuitive value for the high end of slightly late. Over one hour would then be very late. “On time” would be within 15 minutes of the scheduled arrival time. If such natural bins weren’t available, you would want to closely analyze the distribution of your continuous variable to determine what buckets to use.\n",
    "\n",
    "As it turned out, this analysis was necessary in our case too. When writing the book, while debugging an issue with our Spark ML classifier model, we did an analysis where we found that a different set of categories were needed. Check out the Jupyter notebook at ch09/Debugging Prediction Problems.ipynb for details. Note that GitHub supports the display of Jupyter notebooks, which makes them a really powerful way to share data analyses—just commit and push to a GitHub repository and you’ve got a shared report. When you are doing iterative visualization, notebooks are very handy.\n",
    "\n",
    "#### Iterative Visualization with Histograms\n",
    "\n",
    "To begin, check out the overall distribution of flight delays, which we compute by converting the features `DataFrame` to an `RDD` and then employing `RDD.histogram`. `RDD.histogram` returns two lists: a set of buckets, and the count for each bucket. We then use `matplotlib.pyplot` to create a histogram. Note that because our buckets are already counted, we can’t use `pyplot.hist`. Instead, we employ `pyplot.bar` to create a histogram from our precomputed buckets and their corresponding counts.\n",
    "\n",
    "To gather our data, we select the `ArrDelay` column, convert the DataFrame to an `RDD`, and call `RDD.flatMap` to convert our records into an `RDD` containing a single list of floats:"
   ]
  },
  {
   "cell_type": "code",
   "execution_count": 25,
   "metadata": {},
   "outputs": [
    {
     "data": {
      "text/plain": [
       "([-87.0, -60, -30, -15, 0, 15, 30, 60, 120],\n",
       " [58, 10079, 73462, 180178, 97285, 37543, 29913, 19260])"
      ]
     },
     "execution_count": 25,
     "metadata": {},
     "output_type": "execute_result"
    }
   ],
   "source": [
    "%matplotlib inline\n",
    "\n",
    "import numpy as np\n",
    "import matplotlib.mlab as mlab\n",
    "import matplotlib.pyplot as plt\n",
    "\n",
    "# Look at overall histogram\n",
    "data_tuple = features\\\n",
    "  .select(\"ArrDelay\")\\\n",
    "  .rdd\\\n",
    "  .flatMap(lambda x: x)\\\n",
    "  .histogram([-87.0, -60, -30, -15, 0, 15, 30, 60, 120])\n",
    "data_tuple"
   ]
  },
  {
   "cell_type": "markdown",
   "metadata": {},
   "source": [
    "Next, we extract the heights of the bars and the bin definitions from the tuple returned by histogram:"
   ]
  },
  {
   "cell_type": "code",
   "execution_count": 26,
   "metadata": {},
   "outputs": [
    {
     "data": {
      "text/plain": [
       "[-87.0, -60, -30, -15, 0, 15, 30, 60, 120]"
      ]
     },
     "execution_count": 26,
     "metadata": {},
     "output_type": "execute_result"
    }
   ],
   "source": [
    "heights = np.array(data_tuple[1])\n",
    "\n",
    "# The bins are 1 > length than the values\n",
    "full_bins = data_tuple[0]\n",
    "full_bins"
   ]
  },
  {
   "cell_type": "markdown",
   "metadata": {},
   "source": [
    "Since bars are drawn from the left, we remove the rightmost item in the bins list:"
   ]
  },
  {
   "cell_type": "code",
   "execution_count": 27,
   "metadata": {},
   "outputs": [
    {
     "data": {
      "text/plain": [
       "[-87.0, -60, -30, -15, 0, 15, 30, 60]"
      ]
     },
     "execution_count": 27,
     "metadata": {},
     "output_type": "execute_result"
    }
   ],
   "source": [
    "# Bars are drawn from the left\n",
    "mid_point_bins = full_bins[:-1]\n",
    "mid_point_bins"
   ]
  },
  {
   "cell_type": "markdown",
   "metadata": {},
   "source": [
    "Next, we use a list comprehension to determine the range between the values defining the buckets, which gives us the width of the bars. We’ve decided that the bars should be as wide as the data they measure:"
   ]
  },
  {
   "cell_type": "code",
   "execution_count": 28,
   "metadata": {},
   "outputs": [
    {
     "data": {
      "text/plain": [
       "[27.0, 30, 15, 15, 15, 15, 30, 60]"
      ]
     },
     "execution_count": 28,
     "metadata": {},
     "output_type": "execute_result"
    }
   ],
   "source": [
    "# The width of a bar should be the range it maps in the data\n",
    "widths = [abs(i - j) for i, j in zip(full_bins[:-1], full_bins[1:])]\n",
    "widths"
   ]
  },
  {
   "cell_type": "markdown",
   "metadata": {},
   "source": [
    "Finally, we plot the bar chart, specifying our bar widths (they draw from the left) and coloring our bars blue:"
   ]
  },
  {
   "cell_type": "code",
   "execution_count": 29,
   "metadata": {},
   "outputs": [
    {
     "data": {
      "image/png": "[encoded data removed]",
      "text/plain": [
       "<Figure size 432x288 with 1 Axes>"
      ]
     },
     "metadata": {},
     "output_type": "display_data"
    }
   ],
   "source": [
    "# And now the bars should plot nicely\n",
    "bar = plt.bar(mid_point_bins, heights, width=widths, color='b')"
   ]
  },
  {
   "cell_type": "markdown",
   "metadata": {},
   "source": [
    "We can summarize the previous operations in a function called create_hist, which we will reuse to draw other histograms like this one:"
   ]
  },
  {
   "cell_type": "code",
   "execution_count": 30,
   "metadata": {
    "collapsed": true
   },
   "outputs": [],
   "source": [
    "def create_hist(rdd_histogram_data):\n",
    "  \"\"\"Given an RDD.histogram, plot a pyplot histogram\"\"\"\n",
    "  heights = np.array(rdd_histogram_data[1])\n",
    "  full_bins = rdd_histogram_data[0]\n",
    "  mid_point_bins = full_bins[:-1]\n",
    "  widths = [abs(i - j) for i, j in zip(full_bins[:-1], full_bins[1:])]\n",
    "  bar = plt.bar(mid_point_bins, heights, width=widths, color='b')\n",
    "  return bar"
   ]
  },
  {
   "cell_type": "markdown",
   "metadata": {},
   "source": [
    "To start, let’s visualize the first set of buckets we considered: –87 to 15, 15 to 60, and 60 to 200. Note that the first item in the bucket definition, –87, comes from the minimum delay in the dataset. We use 200 to keep from distorting the chart, although the maximum delay is actually 1,971 minutes:"
   ]
  },
  {
   "cell_type": "code",
   "execution_count": 31,
   "metadata": {},
   "outputs": [
    {
     "data": {
      "text/plain": [
       "<BarContainer object of 3 artists>"
      ]
     },
     "execution_count": 31,
     "metadata": {},
     "output_type": "execute_result"
    },
    {
     "data": {
      "image/png": "[encoded data removed]",
      "text/plain": [
       "<Figure size 432x288 with 1 Axes>"
      ]
     },
     "metadata": {},
     "output_type": "display_data"
    }
   ],
   "source": [
    "%matplotlib inline\n",
    "\n",
    "buckets = [-87.0, 15, 60, 200]\n",
    "rdd_histogram_data = features\\\n",
    "  .select(\"ArrDelay\")\\\n",
    "  .rdd\\\n",
    "  .flatMap(lambda x: x)\\\n",
    "  .histogram(buckets)\n",
    "\n",
    "create_hist(rdd_histogram_data)"
   ]
  },
  {
   "cell_type": "markdown",
   "metadata": {},
   "source": [
    "Wow. This is a very distorted distribution. We have created an imbalanced class set from one that should ideally be balanced. This is a problem, because imbalanced classes can produce classifiers that only predict the most common value, and yet still seem fairly accurate. At best, this label set would have made things hard for our classifier when there is no benefit to doing so. We need to rethink our labels.\n",
    "\n",
    "Let’s try something a little more granular and check the distribution using the set of buckets: [-87.0, -30, -15, 0, 15, 30, 120]:"
   ]
  },
  {
   "cell_type": "code",
   "execution_count": 32,
   "metadata": {},
   "outputs": [
    {
     "data": {
      "text/plain": [
       "<BarContainer object of 6 artists>"
      ]
     },
     "execution_count": 32,
     "metadata": {},
     "output_type": "execute_result"
    },
    {
     "data": {
      "image/png": "[encoded data removed]",
      "text/plain": [
       "<Figure size 432x288 with 1 Axes>"
      ]
     },
     "metadata": {},
     "output_type": "display_data"
    }
   ],
   "source": [
    "%matplotlib inline\n",
    "\n",
    "buckets = [-87.0, -30, -15, 0, 15, 30, 120]\n",
    "rdd_histogram_data = features\\\n",
    "  .select(\"ArrDelay\")\\\n",
    "  .rdd\\\n",
    "  .flatMap(lambda x: x)\\\n",
    "  .histogram(buckets)\n",
    "\n",
    "create_hist(rdd_histogram_data)"
   ]
  },
  {
   "cell_type": "markdown",
   "metadata": {},
   "source": [
    "Hmm... this looks better, but the leftmost and rightmost buckets look too small. Let’s combine the –87 to –30 and –30 to –15 buckets, and try again:"
   ]
  },
  {
   "cell_type": "code",
   "execution_count": 33,
   "metadata": {},
   "outputs": [
    {
     "data": {
      "text/plain": [
       "<BarContainer object of 5 artists>"
      ]
     },
     "execution_count": 33,
     "metadata": {},
     "output_type": "execute_result"
    },
    {
     "data": {
      "image/png": "[encoded data removed]",
      "text/plain": [
       "<Figure size 432x288 with 1 Axes>"
      ]
     },
     "metadata": {},
     "output_type": "display_data"
    }
   ],
   "source": [
    "%matplotlib inline\n",
    "\n",
    "buckets = [-87.0, -15, 0, 15, 30, 120]\n",
    "rdd_histogram_data = features\\\n",
    "  .select(\"ArrDelay\")\\\n",
    "  .rdd\\\n",
    "  .flatMap(lambda x: x)\\\n",
    "  .histogram(buckets)\n",
    "\n",
    "create_hist(rdd_histogram_data)"
   ]
  },
  {
   "cell_type": "markdown",
   "metadata": {},
   "source": [
    "This looks better! However, the 15–30 bucket seems too small. Let’s merge this bucket with the 0–15 bucket and try again:"
   ]
  },
  {
   "cell_type": "code",
   "execution_count": 34,
   "metadata": {},
   "outputs": [
    {
     "data": {
      "text/plain": [
       "<BarContainer object of 4 artists>"
      ]
     },
     "execution_count": 34,
     "metadata": {},
     "output_type": "execute_result"
    },
    {
     "data": {
      "image/png": "[encoded data removed]",
      "text/plain": [
       "<Figure size 432x288 with 1 Axes>"
      ]
     },
     "metadata": {},
     "output_type": "display_data"
    }
   ],
   "source": [
    "%matplotlib inline\n",
    "\n",
    "buckets = [-87.0, -15, 0, 30, 120]\n",
    "rdd_histogram_data = features\\\n",
    "  .select(\"ArrDelay\")\\\n",
    "  .rdd\\\n",
    "  .flatMap(lambda x: x)\\\n",
    "  .histogram(buckets)\n",
    "\n",
    "create_hist(rdd_histogram_data)"
   ]
  },
  {
   "cell_type": "markdown",
   "metadata": {},
   "source": [
    "Ah-ha! That looks pretty good. The buckets end up being “very early” (> 15 minutes early), “early” (0–15 minutes early), “late” (0–30 minutes late), and “very late” (30+ minutes late). These aren’t perfect in terms of usability, but I think they can work. Ideally the distribution in the buckets would be equal, but they are close enough.\n",
    "\n",
    "#### Bucket Quest Conclusion\n",
    "\n",
    "We have now determined the right bucket scheme for converting a continuous variable, flight delays, into four categories. Note how we used a Jupyter notebook along with PySpark and PyPlot to iteratively visualize the flights that fell into each bucketing scheme. This notebook is now a shareable asset. This would serve as a great jumping-off point for a discussion involving the data scientist who created the notebook, the product manager for the product, and the engineers working on the project.\n",
    "\n",
    "Now that we’ve got our buckets, let’s apply them and get on with our prediction!\n",
    "\n",
    "### Bucketizing with a DataFrame UDF\n",
    "\n",
    "We can bucketize our data in one of two ways: using a `DataFrame` UDF, or with `pyspark.ml.feature.Bucketizer`.\n",
    "\n",
    "Let’s begin by using a UDF to categorize our data in accordance with the scheme in the preceding section. We’ll create a function, `bucketize_arr_delay`, to achieve the “bucketizing,” and then wrap it in a UDF along with a StructField of type information—in this case the string DataType `StringType`. Next, we’ll apply the UDF to create a new column via `DataFrame.withColumn`. Finally, we’ll select ArrDelay and ArrDelayBucket and see how they compare:"
   ]
  },
  {
   "cell_type": "code",
   "execution_count": 35,
   "metadata": {},
   "outputs": [
    {
     "name": "stdout",
     "output_type": "stream",
     "text": [
      "+--------+--------------+\n",
      "|ArrDelay|ArrDelayBucket|\n",
      "+--------+--------------+\n",
      "|   -14.0|           1.0|\n",
      "|   -10.0|           1.0|\n",
      "|    -9.0|           1.0|\n",
      "|    36.0|           3.0|\n",
      "|     7.0|           2.0|\n",
      "|   -40.0|           0.0|\n",
      "|    57.0|           3.0|\n",
      "|   -33.0|           0.0|\n",
      "|   -13.0|           1.0|\n",
      "|    -6.0|           1.0|\n",
      "+--------+--------------+\n",
      "only showing top 10 rows\n",
      "\n"
     ]
    }
   ],
   "source": [
    "#\n",
    "# Categorize or 'bucketize' the arrival delay field using a DataFrame UDF\n",
    "#\n",
    "def bucketize_arr_delay(arr_delay):\n",
    "  bucket = None\n",
    "  if arr_delay <= -15.0:\n",
    "    bucket = 0.0\n",
    "  elif arr_delay > -15.0 and arr_delay <= 0.0:\n",
    "    bucket = 1.0\n",
    "  elif arr_delay > 0.0 and arr_delay <= 30.0:\n",
    "    bucket = 2.0\n",
    "  elif arr_delay > 30.0:\n",
    "    bucket = 3.0\n",
    "  return bucket\n",
    "\n",
    "# Wrap the function in pyspark.sql.functions.udf with\n",
    "# pyspark.sql.types.StructField information\n",
    "from pyspark.sql.functions import udf\n",
    "dummy_function_udf = udf(bucketize_arr_delay, StringType())\n",
    "\n",
    "# Add a category column via pyspark.sql.DataFrame.withColumn\n",
    "manual_bucketized_features = features_with_route.withColumn(\n",
    "  \"ArrDelayBucket\",\n",
    "  dummy_function_udf(features['ArrDelay'])\n",
    ")\n",
    "manual_bucketized_features.select(\"ArrDelay\", \"ArrDelayBucket\").show(10)"
   ]
  },
  {
   "cell_type": "markdown",
   "metadata": {},
   "source": [
    "You can see that ArrDelay is mapped to ArrDelayBucket as we indicated.\n",
    "\n",
    "### Bucketizing with `pyspark.ml.feature.Bucketizer`\n",
    "\n",
    "Creating buckets for classification is simpler using Bucketizer. We simply define our splits in a list, instantiate our Bucketizer, and then apply a transformation on our features DataFrame. We’ll do this transformation for the ArrDelay field:"
   ]
  },
  {
   "cell_type": "code",
   "execution_count": 36,
   "metadata": {},
   "outputs": [
    {
     "name": "stdout",
     "output_type": "stream",
     "text": [
      "+--------+--------------+\n",
      "|ArrDelay|ArrDelayBucket|\n",
      "+--------+--------------+\n",
      "|   -14.0|           1.0|\n",
      "|   -10.0|           1.0|\n",
      "|    -9.0|           1.0|\n",
      "|    36.0|           3.0|\n",
      "|     7.0|           2.0|\n",
      "|   -40.0|           0.0|\n",
      "|    57.0|           3.0|\n",
      "|   -33.0|           0.0|\n",
      "|   -13.0|           1.0|\n",
      "|    -6.0|           1.0|\n",
      "+--------+--------------+\n",
      "only showing top 10 rows\n",
      "\n"
     ]
    }
   ],
   "source": [
    "#\n",
    "# Use pysmark.ml.feature.Bucketizer to bucketize ArrDelay\n",
    "#\n",
    "from pyspark.ml.feature import Bucketizer\n",
    "\n",
    "splits = [-float(\"inf\"), -15.0, 0, 30.0, float(\"inf\")]\n",
    "bucketizer = Bucketizer(\n",
    "  splits=splits,\n",
    "  inputCol=\"ArrDelay\",\n",
    "  outputCol=\"ArrDelayBucket\"\n",
    ")\n",
    "ml_bucketized_features = bucketizer.transform(features_with_route)\n",
    "\n",
    "# Check the buckets out\n",
    "ml_bucketized_features.select(\"ArrDelay\", \"ArrDelayBucket\").show(10)"
   ]
  },
  {
   "attachments": {
    "ads2_0702.png": {
     "image/png": "[encoded data removed]"
    }
   },
   "cell_type": "markdown",
   "metadata": {},
   "source": [
    "You can see the result is the same as with our UDF buckets. Now that we’ve created the `ArrDelayBucket` fields, we’re ready to vectorize our features using tools from `pyspark.ml.feature`.\n",
    "\n",
    "## Feature Vectorization with `pyspark.ml.feature`\n",
    "\n",
    "Spark MLlib has an extremely rich library of functions for various machine learning tasks, so it is helpful when using MLlib to have the API documentation open in a browser tab, along with the DataFrame API documentation. While an RDD-based API does exist, we’ll be using the DataFrame-based MLlib routines.\n",
    "\n",
    "### Vectorizing Categorical Columns with Spark ML\n",
    "\n",
    "![ads2_0702.png](attachment:ads2_0702.png)\n",
    "\n",
    "To follow along with this section, open the pyspark.ml.feature documentation. First we need to import our tools from pyspark.ml.feature:"
   ]
  },
  {
   "cell_type": "code",
   "execution_count": 37,
   "metadata": {
    "collapsed": true
   },
   "outputs": [],
   "source": [
    "from pyspark.ml.feature import StringIndexer, VectorAssembler"
   ]
  },
  {
   "cell_type": "markdown",
   "metadata": {},
   "source": [
    "Then we need to index our nominal or categorical string columns into sets of vectors made up of binary variables for every unique value found in a given column. To achieve this, for each categorical column (be it a string or number), we need to:\n",
    "\n",
    "1. Configure and create a StringIndexer to index the column into one number per unique value.\n",
    "\n",
    "2. Execute fit on the StringIndexer to get a StringIndexerModel.\n",
    "\n",
    "3. Run the training data through StringIndexerModel.transform to index the strings into a new column.\n",
    "\n",
    "The code to implement these steps for each categorical variable column looks like this:"
   ]
  },
  {
   "cell_type": "code",
   "execution_count": 38,
   "metadata": {},
   "outputs": [
    {
     "name": "stdout",
     "output_type": "stream",
     "text": [
      "+--------+-------------------+-------------------+-------+----------+---------+---------+--------+----+--------+----------+---------+------+-------+--------------+-------------+----------------+---------------+---------------+------------+----------+-----------+\n",
      "|ArrDelay|         CRSArrTime|         CRSDepTime|Carrier|DayOfMonth|DayOfWeek|DayOfYear|DepDelay|Dest|Distance|FlightDate|FlightNum|Origin|  Route|ArrDelayBucket|Carrier_index|DayOfMonth_index|DayOfWeek_index|DayOfYear_index|Origin_index|Dest_index|Route_index|\n",
      "+--------+-------------------+-------------------+-------+----------+---------+---------+--------+----+--------+----------+---------+------+-------+--------------+-------------+----------------+---------------+---------------+------------+----------+-----------+\n",
      "|   -14.0|2015-01-18 15:19:00|2015-01-18 13:35:00|     B6|        18|        7|       18|    -5.0| DCA|   634.0|2015-01-18|      716|   JAX|JAX-DCA|           1.0|          8.0|            24.0|            5.0|           24.0|        58.0|      23.0|     2285.0|\n",
      "|   -10.0|2015-01-18 08:12:00|2015-01-18 07:00:00|     B6|        18|        7|       18|   -13.0| FLL|   319.0|2015-01-18|     1015|   JAX|JAX-FLL|           1.0|          8.0|            24.0|            5.0|           24.0|        58.0|      19.0|     2204.0|\n",
      "|    -9.0|2015-01-18 19:52:00|2015-01-18 18:40:00|     B6|        18|        7|       18|    -6.0| FLL|   319.0|2015-01-18|     1315|   JAX|JAX-FLL|           1.0|          8.0|            24.0|            5.0|           24.0|        58.0|      19.0|     2204.0|\n",
      "|    36.0|2015-01-18 21:00:00|2015-01-18 18:47:00|     B6|        18|        7|       18|    26.0| JFK|   828.0|2015-01-18|      478|   JAX|JAX-JFK|           3.0|          8.0|            24.0|            5.0|           24.0|        58.0|      18.0|     2087.0|\n",
      "|     7.0|2015-01-18 13:29:00|2015-01-18 11:20:00|     B6|        18|        7|       18|     2.0| JFK|   828.0|2015-01-18|      678|   JAX|JAX-JFK|           2.0|          8.0|            24.0|            5.0|           24.0|        58.0|      18.0|     2087.0|\n",
      "|   -40.0|2015-01-18 23:06:00|2015-01-18 19:55:00|     B6|        18|        7|       18|    -3.0| ABQ|  1826.0|2015-01-18|       65|   JFK|JFK-ABQ|           0.0|          8.0|            24.0|            5.0|           24.0|        18.0|      56.0|     3668.0|\n",
      "+--------+-------------------+-------------------+-------+----------+---------+---------+--------+----+--------+----------+---------+------+-------+--------------+-------------+----------------+---------------+---------------+------------+----------+-----------+\n",
      "only showing top 6 rows\n",
      "\n"
     ]
    }
   ],
   "source": [
    "# Turn category fields into categoric feature vectors, then drop \n",
    "# intermediate fields\n",
    "for column in [\"Carrier\", \"DayOfMonth\", \"DayOfWeek\", \"DayOfYear\",\n",
    "               \"Origin\", \"Dest\", \"Route\"]:\n",
    "  string_indexer = StringIndexer(\n",
    "    inputCol=column,\n",
    "    outputCol=column + \"_index\"\n",
    "  )\n",
    "  ml_bucketized_features = string_indexer.fit(ml_bucketized_features)\\\n",
    "                                         .transform(ml_bucketized_features)\n",
    "\n",
    "# Check out the indexes\n",
    "ml_bucketized_features.show(6)"
   ]
  },
  {
   "cell_type": "markdown",
   "metadata": {},
   "source": [
    "Having indexed our categorical features, now we combine them with our numeric features into a single feature vector for our classifier.\n",
    "\n",
    "### Vectorizing Continuous Variables and Indexes with Spark ML\n",
    "\n",
    "As they are already numeric, there isn’t much work required to vectorize our continuous numeric features. And now that we have indexes, we have a numeric representation of each string column. Now we simply employ VectorAssembler to combine the numeric and index columns into a single feature Vector. Then we drop the index columns, as they aren’t needed anymore:"
   ]
  },
  {
   "cell_type": "code",
   "execution_count": 39,
   "metadata": {},
   "outputs": [
    {
     "name": "stdout",
     "output_type": "stream",
     "text": [
      "+--------+-------------------+-------------------+-------+----------+---------+---------+--------+----+--------+----------+---------+------+-------+--------------+--------------------+\n",
      "|ArrDelay|         CRSArrTime|         CRSDepTime|Carrier|DayOfMonth|DayOfWeek|DayOfYear|DepDelay|Dest|Distance|FlightDate|FlightNum|Origin|  Route|ArrDelayBucket|        Features_vec|\n",
      "+--------+-------------------+-------------------+-------+----------+---------+---------+--------+----+--------+----------+---------+------+-------+--------------+--------------------+\n",
      "|   -14.0|2015-01-18 15:19:00|2015-01-18 13:35:00|     B6|        18|        7|       18|    -5.0| DCA|   634.0|2015-01-18|      716|   JAX|JAX-DCA|           1.0|[-5.0,634.0,8.0,2...|\n",
      "|   -10.0|2015-01-18 08:12:00|2015-01-18 07:00:00|     B6|        18|        7|       18|   -13.0| FLL|   319.0|2015-01-18|     1015|   JAX|JAX-FLL|           1.0|[-13.0,319.0,8.0,...|\n",
      "|    -9.0|2015-01-18 19:52:00|2015-01-18 18:40:00|     B6|        18|        7|       18|    -6.0| FLL|   319.0|2015-01-18|     1315|   JAX|JAX-FLL|           1.0|[-6.0,319.0,8.0,2...|\n",
      "|    36.0|2015-01-18 21:00:00|2015-01-18 18:47:00|     B6|        18|        7|       18|    26.0| JFK|   828.0|2015-01-18|      478|   JAX|JAX-JFK|           3.0|[26.0,828.0,8.0,2...|\n",
      "|     7.0|2015-01-18 13:29:00|2015-01-18 11:20:00|     B6|        18|        7|       18|     2.0| JFK|   828.0|2015-01-18|      678|   JAX|JAX-JFK|           2.0|[2.0,828.0,8.0,24...|\n",
      "|   -40.0|2015-01-18 23:06:00|2015-01-18 19:55:00|     B6|        18|        7|       18|    -3.0| ABQ|  1826.0|2015-01-18|       65|   JFK|JFK-ABQ|           0.0|[-3.0,1826.0,8.0,...|\n",
      "|    57.0|2015-01-19 00:21:00|2015-01-18 20:59:00|     B6|        18|        7|       18|    91.0| AUS|  1521.0|2015-01-18|     1295|   JFK|JFK-AUS|           3.0|[91.0,1521.0,8.0,...|\n",
      "|   -33.0|2015-01-18 11:57:00|2015-01-18 08:30:00|     B6|        18|        7|       18|    -3.0| AUS|  1521.0|2015-01-18|      795|   JFK|JFK-AUS|           0.0|[-3.0,1521.0,8.0,...|\n",
      "|   -13.0|2015-01-18 15:05:00|2015-01-18 13:59:00|     B6|        18|        7|       18|    -2.0| BOS|   187.0|2015-01-18|      118|   JFK|JFK-BOS|           1.0|[-2.0,187.0,8.0,2...|\n",
      "|    -6.0|2015-01-18 13:34:00|2015-01-18 12:29:00|     B6|        18|        7|       18|     0.0| BOS|   187.0|2015-01-18|     1318|   JFK|JFK-BOS|           1.0|[0.0,187.0,8.0,24...|\n",
      "+--------+-------------------+-------------------+-------+----------+---------+---------+--------+----+--------+----------+---------+------+-------+--------------+--------------------+\n",
      "only showing top 10 rows\n",
      "\n"
     ]
    }
   ],
   "source": [
    "# Handle continuous numeric fields by combining them into one feature vector\n",
    "numeric_columns = [\"DepDelay\", \"Distance\"]\n",
    "index_columns = [\"Carrier_index\", \"DayOfMonth_index\",\n",
    "                   \"DayOfWeek_index\", \"DayOfYear_index\", \"Origin_index\",\n",
    "                   \"Origin_index\", \"Dest_index\", \"Route_index\"]\n",
    "vector_assembler = VectorAssembler(\n",
    "  inputCols=numeric_columns + index_columns,\n",
    "  outputCol=\"Features_vec\"\n",
    ")\n",
    "final_vectorized_features = vector_assembler.transform(ml_bucketized_features)\n",
    "\n",
    "# Drop the index columns\n",
    "for column in index_columns:\n",
    "  final_vectorized_features = final_vectorized_features.drop(column)\n",
    "\n",
    "# Check out the features\n",
    "final_vectorized_features.show(10)\n",
    "\n",
    "final_vectorized_features = final_vectorized_features.filter(final_vectorized_features.FlightDate < '2015-02-01')"
   ]
  },
  {
   "cell_type": "markdown",
   "metadata": {},
   "source": [
    "Now we’re ready to train our classifier!\n",
    "\n",
    "### Classification with Spark ML\n",
    "\n",
    "Our features are prepared in a single field, Features_vec, and we’re ready to compose the experiment we’ll run as part of creating our classifier. To drive our experiment, we require a training dataset and a test dataset. As we discussed earlier, a training dataset is used to train the model and a test set is used to gauge its accuracy. Cross-validation ensures that the models we create in the lab perform well in the real world, and not just on paper.\n",
    "\n",
    "#### Test/Train Split with DataFrames\n",
    "\n",
    "As before with scikit-learn, we need to cross-validate. This means splitting our data between a training set and a test set.\n",
    "\n",
    "The DataFrame API makes this easy with `DataFrame.randomSplit`. This takes an array featuring the ratios of the splits, which should add up to 1:"
   ]
  },
  {
   "cell_type": "code",
   "execution_count": 40,
   "metadata": {
    "collapsed": true
   },
   "outputs": [],
   "source": [
    "# Test/train split\n",
    "training_data, test_data = final_vectorized_features.randomSplit([0.8, 0.2])"
   ]
  },
  {
   "cell_type": "markdown",
   "metadata": {},
   "source": [
    "### Creating and Fitting a Model\n",
    "\n",
    "It takes three lines to import, instantiate, and fit a random forest classifier using our training dataset. Note that we’re using a random forest classifier because this is the most accurate decision tree model available in Spark MLlib that can classify into multiple categories. These classifiers also offer feature importances, which we will use in Chapter 9 to improve the model.\n",
    "\n",
    "Also note that we run the model once, and it throws an exception because we have more than 32 unique values for one feature, the default value for maxBins. We set maxBins to the value suggested by the exception, 4657, and the model fits successfully. Note that this can take a while, so grab some coffee:"
   ]
  },
  {
   "cell_type": "code",
   "execution_count": 41,
   "metadata": {},
   "outputs": [],
   "source": [
    "# Instantiate and fit random forest classifier\n",
    "from pyspark.ml.classification import RandomForestClassifier\n",
    "rfc = RandomForestClassifier(\n",
    "  featuresCol=\"Features_vec\",\n",
    "  labelCol=\"ArrDelayBucket\",\n",
    "  maxBins=4657,\n",
    "  maxMemoryInMB=1024\n",
    ")\n",
    "model = rfc.fit(training_data)"
   ]
  },
  {
   "cell_type": "markdown",
   "metadata": {},
   "source": [
    "Next, we need to evaluate the classifier we’ve created.\n",
    "\n",
    "### EVALUATING A MODEL\n",
    "\n",
    "We can evaluate the performance of our classifier using the `MulticlassClassificationEvaluator`, which simply wraps the predictions we get from running `pyspark.ml.classification.RandomForestClassificationModel.transform` on the test dataset. Several metrics are available, but we’ll start with the raw accuracy:"
   ]
  },
  {
   "cell_type": "code",
   "execution_count": 42,
   "metadata": {},
   "outputs": [
    {
     "name": "stdout",
     "output_type": "stream",
     "text": [
      "Accuracy = 0.5892051180929845\n"
     ]
    }
   ],
   "source": [
    "# Evaluate model using test data\n",
    "predictions = model.transform(test_data)\n",
    "\n",
    "from pyspark.ml.evaluation import MulticlassClassificationEvaluator\n",
    "evaluator = MulticlassClassificationEvaluator(\n",
    "  labelCol=\"ArrDelayBucket\", metricName=\"accuracy\"\n",
    ")\n",
    "accuracy = evaluator.evaluate(predictions)\n",
    "print(\"Accuracy = {}\".format(accuracy))"
   ]
  },
  {
   "cell_type": "markdown",
   "metadata": {},
   "source": [
    "Not great, but good enough for now. Don’t worry, we’ll work on making the model more accurate in Chapter 9.\n",
    "\n",
    "Let’s lay eyes on some of the predictions, to see that they’re sane. At one point we had a bug where all predictions were 0.0. Seeing a sample with different prediction values takes a bit of cleverness because of the way the transformation sorts the data, so we order the sample by the reservation system departure time before displaying it:"
   ]
  },
  {
   "cell_type": "code",
   "execution_count": 43,
   "metadata": {},
   "outputs": [
    {
     "name": "stdout",
     "output_type": "stream",
     "text": [
      "+--------+-------------------+-------------------+-------+----------+---------+---------+--------+----+--------+----------+---------+------+-------+--------------+--------------------+--------------------+--------------------+----------+\n",
      "|ArrDelay|         CRSArrTime|         CRSDepTime|Carrier|DayOfMonth|DayOfWeek|DayOfYear|DepDelay|Dest|Distance|FlightDate|FlightNum|Origin|  Route|ArrDelayBucket|        Features_vec|       rawPrediction|         probability|prediction|\n",
      "+--------+-------------------+-------------------+-------+----------+---------+---------+--------+----+--------+----------+---------+------+-------+--------------+--------------------+--------------------+--------------------+----------+\n",
      "|   -16.0|2015-01-01 09:48:00|2015-01-01 07:15:00|     B6|         1|        4|        1|   -11.0| HPN|   972.0|2015-01-01|      394|   MCO|MCO-HPN|           0.0|[-11.0,972.0,8.0,...|[4.01153450436008...|[0.20057672521800...|       1.0|\n",
      "|    -7.0|2015-01-01 15:30:00|2015-01-01 12:30:00|     UA|         1|        4|        1|    -4.0| SEA|  2306.0|2015-01-01|      357|   IAD|IAD-SEA|           1.0|[-4.0,2306.0,5.0,...|[6.05534315865906...|[0.30276715793295...|       1.0|\n",
      "|     8.0|2015-01-01 18:15:00|2015-01-01 16:50:00|     OO|         1|        4|        1|     0.0| SMF|   373.0|2015-01-01|     2609|   LAX|LAX-SMF|           2.0|[0.0,373.0,3.0,25...|[2.33735952516341...|[0.11686797625817...|       1.0|\n",
      "|     1.0|2015-01-01 22:03:00|2015-01-01 19:30:00|     UA|         1|        4|        1|    27.0| ORD|   925.0|2015-01-01|     1091|   IAH|IAH-ORD|           2.0|[27.0,925.0,5.0,2...|[2.29590132935920...|[0.11479506646796...|       2.0|\n",
      "|    13.0|2015-01-02 10:21:00|2015-01-02 07:00:00|     US|         2|        5|        2|    37.0| PHX|  1972.0|2015-01-02|      435|   FLL|FLL-PHX|           2.0|[37.0,1972.0,6.0,...|[0.41719797067501...|[0.02085989853375...|       3.0|\n",
      "|     6.0|2015-01-02 15:15:00|2015-01-02 13:15:00|     WN|         2|        5|        2|    16.0| LAS|  1524.0|2015-01-02|     2102|   MKE|MKE-LAS|           2.0|[16.0,1524.0,0.0,...|[1.84133206538110...|[0.09206660326905...|       2.0|\n",
      "+--------+-------------------+-------------------+-------+----------+---------+---------+--------+----+--------+----------+---------+------+-------+--------------+--------------------+--------------------+--------------------+----------+\n",
      "only showing top 6 rows\n",
      "\n"
     ]
    }
   ],
   "source": [
    "# Sanity-check a sample\n",
    "predictions.sample(False, 0.001, 18).orderBy(\"CRSDepTime\").show(6)"
   ]
  },
  {
   "cell_type": "markdown",
   "metadata": {},
   "source": [
    "Now let’s see the distribution of the Prediction field, to verify we don’t have that same bug:"
   ]
  },
  {
   "cell_type": "code",
   "execution_count": 44,
   "metadata": {},
   "outputs": [
    {
     "name": "stdout",
     "output_type": "stream",
     "text": [
      "+----------+-----+\n",
      "|Prediction|count|\n",
      "+----------+-----+\n",
      "|       0.0|  891|\n",
      "|       1.0|62921|\n",
      "|       3.0|10248|\n",
      "|       2.0|17224|\n",
      "+----------+-----+\n",
      "\n"
     ]
    }
   ],
   "source": [
    "predictions.groupBy(\"Prediction\").count().show()"
   ]
  },
  {
   "cell_type": "markdown",
   "metadata": {},
   "source": [
    "This “sanity check” seems okay!"
   ]
  },
  {
   "cell_type": "markdown",
   "metadata": {},
   "source": [
    "### Evaluation Conclusion\n",
    "\n",
    "With Spark, we can create, train, and evaluate a classifier or regression in a few lines of code. Surprisingly, it is even more powerful than scikit-learn. But to be useful, we’ve got to deploy our prediction. We’ll do that in the next chapter.\n",
    "\n",
    "Now we have a problem—how do we deploy Spark ML models? Unlike scikit-learn models, we can’t simply place them inside our web application as an API, because they require the Spark platform to run. This is something we will address in the next chapter.\n",
    "\n",
    "## Exercises\n",
    "\n",
    "1. Using the code above as a guide, create a model that predicts departure delay, `DepDelay`. Be sure not to use arrival delay, `ArrDelay` in your model :)\n",
    "\n",
    "## Conclusion\n",
    "\n",
    "In this chapter we’ve taken what we know about the past to predict the future.\n",
    "\n",
    "In the next chapter, we’ll drill down into this prediction to drive a new action that can take advantage of it."
   ]
  },
  {
   "cell_type": "code",
   "execution_count": null,
   "metadata": {
    "collapsed": true
   },
   "outputs": [],
   "source": []
  }
 ],
 "metadata": {
  "kernelspec": {
   "display_name": "Python 3",
   "language": "python",
   "name": "python3"
  },
  "language_info": {
   "codemirror_mode": {
    "name": "ipython",
    "version": 3
   },
   "file_extension": ".py",
   "mimetype": "text/x-python",
   "name": "python",
   "nbconvert_exporter": "python",
   "pygments_lexer": "ipython3",
   "version": "3.6.4"
  }
 },
 "nbformat": 4,
 "nbformat_minor": 2
}
