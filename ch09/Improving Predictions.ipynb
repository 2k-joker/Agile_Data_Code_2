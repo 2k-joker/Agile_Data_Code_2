{
 "cells": [
  {
   "cell_type": "markdown",
   "metadata": {},
   "source": [
    "# Improving Predictions\n",
    "\n",
    "Now that we have deployed working models predicting flight delays, it is time to “make believe” that our prediction has proven useful based on user feedback, and further that the prediction is valuable enough that prediction quality is important. In this case, it is time to iteratively improve the quality of our prediction. If a prediction is valuable enough, this becomes a full-time job for one or more people.\n",
    "\n",
    "In this chapter we will tune our Spark ML classifier and also do additional feature engineering to improve prediction quality. In doing so, we will show you how to iteratively improve predictions.\n",
    "\n",
    "## Fixing Our Prediction Problem\n",
    "\n",
    "At this point we realized that our model was always predicting one class, no matter the input. We began by investigating that in a Jupyter notebook at [ch09/Debugging Prediction Problems.ipynb](Debugging Prediction Problems.ipynb).\n",
    "\n",
    "The notebook itself is very long, and we tried many things to fix our model. It turned out we had made a mistake. We were using `OneHotEncoder` on top of the output of `StringIndexerModel` when we were encoding our nominal/categorical string features. This is how you should encode features for models other than decision trees, but it turns out that for decision tree models, you are supposed to take the string indexes from `StringIndexerModel` and directly compose them with your continuous/numeric features in a `VectorAssembler`. Decision trees are able to infer the fact that indexes represent categories. One benefit of directly adding StringIndexes to your feature vectors is that you then get easily interpretable feature importances.\n",
    "\n",
    "When we discovered this, we had to go back and edit the book so that we didn’t teach something that was wrong, and so this is now what you see. We thought it worthwhile to link to the notebook, though, to show how this really works in the wild: you build broken shit and then fix it.\n",
    "\n",
    "## When to Improve Predictions\n",
    "\n",
    "Not all predictions should be improved. Often something fast and crude will work well enough as an MVP (minimum viable product). Only predictions that prove useful should be improved. It is possible to sink large volumes of time into improving the quality of a prediction, so it is essential that you connect with users before getting sucked into this task. This is why we’ve included the discussion of improving predictions in its own chapter.\n",
    "\n",
    "## Improving Prediction Performance\n",
    "\n",
    "There are a few ways to improve an existing predictive model. The first is by tuning the parameters of the statistical model making your prediction. The second is feature engineering.\n",
    "\n",
    "Tuning model hyperparameters to improve predictive model quality can be done by intuition, or by brute force through something called a grid or random search. We’re going to focus on feature engineering, as hyperparameter tuning is covered elsewhere. A good guide to hyperparameter tuning is available in the Spark documentation on model selection and tuning.\n",
    "\n",
    "As we move through this chapter, we’ll be using the work we’ve done so far to perform feature engineering. Feature engineering is the most important part of making good predictions. It involves using what you’ve discovered about the data through exploratory data analysis in order to feed your machine learning algorithm better, more consequential data as input.\n",
    "\n",
    "### Experimental Adhesion Method: See What Sticks\n",
    "\n",
    "There are several ways to decide which features to use, and Saurav Kaushik has written a post on Analytics Vidhya that introduces them well. The method we employ primarily, which we jokingly entitle the Experimental Adhesion Method, is to quickly select all the features that we can simply compute, and try them all using a random forest or gradient boosted decision tree model (note that even if our application requires another type of model, we still use decision trees to guide feature selection). Then we train the model and inspect the model’s feature importances to “see what sticks.” The most important variables are retained, and this forms the basic model we begin with.\n",
    "\n",
    "Feature engineering is an iterative process. Based on the feature importances, we ponder what new things we might try using the data we have available. We start with the simplest idea, or the one that is easiest to implement. If the feature importances indicate one type of feature is important, and we can’t easily compute new features similar to this one, we think about how we might acquire new data to join to our training data to use as features.\n",
    "\n",
    "The key is to be logical and systematic in our exploration of the feature space. You should think about how easy a potential feature is to compute, as well as what it would teach you if it turned out to be important. Are there other, similar features that you could try if this candidate worked? Develop hypotheses and test them in the form of new features. Evaluate each new feature in an experiment and reflect on what you’ve learned before engineering the next feature.\n",
    "\n",
    "### Establishing Rigorous Metrics for Experiments\n",
    "\n",
    "In order to improve our classification model, we need to reliably determine its prediction quality in the first place. To do so, we need to beef up our cross-validation code, and then establish a baseline of quality for the original model. Check out [ch09/baseline_spark_mllib_model.py](baseline_spark_mllib_model.py), which we copied from [ch09/train_spark_mllib_model.py](train_spark_mllib_model.py) and altered to improve its cross-validation code.\n",
    "\n",
    "In order to evaluate the prediction quality of our classifier, we need to use more than one metric. Spark ML’s `MulticlassClassificationEvaluator` offers four metrics: accuracy, weighted precision, weighted recall, and f1.\n",
    "\n",
    "### Defining Our Classification Metrics\n",
    "\n",
    "The raw _accuracy_ is just what it sounds like: the number of correct predictions divided by the number of predictions. This is something to check first, but it isn’t adequate alone. _Precision_ is a measure of how useful the result is. _Recall_ describes how complete the results are. The _f1_ score incorporates both precision and recall to determine overall quality. Taken together, the changes to these metrics between consecutive runs of training our model can give us a clear picture of what is happening with our model in terms of prediction quality. We will use these metrics along with feature importance to guide our feature engineering efforts.\n",
    "\n",
    "### Feature Importance\n",
    "\n",
    "Model quality metrics aren’t enough to guide the iterative improvements of our model. To understand what is going on with each new run, we need to employ a type of model called a decision tree.\n",
    "\n",
    "In Spark ML, the best general-purpose multiclass classification model is an implementation of a random forest, the RandomForestClassificationModel, fit by the RandomForestClassifier. Random forests can classify or regress, and they have an important feature that helps us interrogate predictive models through a feature called feature importance.\n",
    "\n",
    "The importance of a feature is what it sounds like: a measure of how important that feature was in contributing to the accuracy of the model. This information is incredibly useful, as it can serve as a guiding hand to feature engineering. In other words, if you know how important a feature is, you can use this clue to make changes that increase the accuracy of the model, such as removing unimportant features and trying to engineer features similar to those that are most important. Feature engineering is a major theme of Agile Data Science, and it is a big part of why we’ve been doing iterative visualization and exploration (the purpose of which is to shed light on and drive feature engineering).\n",
    "\n",
    "Note that the state of the art for many classification and regression tasks is a gradient boosted decision tree, but as of version 2.1.0 Spark ML’s implementation—the `GBTClassificationModel`, which is fit by the `GBTClassifier`—can only do binary classification.\n",
    "\n",
    "### Getting Ready for Experiments\n",
    "\n",
    "We need to run through the model's code from chapter 8 before we can setup and run an experiment."
   ]
  },
  {
   "cell_type": "code",
   "execution_count": 1,
   "metadata": {},
   "outputs": [
    {
     "name": "stdout",
     "output_type": "stream",
     "text": [
      "PySpark initialized...\n"
     ]
    }
   ],
   "source": [
    "import sys, os, re\n",
    "import json\n",
    "import datetime, iso8601\n",
    "from tabulate import tabulate\n",
    "\n",
    "# Initialize PySpark\n",
    "APP_NAME = \"Improving Predictions\"\n",
    "\n",
    "# If there is no SparkSession, create the environment\n",
    "try:\n",
    "    sc and spark\n",
    "except NameError as e:\n",
    "    import findspark\n",
    "    findspark.init()\n",
    "    import pyspark\n",
    "    import pyspark.sql\n",
    "\n",
    "    sc = pyspark.SparkContext()\n",
    "    spark = pyspark.sql.SparkSession(sc).builder.appName(APP_NAME).getOrCreate()\n",
    "\n",
    "print(\"PySpark initialized...\")"
   ]
  },
  {
   "cell_type": "code",
   "execution_count": 2,
   "metadata": {},
   "outputs": [
    {
     "data": {
      "text/plain": [
       "Row(ArrDelay=-5.0, CRSArrTime=datetime.datetime(2015, 1, 19, 0, 4), CRSDepTime=datetime.datetime(2015, 1, 18, 23, 0), Carrier='B6', DayOfMonth=18, DayOfWeek=7, DayOfYear=18, DepDelay=0.0, Dest='BOS', Distance=187.0, FlightDate=datetime.date(2015, 1, 18), FlightNum='718', Origin='JFK')"
      ]
     },
     "execution_count": 2,
     "metadata": {},
     "output_type": "execute_result"
    }
   ],
   "source": [
    "from pyspark.sql.types import StringType, IntegerType, FloatType, DoubleType, DateType, TimestampType\n",
    "from pyspark.sql.types import StructType, StructField\n",
    "from pyspark.sql.functions import udf\n",
    "\n",
    "schema = StructType([\n",
    "    StructField(\"ArrDelay\", DoubleType(), True),     # \"ArrDelay\":5.0\n",
    "    StructField(\"CRSArrTime\", TimestampType(), True),    # \"CRSArrTime\":\"2015-12-31T03:20:00.000-08:00\"\n",
    "    StructField(\"CRSDepTime\", TimestampType(), True),    # \"CRSDepTime\":\"2015-12-31T03:05:00.000-08:00\"\n",
    "    StructField(\"Carrier\", StringType(), True),     # \"Carrier\":\"WN\"\n",
    "    StructField(\"DayOfMonth\", IntegerType(), True), # \"DayOfMonth\":31\n",
    "    StructField(\"DayOfWeek\", IntegerType(), True),  # \"DayOfWeek\":4\n",
    "    StructField(\"DayOfYear\", IntegerType(), True),  # \"DayOfYear\":365\n",
    "    StructField(\"DepDelay\", DoubleType(), True),     # \"DepDelay\":14.0\n",
    "    StructField(\"Dest\", StringType(), True),        # \"Dest\":\"SAN\"\n",
    "    StructField(\"Distance\", DoubleType(), True),     # \"Distance\":368.0\n",
    "    StructField(\"FlightDate\", DateType(), True),    # \"FlightDate\":\"2015-12-30T16:00:00.000-08:00\"\n",
    "    StructField(\"FlightNum\", StringType(), True),   # \"FlightNum\":\"6109\"\n",
    "    StructField(\"Origin\", StringType(), True),      # \"Origin\":\"TUS\"\n",
    "])\n",
    "\n",
    "input_path = \"../data/simple_flight_delay_features.json\"\n",
    "features = spark.read.json(input_path, schema=schema)\n",
    "\n",
    "# Sample 10% to make executable inside the notebook\n",
    "features = features.sample(False, 0.1)\n",
    "\n",
    "features.first()"
   ]
  },
  {
   "cell_type": "code",
   "execution_count": 3,
   "metadata": {},
   "outputs": [
    {
     "name": "stdout",
     "output_type": "stream",
     "text": [
      "Columns with nulls that need to be filtered: []\n"
     ]
    }
   ],
   "source": [
    "#\n",
    "# Check for nulls in features before using Spark ML\n",
    "#\n",
    "null_counts = [(column, features.where(features[column].isNull()).count()) for column in features.columns]\n",
    "cols_with_nulls = filter(lambda x: x[1] > 0, null_counts)\n",
    "print(\"Columns with nulls that need to be filtered: {}\".format(\n",
    "    str(list(cols_with_nulls))\n",
    "))"
   ]
  },
  {
   "cell_type": "code",
   "execution_count": 4,
   "metadata": {},
   "outputs": [
    {
     "name": "stdout",
     "output_type": "stream",
     "text": [
      "+--------+-------------------+-------------------+-------+----------+---------+---------+--------+----+--------+----------+---------+------+-------+\n",
      "|ArrDelay|         CRSArrTime|         CRSDepTime|Carrier|DayOfMonth|DayOfWeek|DayOfYear|DepDelay|Dest|Distance|FlightDate|FlightNum|Origin|  Route|\n",
      "+--------+-------------------+-------------------+-------+----------+---------+---------+--------+----+--------+----------+---------+------+-------+\n",
      "|    -5.0|2015-01-19 00:04:00|2015-01-18 23:00:00|     B6|        18|        7|       18|     0.0| BOS|   187.0|2015-01-18|      718|   JFK|JFK-BOS|\n",
      "|     1.0|2015-01-19 04:40:00|2015-01-18 23:59:00|     B6|        18|        7|       18|     3.0| BQN|  1576.0|2015-01-18|      839|   JFK|JFK-BQN|\n",
      "|   -12.0|2015-01-18 16:12:00|2015-01-18 13:59:00|     B6|        18|        7|       18|    -6.0| CHS|   636.0|2015-01-18|     1373|   JFK|JFK-CHS|\n",
      "+--------+-------------------+-------------------+-------+----------+---------+---------+--------+----+--------+----------+---------+------+-------+\n",
      "only showing top 3 rows\n",
      "\n"
     ]
    }
   ],
   "source": [
    "#\n",
    "# Add a Route variable to replace FlightNum\n",
    "#\n",
    "from pyspark.sql.functions import lit, concat\n",
    "features_with_route = features.withColumn(\n",
    "  'Route',\n",
    "  concat(\n",
    "    features.Origin,\n",
    "    lit('-'),\n",
    "    features.Dest\n",
    "  )\n",
    ")\n",
    "features_with_route.show(3)"
   ]
  },
  {
   "cell_type": "code",
   "execution_count": 5,
   "metadata": {},
   "outputs": [
    {
     "name": "stdout",
     "output_type": "stream",
     "text": [
      "+--------+--------------+\n",
      "|ArrDelay|ArrDelayBucket|\n",
      "+--------+--------------+\n",
      "|    -5.0|           1.0|\n",
      "|     1.0|           2.0|\n",
      "|   -12.0|           1.0|\n",
      "|    29.0|           2.0|\n",
      "|    10.0|           2.0|\n",
      "+--------+--------------+\n",
      "only showing top 5 rows\n",
      "\n"
     ]
    }
   ],
   "source": [
    "#\n",
    "# Use pysmark.ml.feature.Bucketizer to bucketize ArrDelay into on-time, slightly late, very late (0, 1, 2)\n",
    "#\n",
    "from pyspark.ml.feature import Bucketizer\n",
    "\n",
    "# Setup the Bucketizer\n",
    "splits = [-float(\"inf\"), -15.0, 0, 30.0, float(\"inf\")]\n",
    "arrival_bucketizer = Bucketizer(\n",
    "  splits=splits,\n",
    "  inputCol=\"ArrDelay\",\n",
    "  outputCol=\"ArrDelayBucket\"\n",
    ")\n",
    "\n",
    "# Save the model\n",
    "arrival_bucketizer_path = \"../models/arrival_bucketizer_2.0.bin\"\n",
    "arrival_bucketizer.write().overwrite().save(arrival_bucketizer_path)\n",
    "\n",
    "# Apply the model\n",
    "ml_bucketized_features = arrival_bucketizer.transform(features_with_route)\n",
    "ml_bucketized_features.select(\"ArrDelay\", \"ArrDelayBucket\").show(5)"
   ]
  },
  {
   "cell_type": "code",
   "execution_count": 6,
   "metadata": {},
   "outputs": [
    {
     "name": "stdout",
     "output_type": "stream",
     "text": [
      "Indexing column \"Carrier\" ...\n",
      "Indexing column \"DayOfMonth\" ...\n",
      "Indexing column \"DayOfWeek\" ...\n",
      "Indexing column \"DayOfYear\" ...\n",
      "Indexing column \"Origin\" ...\n",
      "Indexing column \"Dest\" ...\n",
      "Indexing column \"Route\" ...\n",
      "Indexed all string columns!\n"
     ]
    }
   ],
   "source": [
    "#\n",
    "# Extract features tools in with pyspark.ml.feature\n",
    "#\n",
    "from pyspark.ml.feature import StringIndexer, VectorAssembler\n",
    "\n",
    "# Turn category fields into indexes\n",
    "for column in [\"Carrier\", \"DayOfMonth\", \"DayOfWeek\", \"DayOfYear\",\n",
    "             \"Origin\", \"Dest\", \"Route\"]:\n",
    "    \n",
    "    print(\"Indexing column \\\"{}\\\" ...\".format(column))\n",
    "    \n",
    "    string_indexer = StringIndexer(\n",
    "      inputCol=column,\n",
    "      outputCol=column + \"_index\"\n",
    "    )\n",
    "\n",
    "    string_indexer_model = string_indexer.fit(ml_bucketized_features)\n",
    "    ml_bucketized_features = string_indexer_model.transform(ml_bucketized_features)\n",
    "\n",
    "    # Drop the original column\n",
    "    ml_bucketized_features = ml_bucketized_features.drop(column)\n",
    "\n",
    "    # Save the pipeline model\n",
    "    string_indexer_output_path = \"../models/string_indexer_model_{}.bin\".format(\n",
    "      column\n",
    "    )\n",
    "    string_indexer_model.write().overwrite().save(string_indexer_output_path)\n",
    "\n",
    "print(\"Indexed all string columns!\")"
   ]
  },
  {
   "cell_type": "code",
   "execution_count": 7,
   "metadata": {},
   "outputs": [
    {
     "name": "stdout",
     "output_type": "stream",
     "text": [
      "+--------+-------------------+-------------------+--------+--------+----------+---------+--------------+--------------------+\n",
      "|ArrDelay|         CRSArrTime|         CRSDepTime|DepDelay|Distance|FlightDate|FlightNum|ArrDelayBucket|        Features_vec|\n",
      "+--------+-------------------+-------------------+--------+--------+----------+---------+--------------+--------------------+\n",
      "|    -5.0|2015-01-19 00:04:00|2015-01-18 23:00:00|     0.0|   187.0|2015-01-18|      718|           1.0|[0.0,187.0,8.0,25...|\n",
      "|     1.0|2015-01-19 04:40:00|2015-01-18 23:59:00|     3.0|  1576.0|2015-01-18|      839|           2.0|[3.0,1576.0,8.0,2...|\n",
      "|   -12.0|2015-01-18 16:12:00|2015-01-18 13:59:00|    -6.0|   636.0|2015-01-18|     1373|           1.0|[-6.0,636.0,8.0,2...|\n",
      "|    29.0|2015-01-18 19:17:00|2015-01-18 17:13:00|    41.0|   541.0|2015-01-18|     1119|           2.0|[41.0,541.0,8.0,2...|\n",
      "|    10.0|2015-01-19 00:18:00|2015-01-18 21:29:00|    14.0|  2248.0|2015-01-18|      611|           2.0|[14.0,2248.0,8.0,...|\n",
      "+--------+-------------------+-------------------+--------+--------+----------+---------+--------------+--------------------+\n",
      "only showing top 5 rows\n",
      "\n"
     ]
    }
   ],
   "source": [
    "# Handle continuous, numeric fields by combining them into one feature vector\n",
    "numeric_columns = [\"DepDelay\", \"Distance\"]\n",
    "index_columns = [\"Carrier_index\", \"DayOfMonth_index\",\n",
    "                 \"DayOfWeek_index\", \"DayOfYear_index\", \"Origin_index\",\n",
    "                 \"Origin_index\", \"Dest_index\", \"Route_index\"]\n",
    "vector_assembler = VectorAssembler(\n",
    "    inputCols=numeric_columns + index_columns,\n",
    "    outputCol=\"Features_vec\"\n",
    ")\n",
    "final_vectorized_features = vector_assembler.transform(ml_bucketized_features)\n",
    "\n",
    "# Save the numeric vector assembler\n",
    "vector_assembler_path = \"../models/numeric_vector_assembler.bin\"\n",
    "vector_assembler.write().overwrite().save(vector_assembler_path)\n",
    "\n",
    "# Drop the index columns\n",
    "for column in index_columns:\n",
    "    final_vectorized_features = final_vectorized_features.drop(column)\n",
    "\n",
    "# Inspect the finalized features\n",
    "final_vectorized_features.show(5)"
   ]
  },
  {
   "cell_type": "markdown",
   "metadata": {},
   "source": [
    "### Implementing A More Rigorous Experiment\n",
    "\n",
    "In order to be confident in our experiment for each measure, we need to repeat it at least twice to see how it varies. This is the degree to which we cross-validate. In addition, we need to loop and run the measurement code once for each score. Once we’ve collected several scores for each metric, we look at both the average and standard deviation for each score. Taken together, these scores give us a picture of the quality of our classifier.\n",
    "\n",
    "To begin, we need to iterate and repeat our experiment N times. For each experiment we need to compute a test/train split, then we need to train the model on the training data and apply it to the test data. Then we use `MulticlassClassificationEvaluator` to get a score, once for each metric. We gather the scores in a list for each metric, which we will evaluate at the end of the experiment:"
   ]
  },
  {
   "cell_type": "code",
   "execution_count": 8,
   "metadata": {},
   "outputs": [
    {
     "name": "stdout",
     "output_type": "stream",
     "text": [
      "Run 1 out of 3 of test/train splits in cross validation...\n",
      "accuracy = 0.5836824696802646\n",
      "weightedPrecision = 0.6997762781243368\n",
      "weightedRecall = 0.5836824696802646\n",
      "f1 = 0.5179702041608492\n",
      "Run 2 out of 3 of test/train splits in cross validation...\n",
      "accuracy = 0.5825253295565965\n",
      "weightedPrecision = 0.6494016935831022\n",
      "weightedRecall = 0.5825253295565966\n",
      "f1 = 0.5170259360198566\n",
      "Run 3 out of 3 of test/train splits in cross validation...\n",
      "accuracy = 0.581765087605451\n",
      "weightedPrecision = 0.6004499844248835\n",
      "weightedRecall = 0.581765087605451\n",
      "f1 = 0.5159156166131214\n"
     ]
    }
   ],
   "source": [
    "#\n",
    "# Cross validate, train and evaluate classifier: loop 5 times for 4 metrics\n",
    "#\n",
    "\n",
    "from collections import defaultdict\n",
    "scores = defaultdict(list)\n",
    "metric_names = [\"accuracy\", \"weightedPrecision\", \"weightedRecall\", \"f1\"]\n",
    "split_count = 3\n",
    "\n",
    "for i in range(1, split_count + 1):\n",
    "  print(\"Run {} out of {} of test/train splits in cross validation...\".format(\n",
    "      i,\n",
    "      split_count,\n",
    "    )\n",
    "  )\n",
    "\n",
    "  # Test/train split\n",
    "  training_data, test_data = final_vectorized_features.randomSplit([0.8, 0.2])\n",
    "\n",
    "  # Instantiate and fit random forest classifier on all the data\n",
    "  from pyspark.ml.classification import RandomForestClassifier\n",
    "  rfc = RandomForestClassifier(\n",
    "    featuresCol=\"Features_vec\",\n",
    "    labelCol=\"ArrDelayBucket\",\n",
    "    predictionCol=\"Prediction\",\n",
    "    maxBins=4657,\n",
    "    maxMemoryInMB=1024\n",
    "  )\n",
    "  model = rfc.fit(training_data)\n",
    "\n",
    "  # Save the new model over the old one\n",
    "  model_output_path = \"../models/spark_random_forest_classifier.flight_delays.baseline.bin\"\n",
    "  model.write().overwrite().save(model_output_path)\n",
    "\n",
    "  # Evaluate model using test data\n",
    "  predictions = model.transform(test_data)\n",
    "  \n",
    "  # Evaluate this split's results for each metric\n",
    "  from pyspark.ml.evaluation import MulticlassClassificationEvaluator\n",
    "  for metric_name in metric_names:\n",
    "    \n",
    "    evaluator = MulticlassClassificationEvaluator(\n",
    "      labelCol=\"ArrDelayBucket\",\n",
    "      predictionCol=\"Prediction\",\n",
    "      metricName=metric_name\n",
    "    )\n",
    "    score = evaluator.evaluate(predictions)\n",
    "\n",
    "    scores[metric_name].append(score)\n",
    "    print(\"{} = {}\".format(metric_name, score))"
   ]
  },
  {
   "cell_type": "markdown",
   "metadata": {},
   "source": [
    "## Processing Run Results\n",
    "\n",
    "Our run leaves us with a `defaultdict` of scores, with one list for each metric. Now we need to compute the average and standard deviation of each list to give us the overall average and standard deviation of each metric:\n",
    "\n",
    "Note that we need to compute both the average and standard deviation of each metric from our run. The average will tell us the approximate performance level, and the standard deviation will tell us how much a model's performance varies. Less variance is desirable. We'll use this information in tuning our model."
   ]
  },
  {
   "cell_type": "code",
   "execution_count": 9,
   "metadata": {},
   "outputs": [
    {
     "name": "stdout",
     "output_type": "stream",
     "text": [
      "\n",
      "Experiment Log\n",
      "--------------\n",
      "Metric               Average          STD\n",
      "-----------------  ---------  -----------\n",
      "accuracy            0.582658  0.000788338\n",
      "weightedPrecision   0.649876  0.0405512\n",
      "weightedRecall      0.582658  0.000788338\n",
      "f1                  0.516971  0.000839694\n"
     ]
    }
   ],
   "source": [
    "#\n",
    "# Evaluate average and STD of each metric and print a table\n",
    "#\n",
    "import numpy as np\n",
    "score_averages = defaultdict(float)\n",
    "\n",
    "# Compute the table data\n",
    "average_stds = [] # ha\n",
    "for metric_name in metric_names:\n",
    "  metric_scores = scores[metric_name]\n",
    "  \n",
    "  average_accuracy = sum(metric_scores) / len(metric_scores)\n",
    "  score_averages[metric_name] = average_accuracy\n",
    "  \n",
    "  std_accuracy = np.std(metric_scores)\n",
    "  \n",
    "  average_stds.append((metric_name, average_accuracy, std_accuracy))\n",
    "\n",
    "# Print the table\n",
    "print(\"\\nExperiment Log\")\n",
    "print(\"--------------\")\n",
    "print(tabulate(average_stds, headers=[\"Metric\", \"Average\", \"STD\"]))"
   ]
  },
  {
   "cell_type": "markdown",
   "metadata": {
    "collapsed": true
   },
   "source": [
    "The standard deviations indicate that we might not even need to perform k-fold cross-validation, but an inspection of the underlying scores says otherwise:"
   ]
  },
  {
   "cell_type": "code",
   "execution_count": 10,
   "metadata": {},
   "outputs": [
    {
     "data": {
      "text/plain": [
       "defaultdict(list,\n",
       "            {'accuracy': [0.5836824696802646,\n",
       "              0.5825253295565965,\n",
       "              0.581765087605451],\n",
       "             'weightedPrecision': [0.6997762781243368,\n",
       "              0.6494016935831022,\n",
       "              0.6004499844248835],\n",
       "             'weightedRecall': [0.5836824696802646,\n",
       "              0.5825253295565966,\n",
       "              0.581765087605451],\n",
       "             'f1': [0.5179702041608492,\n",
       "              0.5170259360198566,\n",
       "              0.5159156166131214]})"
      ]
     },
     "execution_count": 10,
     "metadata": {},
     "output_type": "execute_result"
    }
   ],
   "source": [
    "scores"
   ]
  },
  {
   "cell_type": "markdown",
   "metadata": {},
   "source": [
    "There is actually significant variation between runs, and this could obscure a small improvement (or degradation) in prediction quality.\n",
    "\n",
    "The iterations take time, and this discourages experimentation. A middle ground should be found."
   ]
  },
  {
   "cell_type": "markdown",
   "metadata": {},
   "source": [
    "## Comparing Experiments to Determine Improvements\n",
    "\n",
    "Now that we have our baseline metrics, we can repeat this code as we improve the model and see what the effect is in terms of the four metrics available to us. So it seems we are done, that we can start playing with our model and features. However, we will quickly run into a problem. We will lose track of the score from the previous run, printed on the screen above many logs for each run, unless we write it down each time. And this is tedious. So, we need to automate this process.\n",
    "\n",
    "What we need to do is load a score log from disk, evaluate the current score in terms of the previous one, and store a new entry to the log back to disk for the next run to access. The following code achieves this aim.\n",
    "\n",
    "First we use pickle to load any existing score log. If this is not present, we initialize a new log, which is simply an empty Python list. Next we prepare the new log entry—a simple Python dict containing the average score for each of four metrics. Then we subtract the previous run’s score to determine the change in this run. This is the information we use to evaluate whether our change worked or not (along with any changes in feature importances, which we will address as well). \n",
    "\n",
    "Finally, we append the new score entry to the log and store it back to disk:"
   ]
  },
  {
   "cell_type": "code",
   "execution_count": 11,
   "metadata": {},
   "outputs": [
    {
     "name": "stdout",
     "output_type": "stream",
     "text": [
      "\n",
      "Experiment Report\n",
      "-----------------\n",
      "Metric                   Score\n",
      "-----------------  -----------\n",
      "accuracy           -0.0114008\n",
      "weightedPrecision  -0.00396363\n",
      "weightedRecall     -0.0114008\n",
      "f1                 -0.0216341\n"
     ]
    }
   ],
   "source": [
    "#\n",
    "# Persist the score to a sccore log that exists between runs\n",
    "#\n",
    "import pickle\n",
    "\n",
    "# Load the score log or initialize an empty one\n",
    "try:\n",
    "  score_log_filename = \"../models/score_log.pickle\"\n",
    "  score_log = pickle.load(open(score_log_filename, \"rb\"))\n",
    "  if not isinstance(score_log, list):\n",
    "    score_log = []\n",
    "except IOError:\n",
    "  score_log = []\n",
    "\n",
    "# Compute the existing score log entry\n",
    "score_log_entry = {metric_name: score_averages[metric_name] for metric_name in metric_names}\n",
    "\n",
    "# Compute and display the change in score for each metric\n",
    "try:\n",
    "  last_log = score_log[-1]\n",
    "except (IndexError, TypeError, AttributeError):\n",
    "  last_log = score_log_entry\n",
    "\n",
    "experiment_report = []\n",
    "for metric_name in metric_names:\n",
    "  run_delta = score_log_entry[metric_name] - last_log[metric_name]\n",
    "  experiment_report.append((metric_name, run_delta))\n",
    "\n",
    "print(\"\\nExperiment Report\")\n",
    "print(\"-----------------\")\n",
    "print(tabulate(experiment_report, headers=[\"Metric\", \"Score\"]))\n",
    "\n",
    "# Append the existing average scores to the log\n",
    "score_log.append(score_log_entry)\n",
    "\n",
    "# Persist the log for next run\n",
    "pickle.dump(score_log, open(score_log_filename, \"wb\"))"
   ]
  },
  {
   "cell_type": "markdown",
   "metadata": {},
   "source": [
    "Now when we run our script, we will get a report that shows the change between this run and the last run. We can use this, along with our feature importances, to direct our efforts at improving the model. For instance, an example test run shows the model accuracy increase by .003:\n",
    "\n",
    "```\n",
    "Experiment Report\n",
    "-----------------\n",
    "Metric                   Score\n",
    "-----------------  -----------\n",
    "accuracy            0.00300548\n",
    "weightedPrecision  -0.00592227\n",
    "weightedRecall      0.00300548\n",
    "f1                 -0.0105553\n",
    "```\n",
    "\n",
    "Jump back to the code for the model, the code under the section `Implementing a More Rigorous Experiment`. Re-run all the code between there and here, the last three code blocks. See how the score changed slightly? You will use these changes to guide you as you change the model!"
   ]
  },
  {
   "cell_type": "markdown",
   "metadata": {},
   "source": [
    "## Inspecting Changes in Feature Importance\n",
    "\n",
    "We can use the list of columns given to our final `VectorAssembler` along with `RandomForestClassificationModel.featureImportances` to derive the importance of each named feature. This is extremely valuable, because like with our prediction quality scores, we can look at changes in feature importances for all features between runs. If a newly introduced feature turns out to be important, it is usually worth adding to the model, so long as it doesn’t hurt quality.\n",
    "\n",
    "### Logging Feature Importances\n",
    "\n",
    "We begin by altering our experiment loop to record feature importances for each run. Check out the abbreviated content from [ch09/improved_spark_mllib_model.py](improved_spark_mllib_model.py):"
   ]
  },
  {
   "cell_type": "code",
   "execution_count": 12,
   "metadata": {},
   "outputs": [
    {
     "name": "stdout",
     "output_type": "stream",
     "text": [
      "\n",
      "Run 1 out of 3 of test/train splits in cross validation...\n",
      "accuracy = 0.580483457725298\n",
      "weightedPrecision = 0.6361932319624914\n",
      "weightedRecall = 0.580483457725298\n",
      "f1 = 0.5146409852564\n",
      "\n",
      "Run 2 out of 3 of test/train splits in cross validation...\n",
      "accuracy = 0.5689097198973329\n",
      "weightedPrecision = 0.6384506615016216\n",
      "weightedRecall = 0.568909719897333\n",
      "f1 = 0.5048858150091734\n",
      "\n",
      "Run 3 out of 3 of test/train splits in cross validation...\n",
      "accuracy = 0.5882746321890325\n",
      "weightedPrecision = 0.659108261496373\n",
      "weightedRecall = 0.5882746321890326\n",
      "f1 = 0.526289877315701\n"
     ]
    }
   ],
   "source": [
    "#\n",
    "# Cross validate, train and evaluate classifier: loop 5 times for 4 metrics\n",
    "#\n",
    "\n",
    "from collections import defaultdict\n",
    "scores = defaultdict(list)\n",
    "feature_importances = defaultdict(list)\n",
    "metric_names = [\"accuracy\", \"weightedPrecision\", \"weightedRecall\", \"f1\"]\n",
    "split_count = 3\n",
    "\n",
    "for i in range(1, split_count + 1):\n",
    "  print(\"\\nRun {} out of {} of test/train splits in cross validation...\".format(\n",
    "      i,\n",
    "      split_count,\n",
    "    )\n",
    "  )\n",
    "\n",
    "  # Test/train split\n",
    "  training_data, test_data = final_vectorized_features.randomSplit([0.8, 0.2])\n",
    "\n",
    "  # Instantiate and fit random forest classifier on all the data\n",
    "  from pyspark.ml.classification import RandomForestClassifier\n",
    "  rfc = RandomForestClassifier(\n",
    "    featuresCol=\"Features_vec\",\n",
    "    labelCol=\"ArrDelayBucket\",\n",
    "    predictionCol=\"Prediction\",\n",
    "    maxBins=4657,\n",
    "  )\n",
    "  model = rfc.fit(training_data)\n",
    "\n",
    "  # Save the new model over the old one\n",
    "  model_output_path = \"../models/spark_random_forest_classifier.flight_delays.baseline.bin\"\n",
    "  model.write().overwrite().save(model_output_path)\n",
    "\n",
    "  # Evaluate model using test data\n",
    "  predictions = model.transform(test_data)\n",
    "\n",
    "  # Evaluate this split's results for each metric\n",
    "  from pyspark.ml.evaluation import MulticlassClassificationEvaluator\n",
    "  for metric_name in metric_names:\n",
    "    evaluator = MulticlassClassificationEvaluator(\n",
    "      labelCol=\"ArrDelayBucket\",\n",
    "      predictionCol=\"Prediction\",\n",
    "      metricName=metric_name\n",
    "    )\n",
    "    score = evaluator.evaluate(predictions)\n",
    "  \n",
    "    scores[metric_name].append(score)\n",
    "    print(\"{} = {}\".format(metric_name, score))\n",
    "\n",
    "  #\n",
    "  # Collect feature importances\n",
    "  #\n",
    "  feature_names = vector_assembler.getInputCols()\n",
    "  feature_importance_list = model.featureImportances\n",
    "  for feature_name, feature_importance in zip(feature_names, feature_importance_list):\n",
    "    feature_importances[feature_name].append(feature_importance)"
   ]
  },
  {
   "cell_type": "markdown",
   "metadata": {},
   "source": [
    "### Inspecting Feature Importances\n",
    "\n",
    "Next, we need to compute the average of the importance for each feature. Note that we use a `defaultdict(float)` to ensure that accessing empty keys returns zero. This will be important when comparing entries in the log with different sets of features. In order to print the feature importances, we need to sort them first, by descending order of importance:"
   ]
  },
  {
   "cell_type": "code",
   "execution_count": 13,
   "metadata": {},
   "outputs": [
    {
     "name": "stdout",
     "output_type": "stream",
     "text": [
      "\n",
      "Feature Importances\n",
      "-------------------\n",
      "Name                Importance\n",
      "----------------  ------------\n",
      "DepDelay            0.803014\n",
      "Route_index         0.0432006\n",
      "DayOfYear_index     0.041677\n",
      "Origin_index        0.0225873\n",
      "Dest_index          0.0211217\n",
      "DayOfMonth_index    0.0186109\n",
      "Distance            0.0168524\n",
      "Carrier_index       0.00705917\n",
      "DayOfWeek_index     0.00328912\n"
     ]
    }
   ],
   "source": [
    "#\n",
    "# Analyze and report feature importance changes\n",
    "#\n",
    "\n",
    "# Compute averages for each feature\n",
    "feature_importance_entry = defaultdict(float)\n",
    "for feature_name, value_list in feature_importances.items():\n",
    "  average_importance = sum(value_list) / len(value_list)\n",
    "  feature_importance_entry[feature_name] = average_importance\n",
    "\n",
    "# Sort the feature importances in descending order and print\n",
    "import operator\n",
    "sorted_feature_importances = sorted(\n",
    "  feature_importance_entry.items(),\n",
    "  key=operator.itemgetter(1),\n",
    "  reverse=True\n",
    ")\n",
    "\n",
    "print(\"\\nFeature Importances\")\n",
    "print(\"-------------------\")\n",
    "print(tabulate(sorted_feature_importances, headers=['Name', 'Importance']))"
   ]
  },
  {
   "cell_type": "markdown",
   "metadata": {},
   "source": [
    "### Feature Importance Differences Between Runs\n",
    "\n",
    "Next we need to perform the same housekeeping as we did for the model score log: load the model, create an entry for this experiment, load the last experiment and compute the change for each feature between that experiment and the current one, and then print a report on these deltas.\n",
    "\n",
    "First we load the last feature log. If it isn’t available because it doesn’t exist, we initialize the last_feature_log with zeros for each feature, so that new features will have a positive score equal to their amount:"
   ]
  },
  {
   "cell_type": "code",
   "execution_count": 14,
   "metadata": {
    "collapsed": true
   },
   "outputs": [],
   "source": [
    "#\n",
    "# Compare this run's feature importances with the previous run's\n",
    "#\n",
    "  \n",
    "# Load the feature importance log or initialize an empty one\n",
    "try:\n",
    "  feature_log_filename = \"../models/feature_log.pickle\"\n",
    "  feature_log = pickle.load(open(feature_log_filename, \"rb\"))\n",
    "  if not isinstance(feature_log, list):\n",
    "    feature_log = []\n",
    "except IOError:\n",
    "  feature_log = []\n",
    "\n",
    "# Compute and display the change in score for each feature\n",
    "try:\n",
    "  last_feature_log = feature_log[-1]\n",
    "except (IndexError, TypeError, AttributeError):\n",
    "  last_feature_log = defaultdict(float)\n",
    "  for feature_name, importance in feature_importance_entry.items():\n",
    "    last_feature_log[feature_name] = importance"
   ]
  },
  {
   "cell_type": "markdown",
   "metadata": {},
   "source": [
    "Next we compute the change between the last run and the current one:"
   ]
  },
  {
   "cell_type": "code",
   "execution_count": 15,
   "metadata": {
    "collapsed": true
   },
   "outputs": [],
   "source": [
    "# Compute the deltas\n",
    "feature_deltas = {}\n",
    "for feature_name in feature_importances.keys():\n",
    "  run_delta = feature_importance_entry[feature_name] - last_feature_log[feature_name]\n",
    "  feature_deltas[feature_name] = run_delta"
   ]
  },
  {
   "cell_type": "markdown",
   "metadata": {},
   "source": [
    "In order to display them, we need to sort the feature importance changes in descending order, to show the biggest change first:"
   ]
  },
  {
   "cell_type": "code",
   "execution_count": 16,
   "metadata": {
    "collapsed": true
   },
   "outputs": [],
   "source": [
    "# Sort feature deltas, biggest change first\n",
    "import operator\n",
    "sorted_feature_deltas = sorted(\n",
    "  feature_deltas.items(),\n",
    "  key=operator.itemgetter(1),\n",
    "  reverse=True\n",
    ")"
   ]
  },
  {
   "cell_type": "markdown",
   "metadata": {},
   "source": [
    "Then we display the sorted feature deltas:"
   ]
  },
  {
   "cell_type": "code",
   "execution_count": 17,
   "metadata": {},
   "outputs": [
    {
     "name": "stdout",
     "output_type": "stream",
     "text": [
      "\n",
      "Feature Importance Delta Report\n",
      "-------------------------------\n",
      "Feature                  Delta\n",
      "----------------  ------------\n",
      "DayOfYear_index    0.0184643\n",
      "Route_index        0.00612603\n",
      "DayOfWeek_index    0.00185113\n",
      "Dest_index         0.00118472\n",
      "Carrier_index      0.000929297\n",
      "Origin_index      -0.000450557\n",
      "Distance          -0.00469211\n",
      "DayOfMonth_index  -0.0109353\n",
      "DepDelay          -0.0120269\n"
     ]
    }
   ],
   "source": [
    "# Display sorted feature deltas\n",
    "print(\"\\nFeature Importance Delta Report\")\n",
    "print(\"-------------------------------\")\n",
    "print(tabulate(sorted_feature_deltas, headers=[\"Feature\", \"Delta\"]))"
   ]
  },
  {
   "cell_type": "markdown",
   "metadata": {},
   "source": [
    "Finally, as with the score log, we append our entry to the log and save it for the next run:"
   ]
  },
  {
   "cell_type": "code",
   "execution_count": 18,
   "metadata": {
    "collapsed": true
   },
   "outputs": [],
   "source": [
    "# Append the existing average deltas to the log\n",
    "feature_log.append(feature_importance_entry)\n",
    "\n",
    "# Persist the log for next run\n",
    "pickle.dump(feature_log, open(feature_log_filename, \"wb\"))"
   ]
  },
  {
   "cell_type": "markdown",
   "metadata": {},
   "source": [
    "We’ll use the raw feature importances as well as the changes in feature importance to guide our creation or alteration of features as we improve the model."
   ]
  },
  {
   "cell_type": "markdown",
   "metadata": {},
   "source": [
    "### Conclusion\n",
    "\n",
    "Now that we have the ability to understand the effect of changes between experimental runs, we can detect changes that improve our model. We can start adding features to test their effect on the model’s prediction quality, and pursue related features that help improve quality! Without this setup, we would be hard put to make positive changes. With it, we are only bounded by our creativity in our efforts to improve the model."
   ]
  },
  {
   "cell_type": "markdown",
   "metadata": {},
   "source": [
    "## Time of Day as a Feature\n",
    "\n",
    "In examining our feature importances, it looks like the date/time fields have some impact. What if we extracted the hour/minute as an integer from the datetime for departure/arrival fields? This would inform the model about morning versus afternoon versus red-eye flights, which surely affects on-time performance, as there is more traffic in the morning than overnight.\n",
    "\n",
    "Check out [ch09/explore_delays.py](explore_delays.py). Let’s start by exploring the premise of this feature, that lateness varies by the time of day of the flight:"
   ]
  },
  {
   "cell_type": "code",
   "execution_count": 19,
   "metadata": {},
   "outputs": [
    {
     "name": "stdout",
     "output_type": "stream",
     "text": [
      "+--------+-------------------+-------------------+-------+----------+---------+---------+--------+----+--------+----------+---------+------+\n",
      "|ArrDelay|         CRSArrTime|         CRSDepTime|Carrier|DayOfMonth|DayOfWeek|DayOfYear|DepDelay|Dest|Distance|FlightDate|FlightNum|Origin|\n",
      "+--------+-------------------+-------------------+-------+----------+---------+---------+--------+----+--------+----------+---------+------+\n",
      "|    -5.0|2015-01-19 00:04:00|2015-01-18 23:00:00|     B6|        18|        7|       18|     0.0| BOS|   187.0|2015-01-18|      718|   JFK|\n",
      "|     1.0|2015-01-19 04:40:00|2015-01-18 23:59:00|     B6|        18|        7|       18|     3.0| BQN|  1576.0|2015-01-18|      839|   JFK|\n",
      "|   -12.0|2015-01-18 16:12:00|2015-01-18 13:59:00|     B6|        18|        7|       18|    -6.0| CHS|   636.0|2015-01-18|     1373|   JFK|\n",
      "|    29.0|2015-01-18 19:17:00|2015-01-18 17:13:00|     B6|        18|        7|       18|    41.0| CLT|   541.0|2015-01-18|     1119|   JFK|\n",
      "|    10.0|2015-01-19 00:18:00|2015-01-18 21:29:00|     B6|        18|        7|       18|    14.0| LAS|  2248.0|2015-01-18|      611|   JFK|\n",
      "+--------+-------------------+-------------------+-------+----------+---------+---------+--------+----+--------+----------+---------+------+\n",
      "only showing top 5 rows\n",
      "\n"
     ]
    }
   ],
   "source": [
    "features.registerTempTable(\"features\")\n",
    "features.show(5)"
   ]
  },
  {
   "cell_type": "code",
   "execution_count": 20,
   "metadata": {},
   "outputs": [
    {
     "name": "stdout",
     "output_type": "stream",
     "text": [
      "+----+-------------------+---------------------+\n",
      "|Hour|      avg(ArrDelay)|stddev_samp(ArrDelay)|\n",
      "+----+-------------------+---------------------+\n",
      "|   1| -2.192982456140351|   20.778971681976973|\n",
      "|   2|          19.546875|    84.70376571668642|\n",
      "|   3| 3.4705882352941178|   25.956977980542206|\n",
      "|   4|                0.5|   32.439687626938294|\n",
      "|   5| 20.636363636363637|    43.18627728173089|\n",
      "|   6| -1.220421393841167|    36.55542009242717|\n",
      "|   7|          -2.834375|    36.34469164885469|\n",
      "|   8|-0.3418894830659537|   35.022812659136456|\n",
      "|   9|  1.416891284815813|    32.13213100339773|\n",
      "|  10| 2.8312191684284707|   37.540860849727785|\n",
      "|  11|  5.243448275862069|    36.22973021337575|\n",
      "|  12|  6.550379914106376|    48.33557880220105|\n",
      "|  13|  6.205017921146953|   45.426249946539585|\n",
      "|  14|  7.212092434314656|    38.11610997719809|\n",
      "|  15|  7.720670391061453|     36.8521055518414|\n",
      "|  16|   8.17374651810585|    38.19846931930225|\n",
      "|  17|  8.577387486278814|   39.076879599499335|\n",
      "|  18|   9.27555988315482|    40.59672212496901|\n",
      "|  19| 11.700263256863483|   45.403392630767605|\n",
      "|  20| 10.497451979615837|      37.691127230907|\n",
      "|  21|  9.948284960422164|    36.58952749987716|\n",
      "|  22| 10.294776119402986|    41.93254089765559|\n",
      "|  23| 3.3166089965397925|   27.230674560282747|\n",
      "|  24|-1.5242718446601942|   31.750604246278257|\n",
      "+----+-------------------+---------------------+\n",
      "\n"
     ]
    }
   ],
   "source": [
    "spark.sql(\"\"\"\n",
    "  SELECT\n",
    "    HOUR(CRSDepTime) + 1 AS Hour,\n",
    "    AVG(ArrDelay),\n",
    "    STD(ArrDelay)\n",
    "  FROM features\n",
    "  GROUP BY HOUR(CRSDepTime)\n",
    "  ORDER BY HOUR(CRSDepTime)\n",
    "\"\"\").show(24)"
   ]
  },
  {
   "cell_type": "code",
   "execution_count": 21,
   "metadata": {},
   "outputs": [
    {
     "name": "stdout",
     "output_type": "stream",
     "text": [
      "+----+--------------------+---------------------+\n",
      "|Hour|       avg(ArrDelay)|stddev_samp(ArrDelay)|\n",
      "+----+--------------------+---------------------+\n",
      "|   1|   15.05813953488372|    45.11575126573887|\n",
      "|   2|    8.23076923076923|    33.22606898083233|\n",
      "|   3| -20.363636363636363|   12.347248497318965|\n",
      "|   4|              9.6875|   30.466853573460234|\n",
      "|   5|   8.622641509433961|    36.50301695386831|\n",
      "|   6|  1.4923664122137406|   32.725813491923155|\n",
      "|   7|  1.3789473684210527|    41.11709607458835|\n",
      "|   8| -1.7695252679938744|   30.903453998646935|\n",
      "|   9| -1.0879017013232515|    36.14097463289268|\n",
      "|  10|-0.14920140241527075|    31.86169361195121|\n",
      "|  11|  2.1374072765807135|    39.28125254640734|\n",
      "|  12|  1.4746765249537892|     32.5702955940238|\n",
      "|  13|   5.110858995137764|    47.06548162966482|\n",
      "|  14|  3.0099431818181817|    35.14433937724822|\n",
      "|  15|    6.77048622917375|   46.418065031775214|\n",
      "|  16|   6.250175192711983|    40.03300152343383|\n",
      "|  17|  7.7013546798029555|    38.32877850237684|\n",
      "|  18|   7.575994054254924|    35.26607945750861|\n",
      "|  19|   8.438011122015048|    36.96228135766905|\n",
      "|  20|  10.917897011163125|    40.76786961898266|\n",
      "|  21|  10.020332090816673|    45.35272974078325|\n",
      "|  22|  10.629161882893227|    41.18817078553866|\n",
      "|  23|   8.552925413130861|    35.47278959653229|\n",
      "|  24|    9.61799217731421|    39.45853466451562|\n",
      "+----+--------------------+---------------------+\n",
      "\n"
     ]
    }
   ],
   "source": [
    "spark.sql(\"\"\"\n",
    "  SELECT\n",
    "    HOUR(CRSArrTime) + 1 AS Hour,\n",
    "    AVG(ArrDelay),\n",
    "    STD(ArrDelay)\n",
    "  FROM features\n",
    "  GROUP BY HOUR(CRSArrTime)\n",
    "  ORDER BY HOUR(CRSArrTime)\n",
    "\"\"\").show(24)"
   ]
  },
  {
   "cell_type": "code",
   "execution_count": 22,
   "metadata": {},
   "outputs": [
    {
     "name": "stdout",
     "output_type": "stream",
     "text": [
      "Departure delay covariance: 16.132755399553687\n",
      "Arrival delay covariance:   15.338965369582844\n"
     ]
    }
   ],
   "source": [
    "from pyspark.sql.functions import hour\n",
    "\n",
    "features = features.withColumn('CRSDepHourOfDay', hour(features.CRSDepTime))\n",
    "features = features.withColumn('CRSArrHourOfDay', hour(features.CRSArrTime))\n",
    "\n",
    "departure_cov = features.stat.cov('CRSDepHourOfDay', 'ArrDelay')\n",
    "arrival_cov = features.stat.cov('CRSArrHourOfDay', 'ArrDelay')\n",
    "\n",
    "print(\"Departure delay covariance: {:,}\".format(departure_cov))\n",
    "print(\"Arrival delay covariance:   {:,}\".format(arrival_cov))"
   ]
  },
  {
   "cell_type": "code",
   "execution_count": 23,
   "metadata": {},
   "outputs": [
    {
     "name": "stdout",
     "output_type": "stream",
     "text": [
      "+-------------------+---------------+-------------------+---------------+\n",
      "|         CRSDepTime|CRSDepHourOfDay|         CRSArrTime|CRSArrHourOfDay|\n",
      "+-------------------+---------------+-------------------+---------------+\n",
      "|2015-01-18 23:00:00|             23|2015-01-19 00:04:00|              0|\n",
      "|2015-01-18 23:59:00|             23|2015-01-19 04:40:00|              4|\n",
      "|2015-01-18 13:59:00|             13|2015-01-18 16:12:00|             16|\n",
      "|2015-01-18 17:13:00|             17|2015-01-18 19:17:00|             19|\n",
      "|2015-01-18 21:29:00|             21|2015-01-19 00:18:00|              0|\n",
      "|2015-01-18 06:30:00|              6|2015-01-18 09:47:00|              9|\n",
      "|2015-01-18 21:40:00|             21|2015-01-19 00:56:00|              0|\n",
      "|2015-01-18 19:30:00|             19|2015-01-18 21:18:00|             21|\n",
      "|2015-01-18 18:59:00|             18|2015-01-18 22:46:00|             22|\n",
      "|2015-01-18 15:40:00|             15|2015-01-18 19:04:00|             19|\n",
      "|2015-01-18 22:29:00|             22|2015-01-18 23:38:00|             23|\n",
      "|2015-01-18 13:39:00|             13|2015-01-18 21:29:00|             21|\n",
      "|2015-01-18 15:50:00|             15|2015-01-18 23:59:00|             23|\n",
      "|2015-01-18 06:00:00|              6|2015-01-18 09:03:00|              9|\n",
      "|2015-01-18 10:42:00|             10|2015-01-18 13:54:00|             13|\n",
      "|2015-01-18 13:12:00|             13|2015-01-18 16:09:00|             16|\n",
      "|2015-01-18 14:04:00|             14|2015-01-18 22:12:00|             22|\n",
      "|2015-01-18 15:18:00|             15|2015-01-18 18:00:00|             18|\n",
      "|2015-01-18 06:50:00|              6|2015-01-18 08:15:00|              8|\n",
      "|2015-01-18 10:20:00|             10|2015-01-18 12:57:00|             12|\n",
      "+-------------------+---------------+-------------------+---------------+\n",
      "only showing top 20 rows\n",
      "\n"
     ]
    }
   ],
   "source": [
    "features.select(\n",
    "    \"CRSDepTime\", \n",
    "    \"CRSDepHourOfDay\", \n",
    "    \"CRSArrTime\", \n",
    "    \"CRSArrHourOfDay\"\n",
    ").show()"
   ]
  },
  {
   "cell_type": "markdown",
   "metadata": {},
   "source": [
    "### Encoding Our New Features\n",
    "\n",
    "Now we must repeat the feature encoding process such that it includes these new features. Lets take a look at what our features look like at this moment:"
   ]
  },
  {
   "cell_type": "code",
   "execution_count": 24,
   "metadata": {},
   "outputs": [
    {
     "name": "stdout",
     "output_type": "stream",
     "text": [
      "+--------+-------------------+-------------------+-------+----------+---------+---------+--------+----+--------+----------+---------+------+---------------+---------------+\n",
      "|ArrDelay|         CRSArrTime|         CRSDepTime|Carrier|DayOfMonth|DayOfWeek|DayOfYear|DepDelay|Dest|Distance|FlightDate|FlightNum|Origin|CRSDepHourOfDay|CRSArrHourOfDay|\n",
      "+--------+-------------------+-------------------+-------+----------+---------+---------+--------+----+--------+----------+---------+------+---------------+---------------+\n",
      "|    -5.0|2015-01-19 00:04:00|2015-01-18 23:00:00|     B6|        18|        7|       18|     0.0| BOS|   187.0|2015-01-18|      718|   JFK|             23|              0|\n",
      "|     1.0|2015-01-19 04:40:00|2015-01-18 23:59:00|     B6|        18|        7|       18|     3.0| BQN|  1576.0|2015-01-18|      839|   JFK|             23|              4|\n",
      "|   -12.0|2015-01-18 16:12:00|2015-01-18 13:59:00|     B6|        18|        7|       18|    -6.0| CHS|   636.0|2015-01-18|     1373|   JFK|             13|             16|\n",
      "|    29.0|2015-01-18 19:17:00|2015-01-18 17:13:00|     B6|        18|        7|       18|    41.0| CLT|   541.0|2015-01-18|     1119|   JFK|             17|             19|\n",
      "|    10.0|2015-01-19 00:18:00|2015-01-18 21:29:00|     B6|        18|        7|       18|    14.0| LAS|  2248.0|2015-01-18|      611|   JFK|             21|              0|\n",
      "+--------+-------------------+-------------------+-------+----------+---------+---------+--------+----+--------+----------+---------+------+---------------+---------------+\n",
      "only showing top 5 rows\n",
      "\n"
     ]
    }
   ],
   "source": [
    "features.show(5)"
   ]
  },
  {
   "cell_type": "markdown",
   "metadata": {},
   "source": [
    "So we're back at the beginning, and still have to add `Route`, bucketize the data, encode our string and numeric fields and then combine them into a single vector. Lets get started!"
   ]
  },
  {
   "cell_type": "code",
   "execution_count": 25,
   "metadata": {},
   "outputs": [
    {
     "name": "stdout",
     "output_type": "stream",
     "text": [
      "+--------+-------------------+-------------------+-------+----------+---------+---------+--------+----+--------+----------+---------+------+---------------+---------------+-------+\n",
      "|ArrDelay|         CRSArrTime|         CRSDepTime|Carrier|DayOfMonth|DayOfWeek|DayOfYear|DepDelay|Dest|Distance|FlightDate|FlightNum|Origin|CRSDepHourOfDay|CRSArrHourOfDay|  Route|\n",
      "+--------+-------------------+-------------------+-------+----------+---------+---------+--------+----+--------+----------+---------+------+---------------+---------------+-------+\n",
      "|    -5.0|2015-01-19 00:04:00|2015-01-18 23:00:00|     B6|        18|        7|       18|     0.0| BOS|   187.0|2015-01-18|      718|   JFK|             23|              0|JFK-BOS|\n",
      "|     1.0|2015-01-19 04:40:00|2015-01-18 23:59:00|     B6|        18|        7|       18|     3.0| BQN|  1576.0|2015-01-18|      839|   JFK|             23|              4|JFK-BQN|\n",
      "|   -12.0|2015-01-18 16:12:00|2015-01-18 13:59:00|     B6|        18|        7|       18|    -6.0| CHS|   636.0|2015-01-18|     1373|   JFK|             13|             16|JFK-CHS|\n",
      "|    29.0|2015-01-18 19:17:00|2015-01-18 17:13:00|     B6|        18|        7|       18|    41.0| CLT|   541.0|2015-01-18|     1119|   JFK|             17|             19|JFK-CLT|\n",
      "|    10.0|2015-01-19 00:18:00|2015-01-18 21:29:00|     B6|        18|        7|       18|    14.0| LAS|  2248.0|2015-01-18|      611|   JFK|             21|              0|JFK-LAS|\n",
      "|   -22.0|2015-01-18 09:47:00|2015-01-18 06:30:00|     B6|        18|        7|       18|    -3.0| LAX|  2475.0|2015-01-18|       23|   JFK|              6|              9|JFK-LAX|\n",
      "+--------+-------------------+-------------------+-------+----------+---------+---------+--------+----+--------+----------+---------+------+---------------+---------------+-------+\n",
      "only showing top 6 rows\n",
      "\n"
     ]
    }
   ],
   "source": [
    "#\n",
    "# Add a Route variable to replace FlightNum\n",
    "#\n",
    "from pyspark.sql.functions import lit, concat\n",
    "features_with_route = features.withColumn(\n",
    "  'Route',\n",
    "  concat(\n",
    "    features.Origin,\n",
    "    lit('-'),\n",
    "    features.Dest\n",
    "  )\n",
    ")\n",
    "features_with_route.show(6)"
   ]
  },
  {
   "cell_type": "code",
   "execution_count": 26,
   "metadata": {},
   "outputs": [
    {
     "name": "stdout",
     "output_type": "stream",
     "text": [
      "+--------+--------------+\n",
      "|ArrDelay|ArrDelayBucket|\n",
      "+--------+--------------+\n",
      "|    -5.0|           1.0|\n",
      "|     1.0|           2.0|\n",
      "|   -12.0|           1.0|\n",
      "|    29.0|           2.0|\n",
      "|    10.0|           2.0|\n",
      "+--------+--------------+\n",
      "only showing top 5 rows\n",
      "\n"
     ]
    }
   ],
   "source": [
    "#\n",
    "# Use pysmark.ml.feature.Bucketizer to bucketize ArrDelay into on-time, slightly late, very late (0, 1, 2)\n",
    "#\n",
    "from pyspark.ml.feature import Bucketizer\n",
    "\n",
    "# Setup the Bucketizer\n",
    "splits = [-float(\"inf\"), -15.0, 0, 30.0, float(\"inf\")]\n",
    "arrival_bucketizer = Bucketizer(\n",
    "  splits=splits,\n",
    "  inputCol=\"ArrDelay\",\n",
    "  outputCol=\"ArrDelayBucket\"\n",
    ")\n",
    "\n",
    "# Save the model\n",
    "arrival_bucketizer_path = \"../models/arrival_bucketizer_2.0.bin\"\n",
    "arrival_bucketizer.write().overwrite().save(arrival_bucketizer_path)\n",
    "\n",
    "# Apply the model\n",
    "ml_bucketized_features = arrival_bucketizer.transform(features_with_route)\n",
    "ml_bucketized_features.select(\"ArrDelay\", \"ArrDelayBucket\").show(5)"
   ]
  },
  {
   "cell_type": "code",
   "execution_count": 27,
   "metadata": {},
   "outputs": [
    {
     "name": "stdout",
     "output_type": "stream",
     "text": [
      "+--------+-------------------+-------------------+-------+----------+---------+---------+--------+----+--------+----------+---------+------+---------------+---------------+-------+--------------+-------------+----------------+---------------+---------------+------------+----------+-----------+\n",
      "|ArrDelay|         CRSArrTime|         CRSDepTime|Carrier|DayOfMonth|DayOfWeek|DayOfYear|DepDelay|Dest|Distance|FlightDate|FlightNum|Origin|CRSDepHourOfDay|CRSArrHourOfDay|  Route|ArrDelayBucket|Carrier_index|DayOfMonth_index|DayOfWeek_index|DayOfYear_index|Origin_index|Dest_index|Route_index|\n",
      "+--------+-------------------+-------------------+-------+----------+---------+---------+--------+----+--------+----------+---------+------+---------------+---------------+-------+--------------+-------------+----------------+---------------+---------------+------------+----------+-----------+\n",
      "|    -5.0|2015-01-19 00:04:00|2015-01-18 23:00:00|     B6|        18|        7|       18|     0.0| BOS|   187.0|2015-01-18|      718|   JFK|             23|              0|JFK-BOS|           1.0|          8.0|            25.0|            6.0|           25.0|        15.0|      17.0|       63.0|\n",
      "|     1.0|2015-01-19 04:40:00|2015-01-18 23:59:00|     B6|        18|        7|       18|     3.0| BQN|  1576.0|2015-01-18|      839|   JFK|             23|              4|JFK-BQN|           2.0|          8.0|            25.0|            6.0|           25.0|        15.0|     239.0|     3551.0|\n",
      "|   -12.0|2015-01-18 16:12:00|2015-01-18 13:59:00|     B6|        18|        7|       18|    -6.0| CHS|   636.0|2015-01-18|     1373|   JFK|             13|             16|JFK-CHS|           1.0|          8.0|            25.0|            6.0|           25.0|        15.0|      77.0|     2014.0|\n",
      "|    29.0|2015-01-18 19:17:00|2015-01-18 17:13:00|     B6|        18|        7|       18|    41.0| CLT|   541.0|2015-01-18|     1119|   JFK|             17|             19|JFK-CLT|           2.0|          8.0|            25.0|            6.0|           25.0|        15.0|      11.0|      668.0|\n",
      "|    10.0|2015-01-19 00:18:00|2015-01-18 21:29:00|     B6|        18|        7|       18|    14.0| LAS|  2248.0|2015-01-18|      611|   JFK|             21|              0|JFK-LAS|           2.0|          8.0|            25.0|            6.0|           25.0|        15.0|       8.0|      367.0|\n",
      "+--------+-------------------+-------------------+-------+----------+---------+---------+--------+----+--------+----------+---------+------+---------------+---------------+-------+--------------+-------------+----------------+---------------+---------------+------------+----------+-----------+\n",
      "only showing top 5 rows\n",
      "\n"
     ]
    }
   ],
   "source": [
    "#\n",
    "# Extract features tools in with pyspark.ml.feature\n",
    "#\n",
    "from pyspark.ml.feature import StringIndexer, VectorAssembler\n",
    "\n",
    "# Turn category fields into indexes\n",
    "for column in [\"Carrier\", \"DayOfMonth\", \"DayOfWeek\", \"DayOfYear\",\n",
    "               \"Origin\", \"Dest\", \"Route\"]:\n",
    "  string_indexer = StringIndexer(\n",
    "    inputCol=column,\n",
    "    outputCol=column + \"_index\"\n",
    "  )\n",
    "\n",
    "  string_indexer_model = string_indexer.fit(ml_bucketized_features)\n",
    "  ml_bucketized_features = string_indexer_model.transform(ml_bucketized_features)\n",
    "\n",
    "  # Save the pipeline model\n",
    "  string_indexer_output_path = \"../models/string_indexer_model_3.0.{}.bin\".format(\n",
    "    column\n",
    "  )\n",
    "  string_indexer_model.write().overwrite().save(string_indexer_output_path)\n",
    "\n",
    "ml_bucketized_features.show(5)"
   ]
  },
  {
   "cell_type": "code",
   "execution_count": 28,
   "metadata": {},
   "outputs": [
    {
     "name": "stdout",
     "output_type": "stream",
     "text": [
      "+--------+-------------------+-------------------+-------+----------+---------+---------+--------+----+--------+----------+---------+------+---------------+---------------+-------+--------------+--------------------+\n",
      "|ArrDelay|         CRSArrTime|         CRSDepTime|Carrier|DayOfMonth|DayOfWeek|DayOfYear|DepDelay|Dest|Distance|FlightDate|FlightNum|Origin|CRSDepHourOfDay|CRSArrHourOfDay|  Route|ArrDelayBucket|        Features_vec|\n",
      "+--------+-------------------+-------------------+-------+----------+---------+---------+--------+----+--------+----------+---------+------+---------------+---------------+-------+--------------+--------------------+\n",
      "|    -5.0|2015-01-19 00:04:00|2015-01-18 23:00:00|     B6|        18|        7|       18|     0.0| BOS|   187.0|2015-01-18|      718|   JFK|             23|              0|JFK-BOS|           1.0|[0.0,187.0,23.0,0...|\n",
      "|     1.0|2015-01-19 04:40:00|2015-01-18 23:59:00|     B6|        18|        7|       18|     3.0| BQN|  1576.0|2015-01-18|      839|   JFK|             23|              4|JFK-BQN|           2.0|[3.0,1576.0,23.0,...|\n",
      "|   -12.0|2015-01-18 16:12:00|2015-01-18 13:59:00|     B6|        18|        7|       18|    -6.0| CHS|   636.0|2015-01-18|     1373|   JFK|             13|             16|JFK-CHS|           1.0|[-6.0,636.0,13.0,...|\n",
      "|    29.0|2015-01-18 19:17:00|2015-01-18 17:13:00|     B6|        18|        7|       18|    41.0| CLT|   541.0|2015-01-18|     1119|   JFK|             17|             19|JFK-CLT|           2.0|[41.0,541.0,17.0,...|\n",
      "|    10.0|2015-01-19 00:18:00|2015-01-18 21:29:00|     B6|        18|        7|       18|    14.0| LAS|  2248.0|2015-01-18|      611|   JFK|             21|              0|JFK-LAS|           2.0|[14.0,2248.0,21.0...|\n",
      "+--------+-------------------+-------------------+-------+----------+---------+---------+--------+----+--------+----------+---------+------+---------------+---------------+-------+--------------+--------------------+\n",
      "only showing top 5 rows\n",
      "\n"
     ]
    }
   ],
   "source": [
    "# Combine continuous, numeric fields with indexes of nominal ones\n",
    "# ...into one feature vector\n",
    "numeric_columns = [\n",
    "  \"DepDelay\", \"Distance\",\n",
    "  \"CRSDepHourOfDay\", \"CRSArrHourOfDay\"\n",
    "]\n",
    "index_columns = [\"Carrier_index\", \"DayOfMonth_index\",\n",
    "                 \"DayOfWeek_index\", \"DayOfYear_index\", \"Origin_index\",\n",
    "                 \"Origin_index\", \"Dest_index\", \"Route_index\"]\n",
    "vector_assembler = VectorAssembler(\n",
    "  inputCols=numeric_columns + index_columns,\n",
    "  outputCol=\"Features_vec\"\n",
    ")\n",
    "final_vectorized_features = vector_assembler.transform(ml_bucketized_features)\n",
    "\n",
    "# Save the numeric vector assembler\n",
    "vector_assembler_path = \"../models/numeric_vector_assembler_3.0.bin\"\n",
    "vector_assembler.write().overwrite().save(vector_assembler_path)\n",
    "\n",
    "# Drop the index columns\n",
    "for column in index_columns:\n",
    "  final_vectorized_features = final_vectorized_features.drop(column)\n",
    "\n",
    "# Inspect the finalized features\n",
    "final_vectorized_features.show(5)"
   ]
  },
  {
   "cell_type": "markdown",
   "metadata": {},
   "source": [
    "### Training with Our New Features\n",
    "\n",
    "Now we will train the model again, noting the performance and feature importances as we did before. This allows us to see the change in performance owing to the introduction of these new fields, `CRSDepHourOfDay` and `CRSArrHourOfDay`."
   ]
  },
  {
   "cell_type": "code",
   "execution_count": 29,
   "metadata": {},
   "outputs": [
    {
     "name": "stdout",
     "output_type": "stream",
     "text": [
      "\n",
      "Run 1 out of 3 of test/train splits in cross validation...\n",
      "accuracy = 0.5810062056737588\n",
      "weightedPrecision = 0.6934407918032928\n",
      "weightedRecall = 0.5810062056737588\n",
      "f1 = 0.5148110750855828\n",
      "\n",
      "Run 2 out of 3 of test/train splits in cross validation...\n",
      "accuracy = 0.5915618390292775\n",
      "weightedPrecision = 0.6606556463764695\n",
      "weightedRecall = 0.5915618390292775\n",
      "f1 = 0.5274611774053655\n",
      "\n",
      "Run 3 out of 3 of test/train splits in cross validation...\n",
      "accuracy = 0.5823200788695366\n",
      "weightedPrecision = 0.692290735649013\n",
      "weightedRecall = 0.5823200788695366\n",
      "f1 = 0.5186412846531507\n"
     ]
    }
   ],
   "source": [
    "#\n",
    "# Cross validate, train and evaluate classifier: loop 5 times for 4 metrics\n",
    "#\n",
    "\n",
    "from collections import defaultdict\n",
    "scores = defaultdict(list)\n",
    "feature_importances = defaultdict(list)\n",
    "metric_names = [\"accuracy\", \"weightedPrecision\", \"weightedRecall\", \"f1\"]\n",
    "split_count = 3\n",
    "\n",
    "for i in range(1, split_count + 1):\n",
    "  print(\"\\nRun {} out of {} of test/train splits in cross validation...\".format(\n",
    "      i,\n",
    "      split_count,\n",
    "    )\n",
    "  )\n",
    "\n",
    "  # Test/train split\n",
    "  training_data, test_data = final_vectorized_features.randomSplit([0.8, 0.2])\n",
    "\n",
    "  # Instantiate and fit random forest classifier on all the data\n",
    "  from pyspark.ml.classification import RandomForestClassifier\n",
    "  rfc = RandomForestClassifier(\n",
    "    featuresCol=\"Features_vec\",\n",
    "    labelCol=\"ArrDelayBucket\",\n",
    "    predictionCol=\"Prediction\",\n",
    "    maxBins=4657,\n",
    "    maxMemoryInMB=1024\n",
    "  )\n",
    "  model = rfc.fit(training_data)\n",
    "\n",
    "  # Save the new model over the old one\n",
    "  model_output_path = \"../models/spark_random_forest_classifier.flight_delays.baseline.bin\"\n",
    "  model.write().overwrite().save(model_output_path)\n",
    "\n",
    "  # Evaluate model using test data\n",
    "  predictions = model.transform(test_data)\n",
    "\n",
    "  # Evaluate this split's results for each metric\n",
    "  from pyspark.ml.evaluation import MulticlassClassificationEvaluator\n",
    "  for metric_name in metric_names:\n",
    "    evaluator = MulticlassClassificationEvaluator(\n",
    "      labelCol=\"ArrDelayBucket\",\n",
    "      predictionCol=\"Prediction\",\n",
    "      metricName=metric_name\n",
    "    )\n",
    "    score = evaluator.evaluate(predictions)\n",
    "  \n",
    "    scores[metric_name].append(score)\n",
    "    print(\"{} = {}\".format(metric_name, score))\n",
    "\n",
    "  #\n",
    "  # Collect feature importances\n",
    "  #\n",
    "  feature_names = vector_assembler.getInputCols()\n",
    "  feature_importance_list = model.featureImportances\n",
    "  for feature_name, feature_importance in zip(feature_names, feature_importance_list):\n",
    "    feature_importances[feature_name].append(feature_importance)"
   ]
  },
  {
   "cell_type": "code",
   "execution_count": 30,
   "metadata": {},
   "outputs": [
    {
     "name": "stdout",
     "output_type": "stream",
     "text": [
      "\n",
      "Experiment Log\n",
      "--------------\n",
      "Metric               Average         STD\n",
      "-----------------  ---------  ----------\n",
      "accuracy            0.584963  0.00469702\n",
      "weightedPrecision   0.682129  0.0151913\n",
      "weightedRecall      0.584963  0.00469702\n",
      "f1                  0.520305  0.0052966\n"
     ]
    }
   ],
   "source": [
    "#\n",
    "# Evaluate average and STD of each metric and print a table\n",
    "#\n",
    "import numpy as np\n",
    "score_averages = defaultdict(float)\n",
    "\n",
    "# Compute the table data\n",
    "average_stds = [] # ha\n",
    "for metric_name in metric_names:\n",
    "  metric_scores = scores[metric_name]\n",
    "  \n",
    "  average_accuracy = sum(metric_scores) / len(metric_scores)\n",
    "  score_averages[metric_name] = average_accuracy\n",
    "  \n",
    "  std_accuracy = np.std(metric_scores)\n",
    "  \n",
    "  average_stds.append((metric_name, average_accuracy, std_accuracy))\n",
    "\n",
    "# Print the table\n",
    "print(\"\\nExperiment Log\")\n",
    "print(\"--------------\")\n",
    "print(tabulate(average_stds, headers=[\"Metric\", \"Average\", \"STD\"]))"
   ]
  },
  {
   "cell_type": "code",
   "execution_count": 33,
   "metadata": {},
   "outputs": [
    {
     "name": "stdout",
     "output_type": "stream",
     "text": [
      "\n",
      "Experiment Report\n",
      "-----------------\n",
      "Metric                  Score\n",
      "-----------------  ----------\n",
      "accuracy           0.00230508\n",
      "weightedPrecision  0.0322531\n",
      "weightedRecall     0.00230508\n",
      "f1                 0.00333393\n"
     ]
    }
   ],
   "source": [
    "#\n",
    "# Persist the score to a sccore log that exists between runs\n",
    "#\n",
    "import pickle\n",
    "\n",
    "# Load the score log or initialize an empty one\n",
    "try:\n",
    "  score_log_filename = \"../models/score_log.pickle\"\n",
    "  score_log = pickle.load(open(score_log_filename, \"rb\"))\n",
    "  if not isinstance(score_log, list):\n",
    "    score_log = []\n",
    "except IOError:\n",
    "  score_log = []\n",
    "\n",
    "# Compute the existing score log entry\n",
    "score_log_entry = {metric_name: score_averages[metric_name] for metric_name in metric_names}\n",
    "\n",
    "# Compute and display the change in score for each metric\n",
    "try:\n",
    "  last_log = score_log[-1]\n",
    "except (IndexError, TypeError, AttributeError):\n",
    "  last_log = score_log_entry\n",
    "\n",
    "experiment_report = []\n",
    "for metric_name in metric_names:\n",
    "  run_delta = score_log_entry[metric_name] - last_log[metric_name]\n",
    "  experiment_report.append((metric_name, run_delta))\n",
    "\n",
    "print(\"\\nExperiment Report\")\n",
    "print(\"-----------------\")\n",
    "print(tabulate(experiment_report, headers=[\"Metric\", \"Score\"]))\n",
    "\n",
    "# Append the existing average scores to the log\n",
    "score_log.append(score_log_entry)\n",
    "\n",
    "# Persist the log for next run\n",
    "pickle.dump(score_log, open(score_log_filename, \"wb\"))"
   ]
  },
  {
   "cell_type": "code",
   "execution_count": 34,
   "metadata": {},
   "outputs": [
    {
     "name": "stdout",
     "output_type": "stream",
     "text": [
      "\n",
      "Feature Importances\n",
      "-------------------\n",
      "Name                Importance\n",
      "----------------  ------------\n",
      "DepDelay            0.751766\n",
      "Route_index         0.0529562\n",
      "DayOfYear_index     0.0433443\n",
      "DayOfMonth_index    0.0292654\n",
      "Origin_index        0.0282372\n",
      "Dest_index          0.0194616\n",
      "Distance            0.0182077\n",
      "Carrier_index       0.00928362\n",
      "CRSDepHourOfDay     0.00847469\n",
      "DayOfWeek_index     0.00586538\n",
      "CRSArrHourOfDay     0.00490074\n"
     ]
    }
   ],
   "source": [
    "#\n",
    "# Analyze and report feature importance changes\n",
    "#\n",
    "\n",
    "# Compute averages for each feature\n",
    "feature_importance_entry = defaultdict(float)\n",
    "for feature_name, value_list in feature_importances.items():\n",
    "  average_importance = sum(value_list) / len(value_list)\n",
    "  feature_importance_entry[feature_name] = average_importance\n",
    "\n",
    "# Sort the feature importances in descending order and print\n",
    "import operator\n",
    "sorted_feature_importances = sorted(\n",
    "  feature_importance_entry.items(),\n",
    "  key=operator.itemgetter(1),\n",
    "  reverse=True\n",
    ")\n",
    "\n",
    "print(\"\\nFeature Importances\")\n",
    "print(\"-------------------\")\n",
    "print(tabulate(sorted_feature_importances, headers=['Name', 'Importance']))"
   ]
  },
  {
   "cell_type": "code",
   "execution_count": 36,
   "metadata": {},
   "outputs": [
    {
     "name": "stdout",
     "output_type": "stream",
     "text": [
      "\n",
      "Feature Importance Delta Report\n",
      "-------------------------------\n",
      "Feature                 Delta\n",
      "----------------  -----------\n",
      "DayOfMonth_index   0.0106545\n",
      "Route_index        0.0097556\n",
      "CRSDepHourOfDay    0.00847469\n",
      "Origin_index       0.00564985\n",
      "CRSArrHourOfDay    0.00490074\n",
      "DayOfWeek_index    0.00257626\n",
      "Carrier_index      0.00222444\n",
      "DayOfYear_index    0.00166727\n",
      "Distance           0.00135526\n",
      "Dest_index        -0.00166013\n",
      "DepDelay          -0.0512483\n"
     ]
    }
   ],
   "source": [
    "#\n",
    "# Compare this run's feature importances with the previous run's\n",
    "#\n",
    "  \n",
    "# Load the feature importance log or initialize an empty one\n",
    "try:\n",
    "  feature_log_filename = \"../models/feature_log.pickle\"\n",
    "  feature_log = pickle.load(open(feature_log_filename, \"rb\"))\n",
    "  if not isinstance(feature_log, list):\n",
    "    feature_log = []\n",
    "except IOError:\n",
    "  feature_log = []\n",
    "\n",
    "# Compute and display the change in score for each feature\n",
    "try:\n",
    "  last_feature_log = feature_log[-1]\n",
    "except (IndexError, TypeError, AttributeError):\n",
    "  last_feature_log = defaultdict(float)\n",
    "  for feature_name, importance in feature_importance_entry.items():\n",
    "    last_feature_log[feature_name] = importance\n",
    "\n",
    "# Compute the deltas\n",
    "feature_deltas = {}\n",
    "for feature_name in feature_importances.keys():\n",
    "  run_delta = feature_importance_entry[feature_name] - last_feature_log[feature_name]\n",
    "  feature_deltas[feature_name] = run_delta\n",
    "\n",
    "# Sort feature deltas, biggest change first\n",
    "import operator\n",
    "sorted_feature_deltas = sorted(\n",
    "  feature_deltas.items(),\n",
    "  key=operator.itemgetter(1),\n",
    "  reverse=True\n",
    ")\n",
    "\n",
    "# Display sorted feature deltas\n",
    "print(\"\\nFeature Importance Delta Report\")\n",
    "print(\"-------------------------------\")\n",
    "print(tabulate(sorted_feature_deltas, headers=[\"Feature\", \"Delta\"]))\n",
    "\n",
    "# Append the existing average deltas to the log\n",
    "feature_log.append(feature_importance_entry)\n",
    "\n",
    "# Persist the log for next run\n",
    "pickle.dump(feature_log, open(feature_log_filename, \"wb\"))"
   ]
  },
  {
   "cell_type": "markdown",
   "metadata": {},
   "source": [
    "### Interpreting Our Results\n",
    "\n",
    "Interpreting the output, it looks like the combined effect of these fields is to impact feature importance by about 1%, but the effect on accuracy is insignificant. We’ll leave the fields in, although they don’t help much. Without resorting to advanced time series analysis, it seems we’ve milked all we can from date/time-based features.\n",
    "\n",
    "## Incorporating Airplane Data\n",
    "\n",
    "Recall from `Investigating Airplanes (Entities)` that we incorporated data on airplane manufacturers into our data model. For instance, we analyzed the distribution of manufacturers in the American commercial fleet. In this section, we’re going to join in airline data and see what impact this has on the model’s accuracy.\n",
    "\n",
    "I wonder whether properties of the aircraft (called the “metal” of the flight) influence delays? For instance, bigger aircraft fly higher and can go over weather, while smaller aircraft may be less able to do so. I can’t honestly think of a reason why the engine manufacturer, airplane manufacturer, or manufacture year would have an impact on the model, but since we’re importing one field, we may as well try them all! Note that we can simply drop any features that don’t rank as very significant. The beauty of our experimental model with decision trees is that it doesn’t cost extra to try extra fields. Sometimes you can simply let the model decide what matters.\n",
    "\n",
    "Note that when dealing with team members and with other teams who need an accounting of your time in order to coordinate with you, a description of the experiments you are running will help keep the teams in sync. For instance, “We are attempting to incorporate a new dataset which we scraped from the FAA website into our flight delay predictive model” would make a good experimental description during an agile sprint.\n",
    "\n",
    "### Extracting Airplane Features\n",
    "\n",
    "To add airplane features to our model, we need to create a new feature extraction script, [ch09/extract_features_with_airplanes.py](extract_features_with_airplanes.py). We can do this by copying and altering [ch09/extract_features.py](extract_features.py).\n",
    "\n",
    "First we add `TailNum` to the fields we select from our training data. Because this column also appears in our airplane dataset, we need to name it differently or we won’t easily be able to access the column after the join. We’ll name it `FeatureTailNum`:"
   ]
  },
  {
   "cell_type": "code",
   "execution_count": 41,
   "metadata": {},
   "outputs": [
    {
     "name": "stdout",
     "output_type": "stream",
     "text": [
      "+---------+----------+--------------+\n",
      "|FlightNum|FlightDate|FeatureTailNum|\n",
      "+---------+----------+--------------+\n",
      "|     1080|2015-01-01|        N005AA|\n",
      "|     1513|2015-01-01|        N008AA|\n",
      "|     1455|2015-01-01|        N012AA|\n",
      "|      903|2015-01-01|        N017AA|\n",
      "|     2413|2015-01-01|        N357AA|\n",
      "|     1044|2015-01-01|        N389AA|\n",
      "|     1650|2015-01-01|        N397AA|\n",
      "|     1382|2015-01-01|        N3AEAA|\n",
      "|     1266|2015-01-01|        N3AHAA|\n",
      "|     1525|2015-01-01|        N3AHAA|\n",
      "+---------+----------+--------------+\n",
      "only showing top 10 rows\n",
      "\n"
     ]
    }
   ],
   "source": [
    "# Load the on-time parquet file\n",
    "input_path = \"../data/on_time_performance.parquet\"\n",
    "on_time_dataframe = spark.read.parquet(input_path)\n",
    "on_time_dataframe.registerTempTable(\"on_time_performance\")\n",
    "\n",
    "# Select a few features of interest\n",
    "simple_on_time_features = spark.sql(\"\"\"\n",
    "SELECT\n",
    "  FlightNum,\n",
    "  FlightDate,\n",
    "  DayOfWeek,\n",
    "  DayofMonth AS DayOfMonth,\n",
    "  CONCAT(Month, '-',  DayofMonth) AS DayOfYear,\n",
    "  Carrier,\n",
    "  Origin,\n",
    "  Dest,\n",
    "  Distance,\n",
    "  DepDelay,\n",
    "  ArrDelay,\n",
    "  CRSDepTime,\n",
    "  CRSArrTime,\n",
    "  CONCAT(Origin, '-', Dest) AS Route,\n",
    "  TailNum AS FeatureTailNum\n",
    "FROM on_time_performance\n",
    "WHERE FlightDate < '2015-02-01'\n",
    "\"\"\")\n",
    "\n",
    "simple_on_time_features = simple_on_time_features.sample(False, 0.1)\n",
    "\n",
    "simple_on_time_features.select(\n",
    "  \"FlightNum\",\n",
    "  \"FlightDate\",\n",
    "  \"FeatureTailNum\"\n",
    ").show(10)"
   ]
  },
  {
   "cell_type": "code",
   "execution_count": 51,
   "metadata": {},
   "outputs": [
    {
     "name": "stdout",
     "output_type": "stream",
     "text": [
      "+---------+----------+---------+----------+---------+-------+------+----+--------+--------+--------+----------+----------+-------+--------------+\n",
      "|FlightNum|FlightDate|DayOfWeek|DayOfMonth|DayOfYear|Carrier|Origin|Dest|Distance|DepDelay|ArrDelay|CRSDepTime|CRSArrTime|  Route|FeatureTailNum|\n",
      "+---------+----------+---------+----------+---------+-------+------+----+--------+--------+--------+----------+----------+-------+--------------+\n",
      "|     1513|2015-01-01|        4|         1|      1-1|     AA|   ATL| DFW|   731.0|    -2.0|    -7.0|      1045|      1215|ATL-DFW|        N008AA|\n",
      "|     1455|2015-01-01|        4|         1|      1-1|     AA|   ATL| DFW|   731.0|    -4.0|   -14.0|      0855|      1025|ATL-DFW|        N012AA|\n",
      "|      903|2015-01-01|        4|         1|      1-1|     AA|   LAX| EGE|   748.0|    -7.0|    16.0|      0830|      1145|LAX-EGE|        N017AA|\n",
      "|     2413|2015-01-01|        4|         1|      1-1|     AA|   DFW| LAX|  1235.0|   128.0|   129.0|      0800|      0930|DFW-LAX|        N357AA|\n",
      "|     1044|2015-01-01|        4|         1|      1-1|     AA|   ORD| MIA|  1197.0|    -7.0|   -25.0|      1210|      1616|ORD-MIA|        N389AA|\n",
      "+---------+----------+---------+----------+---------+-------+------+----+--------+--------+--------+----------+----------+-------+--------------+\n",
      "only showing top 5 rows\n",
      "\n"
     ]
    }
   ],
   "source": [
    "# Filter nulls, they can't help us\n",
    "filled_on_time_features = simple_on_time_features.where(simple_on_time_features.ArrDelay.isNotNull())\n",
    "filled_on_time_features = filled_on_time_features.where(filled_on_time_features.DepDelay.isNotNull())\n",
    "filled_on_time_features.show(5)"
   ]
  },
  {
   "cell_type": "code",
   "execution_count": 42,
   "metadata": {
    "collapsed": true
   },
   "outputs": [],
   "source": [
    "# We need to turn timestamps into timestamps, and not strings or numbers\n",
    "def convert_hours(hours_minutes):\n",
    "  hours = hours_minutes[:-2]\n",
    "  minutes = hours_minutes[-2:]\n",
    "  \n",
    "  if hours == '24':\n",
    "    hours = '23'\n",
    "    minutes = '59'\n",
    "  \n",
    "  time_string = \"{}:{}:00Z\".format(hours, minutes)\n",
    "  return time_string\n",
    "\n",
    "def compose_datetime(iso_date, time_string):\n",
    "  return \"{} {}\".format(iso_date, time_string)\n",
    "\n",
    "def create_iso_string(iso_date, hours_minutes):\n",
    "  time_string = convert_hours(hours_minutes)\n",
    "  full_datetime = compose_datetime(iso_date, time_string)\n",
    "  return full_datetime\n",
    "\n",
    "def create_datetime(iso_string):\n",
    "  return iso8601.parse_date(iso_string)\n",
    "\n",
    "def convert_datetime(iso_date, hours_minutes):\n",
    "  iso_string = create_iso_string(iso_date, hours_minutes)\n",
    "  dt = create_datetime(iso_string)\n",
    "  return dt\n",
    "\n",
    "def day_of_year(iso_date_string):\n",
    "  dt = iso8601.parse_date(iso_date_string)\n",
    "  doy = dt.timetuple().tm_yday\n",
    "  return doy\n",
    "\n",
    "def alter_feature_datetimes(row):\n",
    "  \n",
    "  flight_date = iso8601.parse_date(row['FlightDate'])\n",
    "  scheduled_dep_time = convert_datetime(row['FlightDate'], row['CRSDepTime'])\n",
    "  scheduled_arr_time = convert_datetime(row['FlightDate'], row['CRSArrTime'])\n",
    "  \n",
    "  # Handle overnight flights\n",
    "  if scheduled_arr_time < scheduled_dep_time:\n",
    "    scheduled_arr_time += datetime.timedelta(days=1)\n",
    "  \n",
    "  doy = day_of_year(row['FlightDate'])\n",
    "  \n",
    "  return {\n",
    "    'FlightNum': row['FlightNum'],\n",
    "    'FlightDate': flight_date,\n",
    "    'DayOfWeek': int(row['DayOfWeek']),\n",
    "    'DayOfMonth': int(row['DayOfMonth']),\n",
    "    'DayOfYear': doy,\n",
    "    'Carrier': row['Carrier'],\n",
    "    'Origin': row['Origin'],\n",
    "    'Dest': row['Dest'],\n",
    "    'Distance': row['Distance'],\n",
    "    'DepDelay': row['DepDelay'],\n",
    "    'ArrDelay': row['ArrDelay'],\n",
    "    'CRSDepTime': scheduled_dep_time,\n",
    "    'CRSArrTime': scheduled_arr_time,\n",
    "    'Route': row['Route'],\n",
    "    'FeatureTailNum': row['FeatureTailNum'],\n",
    "  }"
   ]
  },
  {
   "cell_type": "code",
   "execution_count": 53,
   "metadata": {},
   "outputs": [
    {
     "name": "stdout",
     "output_type": "stream",
     "text": [
      "+--------+-------------------+-------------------+-------+----------+---------+---------+--------+----+--------+--------------+-------------------+---------+------+-------+\n",
      "|ArrDelay|         CRSArrTime|         CRSDepTime|Carrier|DayOfMonth|DayOfWeek|DayOfYear|DepDelay|Dest|Distance|FeatureTailNum|         FlightDate|FlightNum|Origin|  Route|\n",
      "+--------+-------------------+-------------------+-------+----------+---------+---------+--------+----+--------+--------------+-------------------+---------+------+-------+\n",
      "|    -7.0|2015-01-01 12:15:00|2015-01-01 10:45:00|     AA|         1|        4|        1|    -2.0| DFW|   731.0|        N008AA|2015-01-01 00:00:00|     1513|   ATL|ATL-DFW|\n",
      "|   -14.0|2015-01-01 10:25:00|2015-01-01 08:55:00|     AA|         1|        4|        1|    -4.0| DFW|   731.0|        N012AA|2015-01-01 00:00:00|     1455|   ATL|ATL-DFW|\n",
      "|    16.0|2015-01-01 11:45:00|2015-01-01 08:30:00|     AA|         1|        4|        1|    -7.0| EGE|   748.0|        N017AA|2015-01-01 00:00:00|      903|   LAX|LAX-EGE|\n",
      "|   129.0|2015-01-01 09:30:00|2015-01-01 08:00:00|     AA|         1|        4|        1|   128.0| LAX|  1235.0|        N357AA|2015-01-01 00:00:00|     2413|   DFW|DFW-LAX|\n",
      "|   -25.0|2015-01-01 16:16:00|2015-01-01 12:10:00|     AA|         1|        4|        1|    -7.0| MIA|  1197.0|        N389AA|2015-01-01 00:00:00|     1044|   ORD|ORD-MIA|\n",
      "+--------+-------------------+-------------------+-------+----------+---------+---------+--------+----+--------+--------------+-------------------+---------+------+-------+\n",
      "only showing top 5 rows\n",
      "\n"
     ]
    },
    {
     "name": "stderr",
     "output_type": "stream",
     "text": [
      "/home/ubuntu/spark/python/pyspark/sql/session.py:356: UserWarning: Using RDD of dict to inferSchema is deprecated. Use pyspark.sql.Row instead\n",
      "  warnings.warn(\"Using RDD of dict to inferSchema is deprecated. \"\n"
     ]
    }
   ],
   "source": [
    "timestamp_features = filled_on_time_features.rdd.map(alter_feature_datetimes)\n",
    "timestamp_df = timestamp_features.toDF()\n",
    "timestamp_df.show(5)"
   ]
  },
  {
   "cell_type": "markdown",
   "metadata": {},
   "source": [
    "### Joining Airplane Data\n",
    "\n",
    "Next, we load the airplane data and left join it to our features dataset. Note that null is a problematic value for our `StringIndexer`. But we don’t want to discard empty values or rows either, because whether a variable is present or not is something our decision tree model can use to learn. We use `DataFrame.selectExpr` to `COALESCE` our `null` values to the string `'Empty'`. This will get its own index from `StringIndexer` and things will work out well. Also note that we rename `FeatureTailNum` back to `TailNum` for the final output:"
   ]
  },
  {
   "cell_type": "code",
   "execution_count": 56,
   "metadata": {},
   "outputs": [
    {
     "name": "stdout",
     "output_type": "stream",
     "text": [
      "+---------+-------------------+---------+----------+---------+-------+------+----+--------+--------+--------+-------------------+-------------------+-------+-------+------------------+-----------+------------+----------------+-------+----------+\n",
      "|FlightNum|         FlightDate|DayOfWeek|DayOfMonth|DayOfYear|Carrier|Origin|Dest|Distance|DepDelay|ArrDelay|         CRSDepTime|         CRSArrTime|  Route|TailNum|EngineManufacturer|EngineModel|Manufacturer|ManufacturerYear|  Model|OwnerState|\n",
      "+---------+-------------------+---------+----------+---------+-------+------+----+--------+--------+--------+-------------------+-------------------+-------+-------+------------------+-----------+------------+----------------+-------+----------+\n",
      "|     1513|2015-01-01 00:00:00|        4|         1|        1|     AA|   ATL| DFW|   731.0|    -2.0|    -7.0|2015-01-01 10:45:00|2015-01-01 12:15:00|ATL-DFW| N008AA|             Empty|      Empty|       Empty|           Empty|  Empty|     Empty|\n",
      "|     1455|2015-01-01 00:00:00|        4|         1|        1|     AA|   ATL| DFW|   731.0|    -4.0|   -14.0|2015-01-01 08:55:00|2015-01-01 10:25:00|ATL-DFW| N012AA|             Empty|      Empty|       Empty|           Empty|  Empty|     Empty|\n",
      "|      903|2015-01-01 00:00:00|        4|         1|        1|     AA|   LAX| EGE|   748.0|    -7.0|    16.0|2015-01-01 08:30:00|2015-01-01 11:45:00|LAX-EGE| N017AA|             Empty|      Empty|       Empty|           Empty|  Empty|     Empty|\n",
      "|     2413|2015-01-01 00:00:00|        4|         1|        1|     AA|   DFW| LAX|  1235.0|   128.0|   129.0|2015-01-01 08:00:00|2015-01-01 09:30:00|DFW-LAX| N357AA|             Empty|      Empty|       Empty|           Empty|  Empty|     Empty|\n",
      "|     1044|2015-01-01 00:00:00|        4|         1|        1|     AA|   ORD| MIA|  1197.0|    -7.0|   -25.0|2015-01-01 12:10:00|2015-01-01 16:16:00|ORD-MIA| N389AA|                GE| CF6-80C2A1|      BOEING|            1995|767-323|     TEXAS|\n",
      "+---------+-------------------+---------+----------+---------+-------+------+----+--------+--------+--------+-------------------+-------------------+-------+-------+------------------+-----------+------------+----------------+-------+----------+\n",
      "only showing top 5 rows\n",
      "\n"
     ]
    }
   ],
   "source": [
    "# Load airplanes and left join on tail numbers\n",
    "airplanes_path = \"../data/airplanes.json\"\n",
    "airplanes = spark.read.json(airplanes_path)\n",
    "\n",
    "# Left outer join ensures all feature records remain, with nulls where airplane records are not available\n",
    "features_with_airplanes = timestamp_df.join(\n",
    "  airplanes,\n",
    "  on=timestamp_df.FeatureTailNum == airplanes.TailNum,\n",
    "  how=\"left_outer\"\n",
    ")\n",
    "\n",
    "# Fill in the nulls 'Empty' with COALESCE\n",
    "features_with_airplanes = features_with_airplanes.selectExpr(\n",
    "  \"FlightNum\",\n",
    "  \"FlightDate\",\n",
    "  \"DayOfWeek\",\n",
    "  \"DayOfMonth\",\n",
    "  \"DayOfYear\",\n",
    "  \"Carrier\",\n",
    "  \"Origin\",\n",
    "  \"Dest\",\n",
    "  \"Distance\",\n",
    "  \"DepDelay\",\n",
    "  \"ArrDelay\",\n",
    "  \"CRSDepTime\",\n",
    "  \"CRSArrTime\",\n",
    "  \"Route\",\n",
    "  \"FeatureTailNum AS TailNum\",\n",
    "  \"COALESCE(EngineManufacturer, 'Empty') AS EngineManufacturer\",\n",
    "  \"COALESCE(EngineModel, 'Empty') AS EngineModel\",\n",
    "  \"COALESCE(Manufacturer, 'Empty') AS Manufacturer\",\n",
    "  \"COALESCE(ManufacturerYear, 'Empty') AS ManufacturerYear\",\n",
    "  \"COALESCE(Model, 'Empty') AS Model\",\n",
    "  \"COALESCE(OwnerState, 'Empty') AS OwnerState\"\n",
    ")\n",
    "features_with_airplanes.show(5)"
   ]
  },
  {
   "cell_type": "code",
   "execution_count": 57,
   "metadata": {
    "collapsed": true
   },
   "outputs": [],
   "source": [
    "# Explicitly sort the data and keep it sorted throughout. Leave nothing to chance.\n",
    "sorted_features = features_with_airplanes.sort(\n",
    "  timestamp_df.DayOfYear,\n",
    "  timestamp_df.Carrier,\n",
    "  timestamp_df.Origin,\n",
    "  timestamp_df.Dest,\n",
    "  timestamp_df.FlightNum,\n",
    "  timestamp_df.CRSDepTime,\n",
    "  timestamp_df.CRSArrTime,\n",
    ")"
   ]
  },
  {
   "cell_type": "code",
   "execution_count": 58,
   "metadata": {
    "collapsed": true
   },
   "outputs": [],
   "source": [
    "# Store as a single json file\n",
    "output_path = \"../data/simple_flight_delay_features_airplanes.json\"\n",
    "sorted_features.repartition(1).write.mode(\"overwrite\").json(output_path)"
   ]
  },
  {
   "cell_type": "code",
   "execution_count": null,
   "metadata": {
    "collapsed": true
   },
   "outputs": [],
   "source": []
  }
 ],
 "metadata": {
  "kernelspec": {
   "display_name": "Python 3",
   "language": "python",
   "name": "python3"
  },
  "language_info": {
   "codemirror_mode": {
    "name": "ipython",
    "version": 3
   },
   "file_extension": ".py",
   "mimetype": "text/x-python",
   "name": "python",
   "nbconvert_exporter": "python",
   "pygments_lexer": "ipython3",
   "version": "3.6.4"
  }
 },
 "nbformat": 4,
 "nbformat_minor": 2
}
