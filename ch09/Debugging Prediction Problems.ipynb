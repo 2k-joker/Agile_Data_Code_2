{
 "cells": [
  {
   "cell_type": "code",
   "execution_count": 14,
   "metadata": {
    "collapsed": true
   },
   "outputs": [],
   "source": [
    "import sys, os, re\n",
    "import json\n",
    "import datetime, iso8601\n",
    "\n",
    "base_path = \"..\""
   ]
  },
  {
   "cell_type": "markdown",
   "metadata": {},
   "source": [
    "## Setup PySpark Environment"
   ]
  },
  {
   "cell_type": "code",
   "execution_count": 15,
   "metadata": {
    "collapsed": true
   },
   "outputs": [],
   "source": [
    "APP_NAME = \"Debugging Prediction Problems\"\n",
    "\n",
    "# If there is no SparkSession, create the environment\n",
    "try:\n",
    "  sc and spark\n",
    "except NameError as e:\n",
    "  import findspark\n",
    "  findspark.init()\n",
    "  import pyspark\n",
    "  import pyspark.sql\n",
    "\n",
    "  sc = pyspark.SparkContext()\n",
    "  spark = pyspark.sql.SparkSession(sc).builder.appName(APP_NAME).getOrCreate()"
   ]
  },
  {
   "cell_type": "markdown",
   "metadata": {},
   "source": [
    "## Load Training DataFrame"
   ]
  },
  {
   "cell_type": "code",
   "execution_count": 19,
   "metadata": {
    "collapsed": false
   },
   "outputs": [
    {
     "name": "stdout",
     "output_type": "stream",
     "text": [
      "+--------+--------------------+--------------------+-------+--------+------+----+----------+---------+--------+\n",
      "|ArrDelay|          CRSArrTime|          CRSDepTime|Carrier|DepDelay|Origin|Dest|FlightDate|FlightNum|Distance|\n",
      "+--------+--------------------+--------------------+-------+--------+------+----+----------+---------+--------+\n",
      "|    13.0|2015-01-01 10:10:...|2015-01-01 07:30:...|     AA|    14.0|   ABQ| DFW|2014-12-31|     1024|   569.0|\n",
      "|    17.0|2015-01-01 02:15:...|2014-12-31 23:25:...|     AA|    14.0|   ABQ| DFW|2014-12-31|     1184|   569.0|\n",
      "|    36.0|2015-01-01 03:45:...|2015-01-01 01:00:...|     AA|    -2.0|   ABQ| DFW|2014-12-31|      336|   569.0|\n",
      "|   -21.0|2015-01-01 11:30:...|2015-01-01 09:55:...|     AA|    -1.0|   ATL| DFW|2014-12-31|      125|   731.0|\n",
      "|   -14.0|2015-01-01 02:25:...|2015-01-01 00:55:...|     AA|    -4.0|   ATL| DFW|2014-12-31|     1455|   731.0|\n",
      "|    16.0|2015-01-01 07:15:...|2015-01-01 05:45:...|     AA|    15.0|   ATL| DFW|2014-12-31|     1473|   731.0|\n",
      "|    -7.0|2015-01-01 04:15:...|2015-01-01 02:45:...|     AA|    -2.0|   ATL| DFW|2014-12-31|     1513|   731.0|\n",
      "|    13.0|2015-01-01 08:50:...|2015-01-01 07:25:...|     AA|     9.0|   ATL| DFW|2014-12-31|      194|   731.0|\n",
      "|    25.0|2015-01-01 12:30:...|2015-01-01 11:00:...|     AA|    -2.0|   ATL| DFW|2014-12-31|      232|   731.0|\n",
      "|    58.0|2015-01-01 13:40:...|2015-01-01 12:15:...|     AA|    14.0|   ATL| DFW|2014-12-31|      276|   731.0|\n",
      "|    14.0|2015-01-01 05:25:...|2015-01-01 03:55:...|     AA|    15.0|   ATL| DFW|2014-12-31|      314|   731.0|\n",
      "|     1.0|2015-01-01 10:05:...|2015-01-01 08:40:...|     AA|    -5.0|   ATL| DFW|2014-12-31|      356|   731.0|\n",
      "+--------+--------------------+--------------------+-------+--------+------+----+----------+---------+--------+\n",
      "only showing top 12 rows\n",
      "\n"
     ]
    }
   ],
   "source": [
    "from pyspark.sql.types import StringType, IntegerType, FloatType, DoubleType, DateType, TimestampType\n",
    "from pyspark.sql.types import StructType, StructField\n",
    "from pyspark.sql.functions import udf\n",
    "\n",
    "schema = StructType([\n",
    "  StructField(\"ArrDelay\", DoubleType(), True),  # \"ArrDelay\":5.0\n",
    "  StructField(\"CRSArrTime\", TimestampType(), True),  # \"CRSArrTime\":\"2015-12-31T03:20:00.000-08:00\"\n",
    "  StructField(\"CRSDepTime\", TimestampType(), True),  # \"CRSDepTime\":\"2015-12-31T03:05:00.000-08:00\"\n",
    "  StructField(\"Carrier\", StringType(), True),  # \"Carrier\":\"WN\"\n",
    "  StructField(\"DayOfMonth\", IntegerType(), True),  # \"DayOfMonth\":31\n",
    "  StructField(\"DayOfWeek\", IntegerType(), True),  # \"DayOfWeek\":4\n",
    "  StructField(\"DayOfYear\", IntegerType(), True),  # \"DayOfYear\":365\n",
    "  StructField(\"DepDelay\", DoubleType(), True),  # \"DepDelay\":14.0\n",
    "  StructField(\"Dest\", StringType(), True),  # \"Dest\":\"SAN\"\n",
    "  StructField(\"Distance\", DoubleType(), True),  # \"Distance\":368.0\n",
    "  StructField(\"FlightDate\", DateType(), True),  # \"FlightDate\":\"2015-12-30T16:00:00.000-08:00\"\n",
    "  StructField(\"FlightNum\", StringType(), True),  # \"FlightNum\":\"6109\"\n",
    "  StructField(\"Origin\", StringType(), True),  # \"Origin\":\"TUS\"\n",
    "])\n",
    "\n",
    "input_path = \"{}/data/simple_flight_delay_features.json\".format(base_path)\n",
    "\n",
    "features = spark.read.json(\n",
    "  input_path,\n",
    "  schema=schema\n",
    ")\n",
    "features.select(\"ArrDelay\", \"CRSArrTime\", \"CRSDepTime\", \"Carrier\", \"DepDelay\", \n",
    "                \"Origin\", \"Dest\", \"FlightDate\", \"FlightNum\", \"Distance\").show(12)"
   ]
  },
  {
   "cell_type": "markdown",
   "metadata": {
    "collapsed": true
   },
   "source": [
    "## Reproduce the ArrDelay Bucketing"
   ]
  },
  {
   "cell_type": "code",
   "execution_count": 21,
   "metadata": {
    "collapsed": false
   },
   "outputs": [
    {
     "name": "stdout",
     "output_type": "stream",
     "text": [
      "+--------+--------------+\n",
      "|ArrDelay|ArrDelayBucket|\n",
      "+--------+--------------+\n",
      "|    13.0|           0.0|\n",
      "|    17.0|           1.0|\n",
      "|    36.0|           1.0|\n",
      "|   -21.0|           0.0|\n",
      "|   -14.0|           0.0|\n",
      "|    16.0|           1.0|\n",
      "|    -7.0|           0.0|\n",
      "|    13.0|           0.0|\n",
      "|    25.0|           1.0|\n",
      "|    58.0|           1.0|\n",
      "+--------+--------------+\n",
      "only showing top 10 rows\n",
      "\n"
     ]
    }
   ],
   "source": [
    "# Load the arrival delay bucketizer\n",
    "from pyspark.ml.feature import Bucketizer\n",
    "\n",
    "# Load the departure delay bucketizer\n",
    "arrival_bucketizer_path = \"{}/models/arrival_bucketizer.bin\".format(base_path)\n",
    "arrival_bucketizer = Bucketizer.load(arrival_bucketizer_path)\n",
    "\n",
    "# Bucketize the departure and arrival delays for classification\n",
    "ml_bucketized_features = arrival_bucketizer.transform(features)\n",
    "ml_bucketized_features.select(\"ArrDelay\", \"ArrDelayBucket\").show(10)"
   ]
  },
  {
   "cell_type": "markdown",
   "metadata": {},
   "source": [
    "## Check the `ArrDelayBucket` Distribution"
   ]
  },
  {
   "cell_type": "code",
   "execution_count": 23,
   "metadata": {
    "collapsed": false
   },
   "outputs": [
    {
     "name": "stdout",
     "output_type": "stream",
     "text": [
      "+--------------+-------+---------+\n",
      "|ArrDelayBucket|  Total|Total_Pct|\n",
      "+--------------+-------+---------+\n",
      "|           0.0|4650569|    81.39|\n",
      "|           1.0| 737848|    12.91|\n",
      "|           2.0| 325591|      5.7|\n",
      "+--------------+-------+---------+\n",
      "\n"
     ]
    }
   ],
   "source": [
    "# Check the frequency of each category\n",
    "ml_bucketized_features.registerTempTable(\"ml_bucketized_features\")\n",
    "\n",
    "spark.sql(\n",
    "\"\"\"\n",
    "SELECT\n",
    "  ArrDelayBucket,\n",
    "  COUNT(*) AS Total,\n",
    "  ROUND(\n",
    "    100 * (COUNT(*)/(SELECT COUNT(*) FROM ml_bucketized_features)),\n",
    "    2\n",
    "  ) AS Total_Pct\n",
    "FROM ml_bucketized_features\n",
    "GROUP BY ArrDelayBucket\n",
    "\"\"\"\n",
    ").show()"
   ]
  },
  {
   "cell_type": "markdown",
   "metadata": {},
   "source": [
    "The results are pretty skewed, with 81.4% in `ArrDelayBucket` `0.0`. Note that our model always predicts `0.0`..."
   ]
  },
  {
   "cell_type": "markdown",
   "metadata": {},
   "source": [
    "## Sampling `ArrDelayBucket` `0.0`\n",
    "Lets take a look at some example values in the largest bucket, bucket `0.0`. Lets sample it before we inspect it."
   ]
  },
  {
   "cell_type": "code",
   "execution_count": 26,
   "metadata": {
    "collapsed": false
   },
   "outputs": [
    {
     "name": "stdout",
     "output_type": "stream",
     "text": [
      "+--------+--------------+\n",
      "|ArrDelay|ArrDelayBucket|\n",
      "+--------+--------------+\n",
      "|   -31.0|           0.0|\n",
      "|   -26.0|           0.0|\n",
      "|    -7.0|           0.0|\n",
      "|    -9.0|           0.0|\n",
      "|    -7.0|           0.0|\n",
      "|     6.0|           0.0|\n",
      "|     0.0|           0.0|\n",
      "|    -2.0|           0.0|\n",
      "|   -15.0|           0.0|\n",
      "|   -21.0|           0.0|\n",
      "|    -5.0|           0.0|\n",
      "|    10.0|           0.0|\n",
      "|   -13.0|           0.0|\n",
      "|   -21.0|           0.0|\n",
      "|   -21.0|           0.0|\n",
      "+--------+--------------+\n",
      "only showing top 15 rows\n",
      "\n"
     ]
    }
   ],
   "source": [
    "# Check out some values from the field\n",
    "spark.sql(\"SELECT ArrDelay, ArrDelayBucket \"\n",
    "          \"FROM ml_bucketized_features \"\n",
    "          \"WHERE ArrDelayBucket == 0.0\")\\\n",
    "  .sample(False, 0.01, 11).show(15)"
   ]
  },
  {
   "cell_type": "markdown",
   "metadata": {},
   "source": [
    "There looks to be a pretty broad range of values in `ArrDelayBucket` `0.0`..."
   ]
  },
  {
   "cell_type": "markdown",
   "metadata": {},
   "source": [
    "## Computing `ArrDelayBucket` Scope\n",
    "Lets look at the `MIN` and `MAX` values of `ArrDelay` in `ArrDelayBucket` `0.0`."
   ]
  },
  {
   "cell_type": "code",
   "execution_count": 27,
   "metadata": {
    "collapsed": false
   },
   "outputs": [
    {
     "name": "stdout",
     "output_type": "stream",
     "text": [
      "+-------------+-------------+\n",
      "|min(ArrDelay)|max(ArrDelay)|\n",
      "+-------------+-------------+\n",
      "|        -87.0|         14.0|\n",
      "+-------------+-------------+\n",
      "\n"
     ]
    }
   ],
   "source": [
    "# Check out the min/max for the field\n",
    "spark.sql(\"SELECT MIN(ArrDelay), MAX(ArrDelay) \"\n",
    "          \"FROM ml_bucketized_features \"\n",
    "          \"WHERE ArrDelayBucket == 0.0\").show()"
   ]
  },
  {
   "cell_type": "markdown",
   "metadata": {},
   "source": [
    "There is a range of 101 in this bucket. This encodes a large range... from 14 minute late all the way to over an hour early."
   ]
  },
  {
   "cell_type": "markdown",
   "metadata": {},
   "source": [
    "## Histogram of `ArrDelay` in `ArrDelayBucket` `0.0`\n",
    "Now, what is the distribution of values in `ArrDelayBucket` `0.0`? I want to get a sense of what this bucket encodes. We can filter to a relation with only `ArrDelayBucket` values of `0.0`, convert our `DataFrame` to an `RDD` and then use the [`RDD.histogram()`](http://spark.apache.org/docs/latest/api/python/pyspark.html#pyspark.RDD.histogram) function to get the raw data for our histogram. "
   ]
  },
  {
   "cell_type": "markdown",
   "metadata": {},
   "source": [
    "### Baseline Histgoram of Overall Data\n",
    "First, however, I need the histogram of the entire range of data to compare this to. We need to supply our own buckets, or the histogram is hard to interpret."
   ]
  },
  {
   "cell_type": "code",
   "execution_count": 28,
   "metadata": {
    "collapsed": false
   },
   "outputs": [
    {
     "data": {
      "text/plain": [
       "([-87.0, -60, -30, -15, 0, 15, 30, 60, 120],\n",
       " [392, 108707, 989113, 2402687, 1149670, 412835, 325013, 211171])"
      ]
     },
     "execution_count": 28,
     "metadata": {},
     "output_type": "execute_result"
    }
   ],
   "source": [
    "# Look at overall histogram\n",
    "ml_bucketized_features\\\n",
    "  .select(\"ArrDelay\")\\\n",
    "  .rdd\\\n",
    "  .flatMap(lambda x: x)\\\n",
    "  .histogram([-87.0, -60, -30, -15, 0, 15, 30, 60, 120])"
   ]
  },
  {
   "cell_type": "markdown",
   "metadata": {},
   "source": [
    "### Creating a PyPlot Bar Chart\n",
    "We must use [matplotlib.pyplot.bar](http://matplotlib.org/api/pyplot_api.html#matplotlib.pyplot.bar) instead of [matplotlib.pyplot.hist](http://matplotlib.org/api/pyplot_api.html#matplotlib.pyplot.hist) because we have already computed our bins and their weights."
   ]
  },
  {
   "cell_type": "code",
   "execution_count": 58,
   "metadata": {
    "collapsed": false
   },
   "outputs": [
    {
     "data": {
      "image/png": "[encoded data removed]",
      "text/plain": [
       "<matplotlib.figure.Figure at 0x111cad160>"
      ]
     },
     "metadata": {},
     "output_type": "display_data"
    }
   ],
   "source": [
    "%matplotlib inline\n",
    "\n",
    "import numpy as np\n",
    "import matplotlib.mlab as mlab\n",
    "import matplotlib.pyplot as plt\n",
    "\n",
    "# Look at overall histogram\n",
    "data_tuple = ml_bucketized_features\\\n",
    "  .select(\"ArrDelay\")\\\n",
    "  .rdd\\\n",
    "  .flatMap(lambda x: x)\\\n",
    "  .histogram([-87.0, -60, -30, -15, 0, 15, 30, 60, 120])\n",
    "\n",
    "heights = np.array(data_tuple[1])\n",
    "\n",
    "# The bins are 1 > length than the values\n",
    "full_bins = data_tuple[0]\n",
    "\n",
    "# Bars are drawn from the left\n",
    "mid_point_bins = full_bins[:-1]\n",
    "\n",
    "# The width of a bar should be the range it maps in the data\n",
    "widths = [abs(i - j) for i, j in zip(full_bins[:-1], full_bins[1:])]\n",
    "\n",
    "# And now the bar should plot nicely\n",
    "bar = plt.bar(mid_point_bins, weights, width=widths, color='b')"
   ]
  },
  {
   "cell_type": "markdown",
   "metadata": {},
   "source": [
    "We can see here that there is a strong mean in our data around 0-15, and that most of the data was falling either in `ArrDelayBucket` `0.0` or very nearly so in the next bin. This must make the bins hard to reckon for the classifier."
   ]
  },
  {
   "cell_type": "code",
   "execution_count": null,
   "metadata": {
    "collapsed": true
   },
   "outputs": [],
   "source": []
  }
 ],
 "metadata": {
  "anaconda-cloud": {},
  "kernelspec": {
   "display_name": "Python [conda root]",
   "language": "python",
   "name": "conda-root-py"
  },
  "language_info": {
   "codemirror_mode": {
    "name": "ipython",
    "version": 3
   },
   "file_extension": ".py",
   "mimetype": "text/x-python",
   "name": "python",
   "nbconvert_exporter": "python",
   "pygments_lexer": "ipython3",
   "version": "3.5.2"
  }
 },
 "nbformat": 4,
 "nbformat_minor": 1
}
